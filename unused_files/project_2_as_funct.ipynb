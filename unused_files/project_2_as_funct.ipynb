{
 "cells": [
  {
   "cell_type": "markdown",
   "id": "f8cc77e6-3a58-4d29-af0f-825e3e52da3f",
   "metadata": {},
   "source": [
    "### This file contains the order of steps I use to process the data to begin feature engineering and modeling. I created to functions to ensure predictable behavior and to speed up the process of creating models and submitting to kaggle"
   ]
  },
  {
   "cell_type": "code",
   "execution_count": 5,
   "id": "e86168b5-b651-4682-9ee8-70f9e3ec996b",
   "metadata": {
    "tags": []
   },
   "outputs": [],
   "source": [
    "def map_home(df):\n",
    "    houses.columns =houses.columns.str.lower().str.replace(' ','_')# makes things easier for me\n",
    "    # fence column was split into two ad the original was dropped \n",
    "    df = df.drop(columns=['id','pid'])\n",
    "    df['fence_private']= df['fence'].map({'GdPrv':2,'MnPrv':1,'GdWo':0,'MnWw':0,np.nan:0})\n",
    "    df['fence_wood'] = df['fence'].map({'GdPrv':0,'MnPrv':0,'GdWo':2,'MnWw':1,np.nan:0})\n",
    "    df.drop(columns=['fence'], inplace=True)\n",
    "    # this function is based off of wild assumptions by me. The value of the ordinal variables here relative to eachother is an educated guess\n",
    "    df['garage_finish']= df['garage_finish'].map({'Unf':.5,'RFn':1,'Fin':2,np.nan:0})\n",
    "    df['garage_qual']= df['garage_qual'].map({'Po':0,'Fa':.5,'TA':1,'Ex':2,'Gd':1.5,np.nan:0})\n",
    "    df['garage_cond']= df['garage_cond'].map({'Po':-.5,'Fa':.5,'TA':1,'Ex':2,'Gd':1.5,np.nan:0})\n",
    "    df['bsmtfin_type_2']= df['bsmtfin_type_2'].map({'Unf':.5,'Rec':1.5,'LwQ':1,'BLQ':2,'ALQ':2.5,'GLQ':3,np.nan:0}) # i have decided to make these ordinal!\n",
    "    df['bsmtfin_type_1']= df['bsmtfin_type_1'].map({'Unf':.5,'Rec':1.5,'LwQ':1,'BLQ':2,'ALQ':2.5,'GLQ':3,np.nan:0}) # i have decided to make these ordinal!\n",
    "    df['fireplace_qu']=df['fireplace_qu'].map({'Ex':2,'Gd':1.5,'TA':1,'Fa':.5,'Po':.25,np.nan:0})\n",
    "    df['bsmt_qual']=df['bsmt_qual'].map({'Ex':2,'Gd':1.5,'TA':1,'Fa':.5,'Po':.25,np.nan:0})\n",
    "    df['bsmt_cond']=df['bsmt_cond'].map({'Ex':2,'Gd':1.5,'TA':1,'Fa':.5,'Po':.25,np.nan:0})\n",
    "    df['pool_qc']=df['pool_qc'].map({'Gd':1.5,'Fa':.5,'TA':1,'Ex':2,np.nan:0}) \n",
    "    df['lot_shape']=df['lot_shape'].map({'Reg':2,'IR1':1,'IR2':1,'IR3':.5,np.nan:0})\n",
    "    df['land_contour']=df['land_contour'].map({'lvl':2,'HLS':1,'Bnk':1,'Low':.5,np.nan:0})\n",
    "    df['exter_qual']= df['exter_qual'].map({'Po':0,'Fa':.5,'TA':1,'Ex':2,'Gd':1.5,np.nan:0})\n",
    "    df['exter_cond']= df['exter_cond'].map({'Po':0,'Fa':.5,'TA':1,'Ex':2,'Gd':1.5,np.nan:0})\n",
    "    df['heating_qc']= df['heating_qc'].map({'Po':0,'Fa':.5,'TA':1,'Ex':2,'Gd':1.5,np.nan:0})\n",
    "    df['kitchen_qual']= df['kitchen_qual'].map({'Po':0,'Fa':.5,'TA':1,'Ex':2,'Gd':1.5,np.nan:0})\n",
    "    df['functional']=df['functional'].map({'Typ':8,'Min1':7,'Min2':6,'Mod':5,'Maj1':4,'Maj2':3,'Sev':2,'Sal':1}) # this could be catagorical but i will try to ordinalize it here\n",
    "    return df.copy()"
   ]
  },
  {
   "cell_type": "code",
   "execution_count": 3,
   "id": "ce6d79cf-1e25-4cfd-b5c4-1e0dcd20a992",
   "metadata": {
    "tags": []
   },
   "outputs": [],
   "source": [
    "def numeric_houses(df):\n",
    "    df['mas_vnr_area'] = np.where(df['mas_vnr_area'].isna(),0,df['mas_vnr_area'].astype(float)) \n",
    "    df['bsmt_full_bath']=np.where(df['bsmt_full_bath'].isna(),0,df['bsmt_full_bath'].astype(float)) \n",
    "    df['bsmt_half_bath']=np.where(df['bsmt_half_bath'].isna(),0,df['bsmt_half_bath'].astype(float)) \n",
    "    df['bsmtfin_sf_1']=np.where(df['bsmtfin_sf_1'].isna(),0,df['bsmtfin_sf_1'].astype(float)) \n",
    "    df['bsmtfin_sf_2']=np.where(df['bsmtfin_sf_2'].isna(),0,df['bsmtfin_sf_2'].astype(float)) \n",
    "    df['bsmt_unf_sf']=np.where(df['bsmt_unf_sf'].isna(),0,df['bsmt_unf_sf'].astype(float)) \n",
    "    df['total_bsmt_sf']=np.where(df['total_bsmt_sf'].isna(),0,df['total_bsmt_sf'].astype(float)) \n",
    "    df['lot_frontage'] = np.where(df['lot_frontage'].isna(),0,df['lot_frontage'].astype(float)) \n",
    "    df['garage_area'] = np.where(df['garage_area'].isna(),0,df['garage_area'].astype(float)) \n",
    "    df['garage_yr_blt'] = np.where(df['garage_yr_blt'].isna(),0,df['garage_yr_blt'].astype(float))  \n",
    "    df['garage_cars']=np.where(df['garage_cars'].isna(),0,df['garage_cars'].astype(float)) \n",
    "    return df.copy()"
   ]
  },
  {
   "cell_type": "code",
   "execution_count": 4,
   "id": "88261842-9f48-4a8d-81b0-493c19507f6a",
   "metadata": {
    "tags": []
   },
   "outputs": [],
   "source": [
    "def dummy_houses(df):\n",
    "    houses_dummy_1= pd.get_dummies(data=houses,columns=['mas_vnr_type','bsmt_exposure','garage_type','alley','misc_feature','land_contour'], drop_first=True,dummy_na=True)\n",
    "    # this group of columns has nan values that I am not comfortable calling 0\n",
    "\n",
    "    houses_dummy_2= pd.get_dummies(data=houses_dummy_1,columns=['ms_subclass','ms_zoning','street','neighborhood','condition_2','bldg_type',\n",
    "                                                            'house_style','roof_style','roof_matl','exterior_1st','exterior_2nd','foundation',\n",
    "                                                           'central_air','electrical','sale_type','condition_1','utilities','lot_config','land_slope',\n",
    "                                                           'heating','paved_drive'], drop_first=True)\n",
    "    return houses_dummy_2.copy()"
   ]
  },
  {
   "cell_type": "code",
   "execution_count": null,
   "id": "c0805ddf-ad8b-42ca-866b-963d7f5a2559",
   "metadata": {},
   "outputs": [],
   "source": [
    "#def kaggle_ready_maker(trained_model_choice,X_test,)"
   ]
  },
  {
   "cell_type": "markdown",
   "id": "d22aefcc-30e8-4162-b32e-e18497f38ae6",
   "metadata": {},
   "source": [
    "def exctract_Xy_hoses(df):\n",
    "    X= df.drop(columns=['saleprice'])\n",
    "    y=df['saleprice']\n",
    "    return X, y"
   ]
  },
  {
   "cell_type": "markdown",
   "id": "e3cdaa25-52cc-4007-a0f2-4f8338ea1dfc",
   "metadata": {},
   "source": [
    "def train_test_houses(X,y): #\n",
    "    X_train, X_test, y_train, y_test = train_test_split()\n",
    "    "
   ]
  },
  {
   "cell_type": "code",
   "execution_count": null,
   "id": "5d200acc-71c3-4f0e-a6bd-454c3a0a2326",
   "metadata": {},
   "outputs": [],
   "source": [
    "pgrid = {\n",
    "    'lr__penalty'  : ['l1','l2'],\n",
    "    'lr__C' : np.logspace(-2,0,100)\n",
    "}"
   ]
  },
  {
   "cell_type": "code",
   "execution_count": 13,
   "id": "3fe1accc-46b5-41c4-aa43-147bd8e99e5a",
   "metadata": {
    "tags": []
   },
   "outputs": [],
   "source": [
    "# lot_area stays but now make lot_area_value which depends on: lot_shape \n",
    "houses3['lot_area_shape'] = houses3['lot_area']*houses3['lot_shape']\n",
    "houses3['lot_area_frontage']=houses3['lot_area']*houses3['lot_frontage']\n",
    "\n",
    "\n",
    "# garages: Area: 'garage_finish',garage_qual,garage_cond, \n",
    "houses3['garage_area_qual']=houses3['garage_area']*houses3['garage_qual']\n",
    "houses3['garage_area_cond']=houses3['garage_area']*houses3['garage_cond']\n",
    "houses3['garage_area_finish']=houses3['garage_area']*houses3['garage_finish']\n",
    "houses3['garage_area_garage_type_Attchd']=houses3['garage_area']*houses3['garage_type_Attchd']*houses3['garage_cond']# my hypothesis is that the condition for the types of features is more important than quality as that could be biased based on\n",
    "houses3['garage_area_garage_type_Basment']=houses3['garage_area']*houses3['garage_type_Basment']*houses3['garage_cond']\n",
    "houses3['garage_area_garage_type_BuiltIn']=houses3['garage_area']*houses3['garage_type_BuiltIn']*houses3['garage_cond']\n",
    "houses3['garage_area_garage_type_CarPort']=houses3['garage_area']*houses3['garage_type_CarPort']*houses3['garage_cond']\n",
    "houses3['garage_area_garage_type_Detchd']=houses3['garage_area']*houses3['garage_type_Detchd']*houses3['garage_cond']\n",
    "\n",
    "\n",
    "# fireplaces: fireplace_qu\n",
    "houses3['fireplaces_count_qu']=houses3['fireplaces']*houses3['fireplace_qu']\n",
    "\n",
    "# exterior:exter_qual,exter_cond\n",
    "houses3['exterior_1st_AsphShn_cond']=houses3['exterior_1st_AsphShn']*houses3['exter_cond']\n",
    "houses3['exterior_1st_BrkComm_cond']=houses3['exterior_1st_BrkComm']*houses3['exter_cond']\n",
    "houses3['exterior_1st_BrkFace_cond']=houses3['exterior_1st_BrkFace']*houses3['exter_cond']\n",
    "houses3['exterior_1st_CBlock_cond']=houses3['exterior_1st_CBlock']*houses3['exter_cond']\n",
    "houses3['exterior_1st_CemntBd_cond']=houses3['exterior_1st_CemntBd']*houses3['exter_cond']\n",
    "houses3['exterior_1st_HdBoard_cond']=houses3['exterior_1st_HdBoard']*houses3['exter_cond']\n",
    "houses3['exterior_1st_ImStucc_cond']=houses3['exterior_1st_ImStucc']*houses3['exter_cond']\n",
    "houses3['exterior_1st_MetalSd_cond']=houses3['exterior_1st_MetalSd']*houses3['exter_cond']\n",
    "houses3['exterior_1st_Plywood_cond']=houses3['exterior_1st_Plywood']*houses3['exter_cond']\n",
    "houses3['exterior_1st_Stone_cond']=houses3['exterior_1st_Stone']*houses3['exter_cond']\n",
    "houses3['exterior_1st_Stucco_cond']=houses3['exterior_1st_Stucco']*houses3['exter_cond']\n",
    "houses3['exterior_1st_VinylSd_cond']=houses3['exterior_1st_VinylSd']*houses3['exter_cond']\n",
    "houses3['exterior_1st_Wd Sdng_cond']=houses3['exterior_1st_Wd Sdng']*houses3['exter_cond']\n",
    "houses3['exterior_1st_WdShing_cond']=houses3['exterior_1st_WdShing']*houses3['exter_cond']\n",
    "\n",
    "houses3['exterior_2nd_AsphShn_cond']=houses3['exterior_2nd_AsphShn']*houses3['exter_cond']\n",
    "houses3['exterior_2nd_BrkComm_cond']=houses3['exterior_2nd_Brk Cmn']*houses3['exter_cond']\n",
    "houses3['exterior_2nd_BrkFace_cond']=houses3['exterior_2nd_BrkFace']*houses3['exter_cond']\n",
    "houses3['exterior_2nd_CBlock_cond']=houses3['exterior_2nd_CBlock']*houses3['exter_cond']\n",
    "houses3['exterior_2nd_CemntBd_cond']=houses3['exterior_2nd_CmentBd']*houses3['exter_cond']\n",
    "houses3['exterior_2nd_HdBoard_cond']=houses3['exterior_2nd_HdBoard']*houses3['exter_cond']\n",
    "houses3['exterior_2nd_ImStucc_cond']=houses3['exterior_2nd_ImStucc']*houses3['exter_cond']\n",
    "houses3['exterior_2nd_MetalSd_cond']=houses3['exterior_2nd_MetalSd']*houses3['exter_cond']\n",
    "houses3['exterior_2nd_Plywood_cond']=houses3['exterior_2nd_Plywood']*houses3['exter_cond']\n",
    "houses3['exterior_2nd_Stone_cond']=houses3['exterior_2nd_Stone']*houses3['exter_cond']\n",
    "houses3['exterior_2nd_Stucco_cond']=houses3['exterior_2nd_Stucco']*houses3['exter_cond']\n",
    "houses3['exterior_2nd_VinylSd_cond']=houses3['exterior_2nd_VinylSd']*houses3['exter_cond']\n",
    "houses3['exterior_2nd_Wd Sdng_cond']=houses3['exterior_2nd_Wd Sdng']*houses3['exter_cond']\n",
    "houses3['exterior_2nd_WdShing_cond']=houses3['exterior_2nd_Wd Shng']*houses3['exter_cond']\n",
    "\n",
    "\n",
    "# bsmtfin_sf_1 : bsmtfin_type_1, \n",
    "houses3['bsmt_sf_qual_type_1']=houses3['bsmtfin_sf_1']*houses3['bsmtfin_type_1']\n",
    "# bsmtfin_sf_2: bsmtfin_type_2, \n",
    "houses3['bsmt_sf_qual_type_2']=houses3['bsmtfin_sf_2']*houses3['bsmtfin_type_2']\n",
    "#bsmt_unf_sf: bsmt_qual, bsmt_cond \n",
    "houses3['bsmt_unf_sf_qual']=houses3['bsmt_unf_sf']*houses3['bsmt_qual']\n",
    "houses3['bsmt_total_sf_cond']=houses3['total_bsmt_sf']*houses3['bsmt_cond']\n",
    "#total_bsmt_sf: bsmt_qual, bsmt_cond \n",
    "houses3['bsmt_total_sf_qual']=houses3['total_bsmt_sf']*houses3['bsmt_qual']\n",
    "houses3['bsmt_total_sf_cond']=houses3['total_bsmt_sf']*houses3['bsmt_cond']"
   ]
  },
  {
   "cell_type": "code",
   "execution_count": 14,
   "id": "6ef45810-9481-4042-9146-c69249a18699",
   "metadata": {
    "tags": []
   },
   "outputs": [
    {
     "data": {
      "text/plain": [
       "(2051, 267)"
      ]
     },
     "execution_count": 14,
     "metadata": {},
     "output_type": "execute_result"
    }
   ],
   "source": [
    "houses3.shape"
   ]
  },
  {
   "cell_type": "code",
   "execution_count": 15,
   "id": "26c25b9f-cec0-44f1-aac0-d0324ab61e83",
   "metadata": {
    "tags": []
   },
   "outputs": [],
   "source": [
    "#pool\n",
    "houses3['pool_area_gc']=houses3['pool_area']*houses3['pool_qc']\n",
    "houses3['misc_feature_Gar2_val']=houses3['misc_feature_Gar2']*houses3['misc_val']\n",
    "houses3['misc_feature_Othr_val']=houses3['misc_feature_Othr']*houses3['misc_val']\n",
    "houses3['misc_feature_Shed_val']=houses3['misc_feature_Shed']*houses3['misc_val']\n",
    "houses3['misc_feature_TenC_val']=houses3['misc_feature_TenC']*houses3['misc_val']"
   ]
  },
  {
   "cell_type": "code",
   "execution_count": 16,
   "id": "603be1a6-0351-4707-a7b3-569cf9b0a82d",
   "metadata": {
    "tags": []
   },
   "outputs": [],
   "source": [
    "#misc"
   ]
  },
  {
   "cell_type": "code",
   "execution_count": 17,
   "id": "dfa2b97a-7abe-4505-9d08-a8f794113556",
   "metadata": {
    "tags": []
   },
   "outputs": [],
   "source": [
    "houses3['misc_feature_Gar2_val']=houses3['misc_feature_Gar2']*houses3['misc_val']\n",
    "houses3['misc_feature_Othr_val']=houses3['misc_feature_Othr']*houses3['misc_val']\n",
    "houses3['misc_feature_Shed_val']=houses3['misc_feature_Shed']*houses3['misc_val']\n",
    "houses3['misc_feature_TenC_val']=houses3['misc_feature_TenC']*houses3['misc_val']"
   ]
  },
  {
   "cell_type": "code",
   "execution_count": null,
   "id": "6a026e4b-fc20-4e6c-a403-690bffdb1b4e",
   "metadata": {},
   "outputs": [],
   "source": []
  }
 ],
 "metadata": {
  "kernelspec": {
   "display_name": "Python 3 (ipykernel)",
   "language": "python",
   "name": "python3"
  },
  "language_info": {
   "codemirror_mode": {
    "name": "ipython",
    "version": 3
   },
   "file_extension": ".py",
   "mimetype": "text/x-python",
   "name": "python",
   "nbconvert_exporter": "python",
   "pygments_lexer": "ipython3",
   "version": "3.11.4"
  }
 },
 "nbformat": 4,
 "nbformat_minor": 5
}
