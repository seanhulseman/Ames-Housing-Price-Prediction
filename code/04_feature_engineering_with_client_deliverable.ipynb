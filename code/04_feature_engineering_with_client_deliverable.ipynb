{
 "cells": [
  {
   "cell_type": "markdown",
   "id": "fdaf27de-a5d5-48f4-883b-a3987d5c44e8",
   "metadata": {},
   "source": [
    "## Feature Engineering: Housing data project\n",
    "#### I don't really know what feature engineering is but this is where I am implementing my strategy and creating new collumns that are mathematically derived from 1 or more collumns describing an attribute and some measure of that attribute"
   ]
  },
  {
   "cell_type": "code",
   "execution_count": 1,
   "id": "747823aa-88c5-48d8-ac7d-42922b013a18",
   "metadata": {},
   "outputs": [],
   "source": [
    "import pandas as pd\n",
    "import numpy as np\n",
    "from scipy import stats\n",
    "import matplotlib.pyplot as plt\n",
    "from sklearn.model_selection import train_test_split, GridSearchCV\n",
    "from sklearn.linear_model import LinearRegression, LogisticRegression, RidgeCV\n",
    "from sklearn.preprocessing import StandardScaler, OneHotEncoder\n",
    "from sklearn.neighbors import KNeighborsRegressor\n",
    "from sklearn.pipeline import Pipeline\n",
    "from sklearn.compose import ColumnTransformer,make_column_transformer\n",
    "from sklearn.metrics import mean_squared_error\n",
    "from a02_as_funct import map_home, numeric_houses, dummy_houses, multiplier_attempt1, multiplier_attempt2, multiplier_attempt3\n",
    "import seaborn as sns"
   ]
  },
  {
   "cell_type": "markdown",
   "id": "57016a12-f732-4164-a91c-a609306e6d7f",
   "metadata": {},
   "source": [
    "### read raw data"
   ]
  },
  {
   "cell_type": "code",
   "execution_count": 2,
   "id": "3aa5348a-2b16-4924-88c9-52b8b683a6fd",
   "metadata": {
    "tags": []
   },
   "outputs": [],
   "source": [
    "houses = pd.read_csv('../datasets/train.csv')\n",
    "houses.head()\n",
    "houses.columns =houses.columns.str.lower().str.replace(' ','_')\n",
    "\n",
    "y=houses['saleprice']"
   ]
  },
  {
   "cell_type": "markdown",
   "id": "fde3b872-b67b-4007-917a-1d4de378b449",
   "metadata": {},
   "source": [
    "### Clean, map the attribute and modifier collumns when needed, ensure datatypes, ordinally encode\n",
    "#### I built a series of functions that rapidly do this for data shaped like the data we are provided "
   ]
  },
  {
   "cell_type": "code",
   "execution_count": null,
   "id": "b101a48d-fdff-4e78-8bda-c39f84c6aa34",
   "metadata": {
    "tags": []
   },
   "outputs": [],
   "source": []
  },
  {
   "cell_type": "code",
   "execution_count": 3,
   "id": "993d34b2-e040-4ab3-9e89-b2128e5b4bbb",
   "metadata": {},
   "outputs": [],
   "source": [
    "houses1 = map_home(houses.drop(columns=['saleprice']))\n",
    "\n",
    "X0 = numeric_houses(houses1) # not dummified yet\n",
    "X = X0.drop(columns=['pid'])\n",
    "#houses3 = dummy_houses(houses2)"
   ]
  },
  {
   "cell_type": "code",
   "execution_count": null,
   "id": "1f9ff958-a62c-421d-a02b-963781e5d2a9",
   "metadata": {
    "tags": []
   },
   "outputs": [],
   "source": []
  },
  {
   "cell_type": "code",
   "execution_count": null,
   "id": "5bf68083-a20f-45c2-8e5e-3d42023ba07e",
   "metadata": {
    "tags": []
   },
   "outputs": [],
   "source": []
  },
  {
   "cell_type": "code",
   "execution_count": 4,
   "id": "55ccb297-49e6-4d49-9475-784206864970",
   "metadata": {
    "tags": []
   },
   "outputs": [],
   "source": [
    "# redoing this as before for all of X\n",
    "cat_features = ['mas_vnr_type','bsmt_exposure','garage_type','alley','misc_feature',\n",
    "                'land_contour','ms_subclass','ms_zoning','street','neighborhood',\n",
    "                'condition_2','bldg_type', 'house_style','roof_style','roof_matl',\n",
    "                'exterior_1st','exterior_2nd','foundation',\n",
    "                'central_air','electrical','sale_type','condition_1','utilities','lot_config','land_slope',\n",
    "                'heating','paved_drive','mo_sold']\n",
    "ct = ColumnTransformer([('oh', OneHotEncoder(sparse_output=False, handle_unknown='ignore', drop='first'), cat_features)],\n",
    "                       remainder='passthrough')\n",
    "X_trans= ct.fit_transform(X)\n",
    "X_dummy =pd.DataFrame(X_trans,columns=ct.get_feature_names_out())"
   ]
  },
  {
   "cell_type": "code",
   "execution_count": 5,
   "id": "dd0c6f7c-ae70-44ab-9678-e72008ac5ae2",
   "metadata": {},
   "outputs": [
    {
     "data": {
      "text/plain": [
       "'X_multiplied = multiplier_attempt3(X_dummy)\\nsc1 = StandardScaler()\\nX_multiplied_sc=sc1.fit_transform(X_multiplied)'"
      ]
     },
     "execution_count": 5,
     "metadata": {},
     "output_type": "execute_result"
    }
   ],
   "source": [
    "# this is not related to the standard scale process for training data/eda\n",
    "\"\"\"X_multiplied = multiplier_attempt3(X_dummy)\n",
    "sc1 = StandardScaler()\n",
    "X_multiplied_sc=sc1.fit_transform(X_multiplied)\"\"\""
   ]
  },
  {
   "cell_type": "code",
   "execution_count": 6,
   "id": "7488583b-b021-4f5e-a2b1-03df3d9685f2",
   "metadata": {
    "tags": []
   },
   "outputs": [],
   "source": [
    "# Already 1-hot-encoded time to math\n",
    "X_train,X_test,y_train,y_test = train_test_split(X_dummy,y,random_state=512)\n"
   ]
  },
  {
   "cell_type": "code",
   "execution_count": 7,
   "id": "7fea053d-61ac-45d3-bcbc-eefb7d6fb1a8",
   "metadata": {
    "tags": []
   },
   "outputs": [
    {
     "data": {
      "text/plain": [
       "(1538, 230)"
      ]
     },
     "execution_count": 7,
     "metadata": {},
     "output_type": "execute_result"
    }
   ],
   "source": [
    "X_train.shape"
   ]
  },
  {
   "cell_type": "code",
   "execution_count": 8,
   "id": "79210adc-66b3-4c47-a87c-13f2a507e9e8",
   "metadata": {
    "tags": []
   },
   "outputs": [
    {
     "data": {
      "text/plain": [
       "(2051, 230)"
      ]
     },
     "execution_count": 8,
     "metadata": {},
     "output_type": "execute_result"
    }
   ],
   "source": [
    "X_dummy.shape"
   ]
  },
  {
   "cell_type": "markdown",
   "id": "f0344737-c20c-49e5-8e14-9f8e7bcb6f9b",
   "metadata": {},
   "source": [
    "### Now I need to mathematically combine the collumns I mapped out at the start of this "
   ]
  },
  {
   "cell_type": "code",
   "execution_count": 9,
   "id": "780f85fa-723b-4dcb-8e4e-38a0121ddb2b",
   "metadata": {},
   "outputs": [],
   "source": [
    "X_train_multiplied = multiplier_attempt3(X_train)\n",
    "X_test_multiplied = multiplier_attempt3(X_test)"
   ]
  },
  {
   "cell_type": "code",
   "execution_count": 10,
   "id": "1a2a191c-bbc2-43f8-8b00-d166e0eb2e85",
   "metadata": {
    "tags": []
   },
   "outputs": [],
   "source": [
    "## standard scale\n",
    "sc = StandardScaler()\n",
    "X_train_multiplied_sc=sc.fit_transform(X_train_multiplied)\n",
    "X_test_multiplied_sc=sc.transform(X_test_multiplied)"
   ]
  },
  {
   "cell_type": "markdown",
   "id": "c23df4d9-41ef-4899-818d-599779c1b563",
   "metadata": {
    "tags": []
   },
   "source": [
    "## Building a linear model. does very well on the test data with an r2 score of 95%. Does poorly on test data - 54% the model is overfit"
   ]
  },
  {
   "cell_type": "raw",
   "id": "cf7013d0-602f-4396-8b73-4cde308ae06b",
   "metadata": {
    "tags": []
   },
   "source": [
    "\"\"\"X= houses4.drop(columns=['saleprice'])\n",
    "y= houses4.saleprice\n",
    "\"\"\""
   ]
  },
  {
   "cell_type": "raw",
   "id": "8950b5f3-5f15-43a4-81ee-e064bf72f720",
   "metadata": {
    "tags": []
   },
   "source": [
    "y.shape"
   ]
  },
  {
   "cell_type": "raw",
   "id": "20960935-b58a-48ac-808f-ac9d68e1263b",
   "metadata": {
    "tags": []
   },
   "source": [
    "## pipeline?\n",
    "X_train, X_test, y_train, y_test = train_test_split(X,y,random_state=512)"
   ]
  },
  {
   "cell_type": "raw",
   "id": "ed6a5803-4136-4e0d-b325-4fa939d3279a",
   "metadata": {
    "tags": []
   },
   "source": [
    "lr = LinearRegression()"
   ]
  },
  {
   "cell_type": "raw",
   "id": "75bfaee3-44ac-4b9f-bf87-32a2b1ac88c8",
   "metadata": {
    "tags": []
   },
   "source": [
    "lr.fit(X_train,y_train)"
   ]
  },
  {
   "cell_type": "raw",
   "id": "f1176318-118a-4597-ab7b-acb8daab2692",
   "metadata": {
    "tags": []
   },
   "source": [
    "lr.score(X_train,y_train)"
   ]
  },
  {
   "cell_type": "raw",
   "id": "d0f25231-12de-4806-b032-789307814442",
   "metadata": {
    "tags": []
   },
   "source": [
    "lr.score(X_test,y_test)"
   ]
  },
  {
   "cell_type": "markdown",
   "id": "56e9d72d-9893-471e-ac3e-9fb97edce9be",
   "metadata": {},
   "source": [
    "## KnRegression n_neighbors optimization using GridSearchCV\n",
    "#### heavily influenced by lesson 406 at GA-DSI"
   ]
  },
  {
   "cell_type": "code",
   "execution_count": 11,
   "id": "b283caf8-be9f-4ac0-917f-e24a41614ea9",
   "metadata": {
    "tags": []
   },
   "outputs": [],
   "source": [
    "# pgrid= {'n_neighbors':np.arange(2,100)}"
   ]
  },
  {
   "cell_type": "code",
   "execution_count": 12,
   "id": "4fa25f45-1808-41f4-9908-2c1542936303",
   "metadata": {
    "tags": []
   },
   "outputs": [],
   "source": [
    "#knn = KNeighborsRegressor()"
   ]
  },
  {
   "cell_type": "code",
   "execution_count": 13,
   "id": "1582283a-24c2-4f6e-9d4c-a2973ef62f7a",
   "metadata": {
    "tags": []
   },
   "outputs": [],
   "source": [
    "# gs= GridSearchCV(estimator=knn,param_grid=pgrid)\n"
   ]
  },
  {
   "cell_type": "code",
   "execution_count": 14,
   "id": "f5e03a2d-06de-4d20-9872-9712b42fb74f",
   "metadata": {
    "tags": []
   },
   "outputs": [],
   "source": [
    "#%%time\n",
    "#gs.fit(X_train_multiplied_sc,y_train)"
   ]
  },
  {
   "cell_type": "code",
   "execution_count": 15,
   "id": "f11e9fe8-93bd-4667-8af3-6fcd7bf10c78",
   "metadata": {
    "tags": []
   },
   "outputs": [],
   "source": [
    "#gs.score(X_train_multiplied_sc,y_train)"
   ]
  },
  {
   "cell_type": "code",
   "execution_count": 16,
   "id": "3c2175bd-4c01-4dfd-9f95-c54afb24c548",
   "metadata": {
    "tags": []
   },
   "outputs": [],
   "source": [
    "#gs.score(X_test_multiplied_sc,y_test)"
   ]
  },
  {
   "cell_type": "code",
   "execution_count": 17,
   "id": "548579d4-98b3-47cd-9135-54aba1392461",
   "metadata": {
    "tags": []
   },
   "outputs": [],
   "source": [
    "#X_test_multiplied_sc.shape"
   ]
  },
  {
   "cell_type": "code",
   "execution_count": 18,
   "id": "c8fde44f-b409-4590-b967-b55a512e7f47",
   "metadata": {
    "tags": []
   },
   "outputs": [],
   "source": [
    "#gs.best_estimator_"
   ]
  },
  {
   "cell_type": "code",
   "execution_count": null,
   "id": "6cd49117-e107-4731-88fe-b60ecad3ddbf",
   "metadata": {
    "tags": []
   },
   "outputs": [],
   "source": []
  },
  {
   "cell_type": "markdown",
   "id": "94de00fe-1af0-4a24-9605-1ccc1f4e0c57",
   "metadata": {},
   "source": [
    "## Before changes to the mathematical operations i have found 12 is the best k value now processes the entire training dataset, afterwards 4 seems optimal"
   ]
  },
  {
   "cell_type": "code",
   "execution_count": null,
   "id": "1c54eda1-cf9a-40da-9810-974648b74854",
   "metadata": {
    "tags": []
   },
   "outputs": [],
   "source": []
  },
  {
   "cell_type": "code",
   "execution_count": null,
   "id": "b5c8830e-7161-4bdd-9805-481a373ac90e",
   "metadata": {
    "tags": []
   },
   "outputs": [],
   "source": []
  },
  {
   "cell_type": "markdown",
   "id": "9629fa07-cc95-47fa-a68d-a82d197ce40d",
   "metadata": {},
   "source": [
    "## time to deal with confounding variables: parsimony please"
   ]
  },
  {
   "cell_type": "code",
   "execution_count": 19,
   "id": "97db1465-70be-45f5-be15-7da17a994fed",
   "metadata": {
    "tags": []
   },
   "outputs": [],
   "source": [
    "numeric_cols= list(X.corr(numeric_only=True).columns)"
   ]
  },
  {
   "cell_type": "code",
   "execution_count": 20,
   "id": "f0a3fb1c-bcef-4d9f-853a-f66fd1f7f3d2",
   "metadata": {
    "tags": []
   },
   "outputs": [
    {
     "data": {
      "text/plain": [
       "ms_subclass        1\n",
       "lot_frontage       1\n",
       "lot_area           1\n",
       "overall_qual       1\n",
       "overall_cond       1\n",
       "year_built         1\n",
       "year_remod/add     1\n",
       "mas_vnr_area       1\n",
       "exter_qual         1\n",
       "exter_cond         1\n",
       "bsmt_qual          1\n",
       "bsmt_cond          1\n",
       "bsmtfin_type_1     1\n",
       "bsmtfin_sf_1       1\n",
       "bsmtfin_type_2     1\n",
       "bsmtfin_sf_2       1\n",
       "bsmt_unf_sf        1\n",
       "total_bsmt_sf      1\n",
       "heating_qc         1\n",
       "1st_flr_sf         1\n",
       "2nd_flr_sf         1\n",
       "low_qual_fin_sf    1\n",
       "gr_liv_area        1\n",
       "bsmt_full_bath     1\n",
       "bsmt_half_bath     1\n",
       "full_bath          1\n",
       "half_bath          1\n",
       "bedroom_abvgr      1\n",
       "kitchen_abvgr      1\n",
       "kitchen_qual       1\n",
       "totrms_abvgrd      1\n",
       "functional         1\n",
       "fireplaces         2\n",
       "fireplace_qu       2\n",
       "garage_yr_blt      3\n",
       "garage_finish      1\n",
       "garage_cars        2\n",
       "garage_area        2\n",
       "garage_qual        3\n",
       "garage_cond        3\n",
       "wood_deck_sf       1\n",
       "open_porch_sf      1\n",
       "enclosed_porch     1\n",
       "3ssn_porch         1\n",
       "screen_porch       1\n",
       "pool_area          2\n",
       "pool_qc            2\n",
       "misc_val           1\n",
       "mo_sold            1\n",
       "yr_sold            1\n",
       "fence_private      1\n",
       "fence_wood         1\n",
       "dtype: int64"
      ]
     },
     "execution_count": 20,
     "metadata": {},
     "output_type": "execute_result"
    }
   ],
   "source": [
    "pd.DataFrame(data=np.where(np.abs(X.corr(numeric_only=True))>.85,1,0),index = numeric_cols,columns=numeric_cols ).sum()"
   ]
  },
  {
   "cell_type": "markdown",
   "id": "00124bad-9b25-42b4-ba98-c79d641f37a5",
   "metadata": {},
   "source": [
    "## A few of these have high correlations (over 90%) with other X variables\n",
    "#### maybe when I calculate my new columns I can deal with a few of these and adjust\n",
    "```\n",
    "pool_area          2\n",
    "pool_qc            2\n",
    "garage_yr_blt      3\n",
    "```\n",
    "#### I adjusted my ordinal encoding formulas which minimally lowered my kaggle score. I think theres too much noise so I also now remove columns highly correlated or that do nothing but modify the value of other features"
   ]
  },
  {
   "cell_type": "markdown",
   "id": "141b4efb-e631-4025-b569-d3533a92193c",
   "metadata": {
    "tags": []
   },
   "source": [
    "## A few of these have high correlations (over 85%) with other X variables\n",
    "pool_area          2\n",
    "pool_qc            2\n",
    "garage_cars        2\n",
    "garage_area        2\n",
    "garage_qual        3\n",
    "garage_cond        3\n",
    "fireplaces         2\n",
    "fireplace_qu       2\n",
    "garage_yr_blt      3"
   ]
  },
  {
   "cell_type": "code",
   "execution_count": null,
   "id": "00584586-1103-491e-93a2-ff1734dc209b",
   "metadata": {
    "tags": []
   },
   "outputs": [],
   "source": []
  },
  {
   "cell_type": "code",
   "execution_count": 21,
   "id": "e12c4294-5d9f-42c8-994e-e8a8dec654cc",
   "metadata": {
    "tags": []
   },
   "outputs": [],
   "source": [
    "#knn.score(X_multiplied_sc,y)# knregressor is trained and process is repeated for all data (hopefully) without leakage"
   ]
  },
  {
   "cell_type": "code",
   "execution_count": 22,
   "id": "8355c692-a803-4d22-b230-ded8d6866663",
   "metadata": {},
   "outputs": [],
   "source": [
    "#knn.score(X_multiplied_sc,y)"
   ]
  },
  {
   "cell_type": "code",
   "execution_count": 23,
   "id": "6b4fe7c6-f5f2-4829-b7cf-e253dac0c1ed",
   "metadata": {
    "tags": []
   },
   "outputs": [
    {
     "data": {
      "text/html": [
       "<div>\n",
       "<style scoped>\n",
       "    .dataframe tbody tr th:only-of-type {\n",
       "        vertical-align: middle;\n",
       "    }\n",
       "\n",
       "    .dataframe tbody tr th {\n",
       "        vertical-align: top;\n",
       "    }\n",
       "\n",
       "    .dataframe thead th {\n",
       "        text-align: right;\n",
       "    }\n",
       "</style>\n",
       "<table border=\"1\" class=\"dataframe\">\n",
       "  <thead>\n",
       "    <tr style=\"text-align: right;\">\n",
       "      <th></th>\n",
       "      <th>Id</th>\n",
       "      <th>PID</th>\n",
       "      <th>MS SubClass</th>\n",
       "      <th>MS Zoning</th>\n",
       "      <th>Lot Frontage</th>\n",
       "      <th>Lot Area</th>\n",
       "      <th>Street</th>\n",
       "      <th>Alley</th>\n",
       "      <th>Lot Shape</th>\n",
       "      <th>Land Contour</th>\n",
       "      <th>...</th>\n",
       "      <th>3Ssn Porch</th>\n",
       "      <th>Screen Porch</th>\n",
       "      <th>Pool Area</th>\n",
       "      <th>Pool QC</th>\n",
       "      <th>Fence</th>\n",
       "      <th>Misc Feature</th>\n",
       "      <th>Misc Val</th>\n",
       "      <th>Mo Sold</th>\n",
       "      <th>Yr Sold</th>\n",
       "      <th>Sale Type</th>\n",
       "    </tr>\n",
       "  </thead>\n",
       "  <tbody>\n",
       "    <tr>\n",
       "      <th>0</th>\n",
       "      <td>2658</td>\n",
       "      <td>902301120</td>\n",
       "      <td>190</td>\n",
       "      <td>RM</td>\n",
       "      <td>69.0</td>\n",
       "      <td>9142</td>\n",
       "      <td>Pave</td>\n",
       "      <td>Grvl</td>\n",
       "      <td>Reg</td>\n",
       "      <td>Lvl</td>\n",
       "      <td>...</td>\n",
       "      <td>0</td>\n",
       "      <td>0</td>\n",
       "      <td>0</td>\n",
       "      <td>NaN</td>\n",
       "      <td>NaN</td>\n",
       "      <td>NaN</td>\n",
       "      <td>0</td>\n",
       "      <td>4</td>\n",
       "      <td>2006</td>\n",
       "      <td>WD</td>\n",
       "    </tr>\n",
       "    <tr>\n",
       "      <th>1</th>\n",
       "      <td>2718</td>\n",
       "      <td>905108090</td>\n",
       "      <td>90</td>\n",
       "      <td>RL</td>\n",
       "      <td>NaN</td>\n",
       "      <td>9662</td>\n",
       "      <td>Pave</td>\n",
       "      <td>NaN</td>\n",
       "      <td>IR1</td>\n",
       "      <td>Lvl</td>\n",
       "      <td>...</td>\n",
       "      <td>0</td>\n",
       "      <td>0</td>\n",
       "      <td>0</td>\n",
       "      <td>NaN</td>\n",
       "      <td>NaN</td>\n",
       "      <td>NaN</td>\n",
       "      <td>0</td>\n",
       "      <td>8</td>\n",
       "      <td>2006</td>\n",
       "      <td>WD</td>\n",
       "    </tr>\n",
       "    <tr>\n",
       "      <th>2</th>\n",
       "      <td>2414</td>\n",
       "      <td>528218130</td>\n",
       "      <td>60</td>\n",
       "      <td>RL</td>\n",
       "      <td>58.0</td>\n",
       "      <td>17104</td>\n",
       "      <td>Pave</td>\n",
       "      <td>NaN</td>\n",
       "      <td>IR1</td>\n",
       "      <td>Lvl</td>\n",
       "      <td>...</td>\n",
       "      <td>0</td>\n",
       "      <td>0</td>\n",
       "      <td>0</td>\n",
       "      <td>NaN</td>\n",
       "      <td>NaN</td>\n",
       "      <td>NaN</td>\n",
       "      <td>0</td>\n",
       "      <td>9</td>\n",
       "      <td>2006</td>\n",
       "      <td>New</td>\n",
       "    </tr>\n",
       "    <tr>\n",
       "      <th>3</th>\n",
       "      <td>1989</td>\n",
       "      <td>902207150</td>\n",
       "      <td>30</td>\n",
       "      <td>RM</td>\n",
       "      <td>60.0</td>\n",
       "      <td>8520</td>\n",
       "      <td>Pave</td>\n",
       "      <td>NaN</td>\n",
       "      <td>Reg</td>\n",
       "      <td>Lvl</td>\n",
       "      <td>...</td>\n",
       "      <td>0</td>\n",
       "      <td>0</td>\n",
       "      <td>0</td>\n",
       "      <td>NaN</td>\n",
       "      <td>NaN</td>\n",
       "      <td>NaN</td>\n",
       "      <td>0</td>\n",
       "      <td>7</td>\n",
       "      <td>2007</td>\n",
       "      <td>WD</td>\n",
       "    </tr>\n",
       "    <tr>\n",
       "      <th>4</th>\n",
       "      <td>625</td>\n",
       "      <td>535105100</td>\n",
       "      <td>20</td>\n",
       "      <td>RL</td>\n",
       "      <td>NaN</td>\n",
       "      <td>9500</td>\n",
       "      <td>Pave</td>\n",
       "      <td>NaN</td>\n",
       "      <td>IR1</td>\n",
       "      <td>Lvl</td>\n",
       "      <td>...</td>\n",
       "      <td>0</td>\n",
       "      <td>185</td>\n",
       "      <td>0</td>\n",
       "      <td>NaN</td>\n",
       "      <td>NaN</td>\n",
       "      <td>NaN</td>\n",
       "      <td>0</td>\n",
       "      <td>7</td>\n",
       "      <td>2009</td>\n",
       "      <td>WD</td>\n",
       "    </tr>\n",
       "  </tbody>\n",
       "</table>\n",
       "<p>5 rows × 80 columns</p>\n",
       "</div>"
      ],
      "text/plain": [
       "     Id        PID  MS SubClass MS Zoning  Lot Frontage  Lot Area Street  \\\n",
       "0  2658  902301120          190        RM          69.0      9142   Pave   \n",
       "1  2718  905108090           90        RL           NaN      9662   Pave   \n",
       "2  2414  528218130           60        RL          58.0     17104   Pave   \n",
       "3  1989  902207150           30        RM          60.0      8520   Pave   \n",
       "4   625  535105100           20        RL           NaN      9500   Pave   \n",
       "\n",
       "  Alley Lot Shape Land Contour  ... 3Ssn Porch Screen Porch Pool Area Pool QC  \\\n",
       "0  Grvl       Reg          Lvl  ...          0            0         0     NaN   \n",
       "1   NaN       IR1          Lvl  ...          0            0         0     NaN   \n",
       "2   NaN       IR1          Lvl  ...          0            0         0     NaN   \n",
       "3   NaN       Reg          Lvl  ...          0            0         0     NaN   \n",
       "4   NaN       IR1          Lvl  ...          0          185         0     NaN   \n",
       "\n",
       "  Fence Misc Feature Misc Val Mo Sold  Yr Sold  Sale Type  \n",
       "0   NaN          NaN        0       4     2006        WD   \n",
       "1   NaN          NaN        0       8     2006        WD   \n",
       "2   NaN          NaN        0       9     2006        New  \n",
       "3   NaN          NaN        0       7     2007        WD   \n",
       "4   NaN          NaN        0       7     2009        WD   \n",
       "\n",
       "[5 rows x 80 columns]"
      ]
     },
     "execution_count": 23,
     "metadata": {},
     "output_type": "execute_result"
    }
   ],
   "source": [
    "test = pd.read_csv('../datasets/test.csv')\n",
    "test.head()"
   ]
  },
  {
   "cell_type": "code",
   "execution_count": 24,
   "id": "1cde8818-1b88-498e-a8f1-150cfa904027",
   "metadata": {
    "tags": []
   },
   "outputs": [
    {
     "name": "stderr",
     "output_type": "stream",
     "text": [
      "C:\\Users\\seanh\\anaconda3\\Lib\\site-packages\\sklearn\\preprocessing\\_encoders.py:227: UserWarning: Found unknown categories in columns [0, 14, 15, 16, 19, 20, 25] during transform. These unknown categories will be encoded as all zeros\n",
      "  warnings.warn(\n"
     ]
    }
   ],
   "source": [
    "test1 = map_home(test)\n",
    "\n",
    "X_kaggle = numeric_houses(test1) # not dummified yet\n",
    "\n",
    "#ct.get_feature_names_out()\n",
    "#X_train,X_test,y_train,y_test = train_test_split(X,y,random_state=512)\n",
    "# Similiar to a technique shared by Katie Ellsweig over Zoom chat in GA-DSI911\n",
    "\"\"\"cat_features = ['mas_vnr_type','bsmt_exposure','garage_type','alley','misc_feature',\n",
    "                'land_contour','ms_subclass','ms_zoning','street','neighborhood',\n",
    "                'condition_2','bldg_type', 'house_style','roof_style','roof_matl',\n",
    "                'exterior_1st','exterior_2nd','foundation',\n",
    "               'central_air','electrical','sale_type','condition_1','utilities','lot_config','land_slope',\n",
    "               'heating','paved_drive']\n",
    "ct = ColumnTransformer([('oh', OneHotEncoder(sparse_output=False, handle_unknown='ignore', drop='first'), cat_features)\n",
    "], remainder='passthrough')\"\"\"\n",
    "X_kaggle_dummy = pd.DataFrame(ct.transform(X_kaggle),columns=ct.get_feature_names_out())\n",
    "#X_test_dummy = pd.DataFrame(ct.transform(X_test),columns=ct.get_feature_names_out())\n",
    "X_kaggle_multiplied = multiplier_attempt3(X_kaggle_dummy)\n",
    "#X_test_multiplied = multiplier_attempt3(X_test_dummy)\n",
    "## standard scale\n",
    "#sc = StandardScaler()\n",
    "X_kaggle_multiplied_sc=sc.transform(X_kaggle_multiplied)\n",
    "#X_test_multiplied_sc=sc.transform(X_test_multiplied)"
   ]
  },
  {
   "cell_type": "code",
   "execution_count": 25,
   "id": "839e97f5-b407-4cc1-8103-f476ec8fb67e",
   "metadata": {
    "tags": []
   },
   "outputs": [
    {
     "data": {
      "text/plain": [
       "(878, 240)"
      ]
     },
     "execution_count": 25,
     "metadata": {},
     "output_type": "execute_result"
    }
   ],
   "source": [
    "X_kaggle_multiplied_sc.shape"
   ]
  },
  {
   "cell_type": "markdown",
   "id": "c9e44ca9-a03a-4a4c-b67e-2e9c4e540ca1",
   "metadata": {},
   "source": [
    "## Skipping over to generate results using Ridge regression"
   ]
  },
  {
   "cell_type": "code",
   "execution_count": 26,
   "id": "8ca495bd-3f4c-459e-b2f4-971033d98ebe",
   "metadata": {
    "tags": []
   },
   "outputs": [],
   "source": [
    "#y_pred = knn.predict(X_kaggle_multiplied_sc)"
   ]
  },
  {
   "cell_type": "code",
   "execution_count": 27,
   "id": "0bb17093-664b-45b1-95cd-7e41a13715c0",
   "metadata": {
    "tags": []
   },
   "outputs": [
    {
     "data": {
      "text/plain": [
       "\"data={'Id': test.id , 'SalePrice': y_pred}\\n\\ndf = pd.DataFrame(data)\\n\\ndf.to_csv('../datasets/kaggle_sub_5.csv', index=False)\\n\\n#df = pd.read_csv('../datasets/kaggle_sub_3.csv')\\ndf.head()\""
      ]
     },
     "execution_count": 27,
     "metadata": {},
     "output_type": "execute_result"
    }
   ],
   "source": [
    "\"\"\"data={'Id': test.id , 'SalePrice': y_pred}\n",
    "\n",
    "df = pd.DataFrame(data)\n",
    "\n",
    "df.to_csv('../datasets/kaggle_sub_5.csv', index=False)\n",
    "\n",
    "#df = pd.read_csv('../datasets/kaggle_sub_3.csv')\n",
    "df.head()\"\"\""
   ]
  },
  {
   "cell_type": "code",
   "execution_count": null,
   "id": "6a536e08-c0c9-42df-b016-08623bff78be",
   "metadata": {},
   "outputs": [],
   "source": []
  },
  {
   "cell_type": "code",
   "execution_count": 28,
   "id": "31b263bc-671d-4e6e-956f-978ff6c2860b",
   "metadata": {
    "tags": []
   },
   "outputs": [],
   "source": [
    "X_multiplied = multiplier_attempt3(X_dummy)\n",
    "X_multiplied_sc=sc.fit_transform(X_multiplied)"
   ]
  },
  {
   "cell_type": "code",
   "execution_count": 29,
   "id": "cc2e454a-8875-4f07-bf33-4f1a52686841",
   "metadata": {
    "tags": []
   },
   "outputs": [],
   "source": [
    "r_alphas = np.logspace(2,3,1000)\n",
    "ridgecv = RidgeCV(alphas=r_alphas, cv=15)"
   ]
  },
  {
   "cell_type": "code",
   "execution_count": null,
   "id": "d81da3dd-9f7d-49cd-a0c7-ad255a94cd01",
   "metadata": {},
   "outputs": [],
   "source": []
  },
  {
   "cell_type": "code",
   "execution_count": 30,
   "id": "fea0390d-76bd-463b-81d5-42f9b63fa77c",
   "metadata": {
    "tags": []
   },
   "outputs": [
    {
     "data": {
      "text/plain": [
       "(1538, 240)"
      ]
     },
     "execution_count": 30,
     "metadata": {},
     "output_type": "execute_result"
    }
   ],
   "source": [
    "X_train_multiplied.shape"
   ]
  },
  {
   "cell_type": "code",
   "execution_count": 31,
   "id": "dac15a2d-cbab-4801-9b2e-904ac7a0f80f",
   "metadata": {
    "tags": []
   },
   "outputs": [
    {
     "data": {
      "text/plain": [
       "(2051, 240)"
      ]
     },
     "execution_count": 31,
     "metadata": {},
     "output_type": "execute_result"
    }
   ],
   "source": [
    "X_multiplied_sc.shape"
   ]
  },
  {
   "cell_type": "code",
   "execution_count": 32,
   "id": "06c0f1e8-106a-40b3-9353-ab8a95e13c19",
   "metadata": {
    "tags": []
   },
   "outputs": [
    {
     "data": {
      "text/plain": [
       "(878, 240)"
      ]
     },
     "execution_count": 32,
     "metadata": {},
     "output_type": "execute_result"
    }
   ],
   "source": [
    "X_kaggle_multiplied_sc.shape"
   ]
  },
  {
   "cell_type": "code",
   "execution_count": 33,
   "id": "9091b90f-c746-4d22-a86c-a4becd85852b",
   "metadata": {
    "tags": []
   },
   "outputs": [
    {
     "name": "stdout",
     "output_type": "stream",
     "text": [
      "CPU times: total: 5min 14s\n",
      "Wall time: 1min 49s\n"
     ]
    },
    {
     "data": {
      "text/html": [
       "<style>#sk-container-id-1 {color: black;}#sk-container-id-1 pre{padding: 0;}#sk-container-id-1 div.sk-toggleable {background-color: white;}#sk-container-id-1 label.sk-toggleable__label {cursor: pointer;display: block;width: 100%;margin-bottom: 0;padding: 0.3em;box-sizing: border-box;text-align: center;}#sk-container-id-1 label.sk-toggleable__label-arrow:before {content: \"▸\";float: left;margin-right: 0.25em;color: #696969;}#sk-container-id-1 label.sk-toggleable__label-arrow:hover:before {color: black;}#sk-container-id-1 div.sk-estimator:hover label.sk-toggleable__label-arrow:before {color: black;}#sk-container-id-1 div.sk-toggleable__content {max-height: 0;max-width: 0;overflow: hidden;text-align: left;background-color: #f0f8ff;}#sk-container-id-1 div.sk-toggleable__content pre {margin: 0.2em;color: black;border-radius: 0.25em;background-color: #f0f8ff;}#sk-container-id-1 input.sk-toggleable__control:checked~div.sk-toggleable__content {max-height: 200px;max-width: 100%;overflow: auto;}#sk-container-id-1 input.sk-toggleable__control:checked~label.sk-toggleable__label-arrow:before {content: \"▾\";}#sk-container-id-1 div.sk-estimator input.sk-toggleable__control:checked~label.sk-toggleable__label {background-color: #d4ebff;}#sk-container-id-1 div.sk-label input.sk-toggleable__control:checked~label.sk-toggleable__label {background-color: #d4ebff;}#sk-container-id-1 input.sk-hidden--visually {border: 0;clip: rect(1px 1px 1px 1px);clip: rect(1px, 1px, 1px, 1px);height: 1px;margin: -1px;overflow: hidden;padding: 0;position: absolute;width: 1px;}#sk-container-id-1 div.sk-estimator {font-family: monospace;background-color: #f0f8ff;border: 1px dotted black;border-radius: 0.25em;box-sizing: border-box;margin-bottom: 0.5em;}#sk-container-id-1 div.sk-estimator:hover {background-color: #d4ebff;}#sk-container-id-1 div.sk-parallel-item::after {content: \"\";width: 100%;border-bottom: 1px solid gray;flex-grow: 1;}#sk-container-id-1 div.sk-label:hover label.sk-toggleable__label {background-color: #d4ebff;}#sk-container-id-1 div.sk-serial::before {content: \"\";position: absolute;border-left: 1px solid gray;box-sizing: border-box;top: 0;bottom: 0;left: 50%;z-index: 0;}#sk-container-id-1 div.sk-serial {display: flex;flex-direction: column;align-items: center;background-color: white;padding-right: 0.2em;padding-left: 0.2em;position: relative;}#sk-container-id-1 div.sk-item {position: relative;z-index: 1;}#sk-container-id-1 div.sk-parallel {display: flex;align-items: stretch;justify-content: center;background-color: white;position: relative;}#sk-container-id-1 div.sk-item::before, #sk-container-id-1 div.sk-parallel-item::before {content: \"\";position: absolute;border-left: 1px solid gray;box-sizing: border-box;top: 0;bottom: 0;left: 50%;z-index: -1;}#sk-container-id-1 div.sk-parallel-item {display: flex;flex-direction: column;z-index: 1;position: relative;background-color: white;}#sk-container-id-1 div.sk-parallel-item:first-child::after {align-self: flex-end;width: 50%;}#sk-container-id-1 div.sk-parallel-item:last-child::after {align-self: flex-start;width: 50%;}#sk-container-id-1 div.sk-parallel-item:only-child::after {width: 0;}#sk-container-id-1 div.sk-dashed-wrapped {border: 1px dashed gray;margin: 0 0.4em 0.5em 0.4em;box-sizing: border-box;padding-bottom: 0.4em;background-color: white;}#sk-container-id-1 div.sk-label label {font-family: monospace;font-weight: bold;display: inline-block;line-height: 1.2em;}#sk-container-id-1 div.sk-label-container {text-align: center;}#sk-container-id-1 div.sk-container {/* jupyter's `normalize.less` sets `[hidden] { display: none; }` but bootstrap.min.css set `[hidden] { display: none !important; }` so we also need the `!important` here to be able to override the default hidden behavior on the sphinx rendered scikit-learn.org. See: https://github.com/scikit-learn/scikit-learn/issues/21755 */display: inline-block !important;position: relative;}#sk-container-id-1 div.sk-text-repr-fallback {display: none;}</style><div id=\"sk-container-id-1\" class=\"sk-top-container\"><div class=\"sk-text-repr-fallback\"><pre>RidgeCV(alphas=array([ 100.        ,  100.23075483,  100.46204213,  100.69386315,\n",
       "        100.9262191 ,  101.15911122,  101.39254076,  101.62650894,\n",
       "        101.86101702,  102.09606623,  102.33165783,  102.56779307,\n",
       "        102.80447321,  103.0416995 ,  103.27947319,  103.51779556,\n",
       "        103.75666787,  103.9960914 ,  104.2360674 ,  104.47659716,\n",
       "        104.71768195,  104.95932306,  105.20152176,  105.44427935,\n",
       "        105.68759712,  105.93147635,  10...\n",
       "        939.6648315 ,  941.83315346,  944.00647894,  946.18481947,\n",
       "        948.36818663,  950.55659201,  952.75004724,  954.94856398,\n",
       "        957.1521539 ,  959.36082871,  961.57460014,  963.79347996,\n",
       "        966.01747995,  968.24661193,  970.48088774,  972.72031925,\n",
       "        974.96491835,  977.21469697,  979.46966707,  981.72984062,\n",
       "        983.99522963,  986.26584613,  988.54170219,  990.8228099 ,\n",
       "        993.10918137,  995.40082876,  997.69776424, 1000.        ]),\n",
       "        cv=15)</pre><b>In a Jupyter environment, please rerun this cell to show the HTML representation or trust the notebook. <br />On GitHub, the HTML representation is unable to render, please try loading this page with nbviewer.org.</b></div><div class=\"sk-container\" hidden><div class=\"sk-item\"><div class=\"sk-estimator sk-toggleable\"><input class=\"sk-toggleable__control sk-hidden--visually\" id=\"sk-estimator-id-1\" type=\"checkbox\" checked><label for=\"sk-estimator-id-1\" class=\"sk-toggleable__label sk-toggleable__label-arrow\">RidgeCV</label><div class=\"sk-toggleable__content\"><pre>RidgeCV(alphas=array([ 100.        ,  100.23075483,  100.46204213,  100.69386315,\n",
       "        100.9262191 ,  101.15911122,  101.39254076,  101.62650894,\n",
       "        101.86101702,  102.09606623,  102.33165783,  102.56779307,\n",
       "        102.80447321,  103.0416995 ,  103.27947319,  103.51779556,\n",
       "        103.75666787,  103.9960914 ,  104.2360674 ,  104.47659716,\n",
       "        104.71768195,  104.95932306,  105.20152176,  105.44427935,\n",
       "        105.68759712,  105.93147635,  10...\n",
       "        939.6648315 ,  941.83315346,  944.00647894,  946.18481947,\n",
       "        948.36818663,  950.55659201,  952.75004724,  954.94856398,\n",
       "        957.1521539 ,  959.36082871,  961.57460014,  963.79347996,\n",
       "        966.01747995,  968.24661193,  970.48088774,  972.72031925,\n",
       "        974.96491835,  977.21469697,  979.46966707,  981.72984062,\n",
       "        983.99522963,  986.26584613,  988.54170219,  990.8228099 ,\n",
       "        993.10918137,  995.40082876,  997.69776424, 1000.        ]),\n",
       "        cv=15)</pre></div></div></div></div></div>"
      ],
      "text/plain": [
       "RidgeCV(alphas=array([ 100.        ,  100.23075483,  100.46204213,  100.69386315,\n",
       "        100.9262191 ,  101.15911122,  101.39254076,  101.62650894,\n",
       "        101.86101702,  102.09606623,  102.33165783,  102.56779307,\n",
       "        102.80447321,  103.0416995 ,  103.27947319,  103.51779556,\n",
       "        103.75666787,  103.9960914 ,  104.2360674 ,  104.47659716,\n",
       "        104.71768195,  104.95932306,  105.20152176,  105.44427935,\n",
       "        105.68759712,  105.93147635,  10...\n",
       "        939.6648315 ,  941.83315346,  944.00647894,  946.18481947,\n",
       "        948.36818663,  950.55659201,  952.75004724,  954.94856398,\n",
       "        957.1521539 ,  959.36082871,  961.57460014,  963.79347996,\n",
       "        966.01747995,  968.24661193,  970.48088774,  972.72031925,\n",
       "        974.96491835,  977.21469697,  979.46966707,  981.72984062,\n",
       "        983.99522963,  986.26584613,  988.54170219,  990.8228099 ,\n",
       "        993.10918137,  995.40082876,  997.69776424, 1000.        ]),\n",
       "        cv=15)"
      ]
     },
     "execution_count": 33,
     "metadata": {},
     "output_type": "execute_result"
    }
   ],
   "source": [
    "%%time\n",
    "ridgecv.fit(X_multiplied_sc,y)"
   ]
  },
  {
   "cell_type": "code",
   "execution_count": 34,
   "id": "b10ca591-d541-4704-a0ae-f7ea4e5847aa",
   "metadata": {
    "tags": []
   },
   "outputs": [
    {
     "data": {
      "text/plain": [
       "0.9039270739521669"
      ]
     },
     "execution_count": 34,
     "metadata": {},
     "output_type": "execute_result"
    }
   ],
   "source": [
    "ridgecv.score(X_multiplied_sc,y)"
   ]
  },
  {
   "cell_type": "code",
   "execution_count": 35,
   "id": "9c1e058f-169c-49d6-82ff-7bc20f7d90e1",
   "metadata": {
    "tags": []
   },
   "outputs": [],
   "source": [
    "y_pred = ridgecv.predict(X_kaggle_multiplied_sc)"
   ]
  },
  {
   "cell_type": "code",
   "execution_count": 36,
   "id": "8c587ee2-36b7-47fe-be44-4ca876f158a9",
   "metadata": {
    "tags": []
   },
   "outputs": [],
   "source": [
    "y_pred_all = ridgecv.predict(X_multiplied_sc)"
   ]
  },
  {
   "cell_type": "code",
   "execution_count": 37,
   "id": "164fae76-9e1a-43dd-929e-c3a42a625055",
   "metadata": {
    "tags": []
   },
   "outputs": [
    {
     "data": {
      "text/plain": [
       "24560.73342243931"
      ]
     },
     "execution_count": 37,
     "metadata": {},
     "output_type": "execute_result"
    }
   ],
   "source": [
    "mean_squared_error(y,y_pred_all,squared=False)"
   ]
  },
  {
   "cell_type": "code",
   "execution_count": 38,
   "id": "88834bf8-c882-4b79-a04c-af697e9bf88b",
   "metadata": {
    "tags": []
   },
   "outputs": [
    {
     "data": {
      "text/plain": [
       "724.2022334607316"
      ]
     },
     "execution_count": 38,
     "metadata": {},
     "output_type": "execute_result"
    }
   ],
   "source": [
    "ridgecv.alpha_"
   ]
  },
  {
   "cell_type": "code",
   "execution_count": null,
   "id": "8ae7556f-abe5-40e7-8af8-f86c44d96f6d",
   "metadata": {
    "tags": []
   },
   "outputs": [],
   "source": []
  },
  {
   "cell_type": "code",
   "execution_count": 39,
   "id": "00266bb0-854e-4e0b-bcfd-fe12e8eb6b87",
   "metadata": {},
   "outputs": [],
   "source": [
    "# 9 is technically ready, I got a better alphpa"
   ]
  },
  {
   "cell_type": "code",
   "execution_count": 40,
   "id": "151b09a3-984a-4cc6-b798-dfa86881e3ec",
   "metadata": {
    "tags": []
   },
   "outputs": [
    {
     "data": {
      "text/plain": [
       "numpy.ndarray"
      ]
     },
     "execution_count": 40,
     "metadata": {},
     "output_type": "execute_result"
    }
   ],
   "source": [
    "type(y_pred)"
   ]
  },
  {
   "cell_type": "code",
   "execution_count": 41,
   "id": "bd4c94bb-8768-4e70-b70b-04dc9dbcc322",
   "metadata": {},
   "outputs": [
    {
     "data": {
      "text/html": [
       "<div>\n",
       "<style scoped>\n",
       "    .dataframe tbody tr th:only-of-type {\n",
       "        vertical-align: middle;\n",
       "    }\n",
       "\n",
       "    .dataframe tbody tr th {\n",
       "        vertical-align: top;\n",
       "    }\n",
       "\n",
       "    .dataframe thead th {\n",
       "        text-align: right;\n",
       "    }\n",
       "</style>\n",
       "<table border=\"1\" class=\"dataframe\">\n",
       "  <thead>\n",
       "    <tr style=\"text-align: right;\">\n",
       "      <th></th>\n",
       "      <th>Id</th>\n",
       "      <th>SalePrice</th>\n",
       "    </tr>\n",
       "  </thead>\n",
       "  <tbody>\n",
       "    <tr>\n",
       "      <th>0</th>\n",
       "      <td>2658</td>\n",
       "      <td>119513.847677</td>\n",
       "    </tr>\n",
       "    <tr>\n",
       "      <th>1</th>\n",
       "      <td>2718</td>\n",
       "      <td>170033.170288</td>\n",
       "    </tr>\n",
       "    <tr>\n",
       "      <th>2</th>\n",
       "      <td>2414</td>\n",
       "      <td>221609.938940</td>\n",
       "    </tr>\n",
       "    <tr>\n",
       "      <th>3</th>\n",
       "      <td>1989</td>\n",
       "      <td>110464.943799</td>\n",
       "    </tr>\n",
       "    <tr>\n",
       "      <th>4</th>\n",
       "      <td>625</td>\n",
       "      <td>190474.578022</td>\n",
       "    </tr>\n",
       "  </tbody>\n",
       "</table>\n",
       "</div>"
      ],
      "text/plain": [
       "     Id      SalePrice\n",
       "0  2658  119513.847677\n",
       "1  2718  170033.170288\n",
       "2  2414  221609.938940\n",
       "3  1989  110464.943799\n",
       "4   625  190474.578022"
      ]
     },
     "execution_count": 41,
     "metadata": {},
     "output_type": "execute_result"
    }
   ],
   "source": [
    "data={'Id': test.id , 'SalePrice': y_pred}\n",
    "\n",
    "df = pd.DataFrame(data)\n",
    "\n",
    "df.to_csv('../datasets/kaggle_sub_11_ridge.csv', index=False)\n",
    "\n",
    "#df = pd.read_csv('../datasets/kaggle_sub_3.csv')\n",
    "df.head()"
   ]
  },
  {
   "cell_type": "code",
   "execution_count": 42,
   "id": "71c8c63e-4c1b-410c-97a5-d6a04963c616",
   "metadata": {
    "tags": []
   },
   "outputs": [],
   "source": [
    "y_preds = ridgecv.predict(X_multiplied_sc)\n",
    "diff = y_preds-y "
   ]
  },
  {
   "cell_type": "code",
   "execution_count": 43,
   "id": "e9e6b061-e9e7-4c8c-aee4-76bdb75af457",
   "metadata": {
    "tags": []
   },
   "outputs": [
    {
     "data": {
      "text/plain": [
       "''"
      ]
     },
     "execution_count": 43,
     "metadata": {},
     "output_type": "execute_result"
    },
    {
     "data": {
      "image/png": "[encoded data removed]",
      "text/plain": [
       "<Figure size 640x480 with 1 Axes>"
      ]
     },
     "metadata": {},
     "output_type": "display_data"
    }
   ],
   "source": [
    "plt.scatter(X.garage_area,diff)\n",
    "plt.xlabel('Garage Area')\n",
    "#not helpful for the customer but shows the residuals are well distributed considering the data\n",
    ";"
   ]
  },
  {
   "cell_type": "code",
   "execution_count": null,
   "id": "0dc9f76b-f321-4576-9ec8-b73512bd7c7e",
   "metadata": {
    "tags": []
   },
   "outputs": [],
   "source": []
  },
  {
   "cell_type": "code",
   "execution_count": 44,
   "id": "6a03c746-d0e4-4b1b-b5e0-34cb0d02c59f",
   "metadata": {
    "tags": []
   },
   "outputs": [],
   "source": [
    "X['ms_subclass']=np.where(X['ms_subclass']== 20, 'four_zero',X['ms_subclass'])"
   ]
  },
  {
   "cell_type": "code",
   "execution_count": 45,
   "id": "e5b6300f-c4ec-478e-8935-b70fb4f0e14d",
   "metadata": {
    "tags": []
   },
   "outputs": [
    {
     "data": {
      "text/plain": [
       "0              60\n",
       "1              60\n",
       "2       four_zero\n",
       "3              60\n",
       "4              50\n",
       "          ...    \n",
       "2046    four_zero\n",
       "2047           30\n",
       "2048           50\n",
       "2049    four_zero\n",
       "2050           60\n",
       "Name: ms_subclass, Length: 2051, dtype: object"
      ]
     },
     "execution_count": 45,
     "metadata": {},
     "output_type": "execute_result"
    }
   ],
   "source": [
    "X['ms_subclass']"
   ]
  },
  {
   "cell_type": "code",
   "execution_count": 46,
   "id": "e9a8cd61-22c8-4a17-bdd5-ee465aa0579e",
   "metadata": {
    "tags": []
   },
   "outputs": [],
   "source": [
    "#X['ms_subclass'] = np.where(X['ms_subclass'].str.is_digit(),X['ms_subclass'].astype(str),X['ms_subclass'].astype(str))"
   ]
  },
  {
   "cell_type": "code",
   "execution_count": 47,
   "id": "75b4da9e-0e76-46c1-9b52-35dc75e73a1a",
   "metadata": {
    "tags": []
   },
   "outputs": [],
   "source": [
    "hard_coded_bool_columns=[X['ms_subclass']=='four_zero',X['garage_area']>=2*np.mean(X['garage_area'])] # twice the average garage size for this type of house"
   ]
  },
  {
   "cell_type": "code",
   "execution_count": 48,
   "id": "253276dd-af2b-4b3b-8f09-3fb8ff315903",
   "metadata": {
    "tags": []
   },
   "outputs": [
    {
     "data": {
      "text/html": [
       "<div>\n",
       "<style scoped>\n",
       "    .dataframe tbody tr th:only-of-type {\n",
       "        vertical-align: middle;\n",
       "    }\n",
       "\n",
       "    .dataframe tbody tr th {\n",
       "        vertical-align: top;\n",
       "    }\n",
       "\n",
       "    .dataframe thead th {\n",
       "        text-align: right;\n",
       "    }\n",
       "</style>\n",
       "<table border=\"1\" class=\"dataframe\">\n",
       "  <thead>\n",
       "    <tr style=\"text-align: right;\">\n",
       "      <th></th>\n",
       "      <th>pid</th>\n",
       "      <th>ms_subclass</th>\n",
       "      <th>ms_zoning</th>\n",
       "      <th>lot_frontage</th>\n",
       "      <th>lot_area</th>\n",
       "      <th>street</th>\n",
       "      <th>alley</th>\n",
       "      <th>land_contour</th>\n",
       "      <th>utilities</th>\n",
       "      <th>lot_config</th>\n",
       "      <th>...</th>\n",
       "      <th>screen_porch</th>\n",
       "      <th>pool_area</th>\n",
       "      <th>pool_qc</th>\n",
       "      <th>misc_feature</th>\n",
       "      <th>misc_val</th>\n",
       "      <th>mo_sold</th>\n",
       "      <th>yr_sold</th>\n",
       "      <th>sale_type</th>\n",
       "      <th>fence_private</th>\n",
       "      <th>fence_wood</th>\n",
       "    </tr>\n",
       "  </thead>\n",
       "  <tbody>\n",
       "    <tr>\n",
       "      <th>81</th>\n",
       "      <td>527214050</td>\n",
       "      <td>20</td>\n",
       "      <td>RL</td>\n",
       "      <td>63.0</td>\n",
       "      <td>17423</td>\n",
       "      <td>Pave</td>\n",
       "      <td>NaN</td>\n",
       "      <td>Lvl</td>\n",
       "      <td>AllPub</td>\n",
       "      <td>CulDSac</td>\n",
       "      <td>...</td>\n",
       "      <td>0</td>\n",
       "      <td>0</td>\n",
       "      <td>0</td>\n",
       "      <td>NaN</td>\n",
       "      <td>0</td>\n",
       "      <td>7</td>\n",
       "      <td>2009</td>\n",
       "      <td>New</td>\n",
       "      <td>0</td>\n",
       "      <td>0</td>\n",
       "    </tr>\n",
       "    <tr>\n",
       "      <th>199</th>\n",
       "      <td>528166060</td>\n",
       "      <td>20</td>\n",
       "      <td>RL</td>\n",
       "      <td>103.0</td>\n",
       "      <td>13472</td>\n",
       "      <td>Pave</td>\n",
       "      <td>NaN</td>\n",
       "      <td>Lvl</td>\n",
       "      <td>AllPub</td>\n",
       "      <td>Inside</td>\n",
       "      <td>...</td>\n",
       "      <td>0</td>\n",
       "      <td>0</td>\n",
       "      <td>0</td>\n",
       "      <td>NaN</td>\n",
       "      <td>0</td>\n",
       "      <td>6</td>\n",
       "      <td>2009</td>\n",
       "      <td>WD</td>\n",
       "      <td>0</td>\n",
       "      <td>0</td>\n",
       "    </tr>\n",
       "    <tr>\n",
       "      <th>526</th>\n",
       "      <td>528114010</td>\n",
       "      <td>20</td>\n",
       "      <td>RL</td>\n",
       "      <td>120.0</td>\n",
       "      <td>14780</td>\n",
       "      <td>Pave</td>\n",
       "      <td>NaN</td>\n",
       "      <td>HLS</td>\n",
       "      <td>AllPub</td>\n",
       "      <td>Corner</td>\n",
       "      <td>...</td>\n",
       "      <td>156</td>\n",
       "      <td>0</td>\n",
       "      <td>0</td>\n",
       "      <td>NaN</td>\n",
       "      <td>0</td>\n",
       "      <td>6</td>\n",
       "      <td>2006</td>\n",
       "      <td>WD</td>\n",
       "      <td>0</td>\n",
       "      <td>0</td>\n",
       "    </tr>\n",
       "    <tr>\n",
       "      <th>623</th>\n",
       "      <td>528176030</td>\n",
       "      <td>20</td>\n",
       "      <td>RL</td>\n",
       "      <td>100.0</td>\n",
       "      <td>14836</td>\n",
       "      <td>Pave</td>\n",
       "      <td>NaN</td>\n",
       "      <td>HLS</td>\n",
       "      <td>AllPub</td>\n",
       "      <td>Inside</td>\n",
       "      <td>...</td>\n",
       "      <td>0</td>\n",
       "      <td>0</td>\n",
       "      <td>0</td>\n",
       "      <td>NaN</td>\n",
       "      <td>0</td>\n",
       "      <td>2</td>\n",
       "      <td>2009</td>\n",
       "      <td>WD</td>\n",
       "      <td>0</td>\n",
       "      <td>0</td>\n",
       "    </tr>\n",
       "    <tr>\n",
       "      <th>682</th>\n",
       "      <td>528104050</td>\n",
       "      <td>20</td>\n",
       "      <td>RL</td>\n",
       "      <td>114.0</td>\n",
       "      <td>14803</td>\n",
       "      <td>Pave</td>\n",
       "      <td>NaN</td>\n",
       "      <td>Lvl</td>\n",
       "      <td>AllPub</td>\n",
       "      <td>Inside</td>\n",
       "      <td>...</td>\n",
       "      <td>0</td>\n",
       "      <td>0</td>\n",
       "      <td>0</td>\n",
       "      <td>NaN</td>\n",
       "      <td>0</td>\n",
       "      <td>6</td>\n",
       "      <td>2008</td>\n",
       "      <td>New</td>\n",
       "      <td>0</td>\n",
       "      <td>0</td>\n",
       "    </tr>\n",
       "    <tr>\n",
       "      <th>800</th>\n",
       "      <td>528118050</td>\n",
       "      <td>20</td>\n",
       "      <td>RL</td>\n",
       "      <td>59.0</td>\n",
       "      <td>17169</td>\n",
       "      <td>Pave</td>\n",
       "      <td>NaN</td>\n",
       "      <td>Lvl</td>\n",
       "      <td>AllPub</td>\n",
       "      <td>CulDSac</td>\n",
       "      <td>...</td>\n",
       "      <td>0</td>\n",
       "      <td>0</td>\n",
       "      <td>0</td>\n",
       "      <td>NaN</td>\n",
       "      <td>0</td>\n",
       "      <td>8</td>\n",
       "      <td>2007</td>\n",
       "      <td>New</td>\n",
       "      <td>0</td>\n",
       "      <td>0</td>\n",
       "    </tr>\n",
       "    <tr>\n",
       "      <th>1060</th>\n",
       "      <td>906340100</td>\n",
       "      <td>20</td>\n",
       "      <td>RL</td>\n",
       "      <td>84.0</td>\n",
       "      <td>10933</td>\n",
       "      <td>Pave</td>\n",
       "      <td>NaN</td>\n",
       "      <td>Lvl</td>\n",
       "      <td>AllPub</td>\n",
       "      <td>Inside</td>\n",
       "      <td>...</td>\n",
       "      <td>0</td>\n",
       "      <td>0</td>\n",
       "      <td>0</td>\n",
       "      <td>NaN</td>\n",
       "      <td>0</td>\n",
       "      <td>7</td>\n",
       "      <td>2009</td>\n",
       "      <td>New</td>\n",
       "      <td>0</td>\n",
       "      <td>0</td>\n",
       "    </tr>\n",
       "    <tr>\n",
       "      <th>1158</th>\n",
       "      <td>906412010</td>\n",
       "      <td>20</td>\n",
       "      <td>RL</td>\n",
       "      <td>91.0</td>\n",
       "      <td>11778</td>\n",
       "      <td>Pave</td>\n",
       "      <td>NaN</td>\n",
       "      <td>Lvl</td>\n",
       "      <td>AllPub</td>\n",
       "      <td>Inside</td>\n",
       "      <td>...</td>\n",
       "      <td>255</td>\n",
       "      <td>0</td>\n",
       "      <td>0</td>\n",
       "      <td>NaN</td>\n",
       "      <td>0</td>\n",
       "      <td>6</td>\n",
       "      <td>2008</td>\n",
       "      <td>WD</td>\n",
       "      <td>0</td>\n",
       "      <td>0</td>\n",
       "    </tr>\n",
       "    <tr>\n",
       "      <th>1187</th>\n",
       "      <td>528435060</td>\n",
       "      <td>20</td>\n",
       "      <td>RL</td>\n",
       "      <td>83.0</td>\n",
       "      <td>9849</td>\n",
       "      <td>Pave</td>\n",
       "      <td>NaN</td>\n",
       "      <td>Lvl</td>\n",
       "      <td>AllPub</td>\n",
       "      <td>Inside</td>\n",
       "      <td>...</td>\n",
       "      <td>0</td>\n",
       "      <td>0</td>\n",
       "      <td>0</td>\n",
       "      <td>NaN</td>\n",
       "      <td>0</td>\n",
       "      <td>6</td>\n",
       "      <td>2007</td>\n",
       "      <td>New</td>\n",
       "      <td>0</td>\n",
       "      <td>0</td>\n",
       "    </tr>\n",
       "    <tr>\n",
       "      <th>1227</th>\n",
       "      <td>528176010</td>\n",
       "      <td>20</td>\n",
       "      <td>RL</td>\n",
       "      <td>110.0</td>\n",
       "      <td>14300</td>\n",
       "      <td>Pave</td>\n",
       "      <td>NaN</td>\n",
       "      <td>HLS</td>\n",
       "      <td>AllPub</td>\n",
       "      <td>Inside</td>\n",
       "      <td>...</td>\n",
       "      <td>0</td>\n",
       "      <td>0</td>\n",
       "      <td>0</td>\n",
       "      <td>NaN</td>\n",
       "      <td>0</td>\n",
       "      <td>6</td>\n",
       "      <td>2010</td>\n",
       "      <td>WD</td>\n",
       "      <td>0</td>\n",
       "      <td>0</td>\n",
       "    </tr>\n",
       "    <tr>\n",
       "      <th>1557</th>\n",
       "      <td>907250070</td>\n",
       "      <td>20</td>\n",
       "      <td>RL</td>\n",
       "      <td>90.0</td>\n",
       "      <td>11664</td>\n",
       "      <td>Pave</td>\n",
       "      <td>NaN</td>\n",
       "      <td>Lvl</td>\n",
       "      <td>AllPub</td>\n",
       "      <td>Corner</td>\n",
       "      <td>...</td>\n",
       "      <td>0</td>\n",
       "      <td>0</td>\n",
       "      <td>0</td>\n",
       "      <td>NaN</td>\n",
       "      <td>0</td>\n",
       "      <td>9</td>\n",
       "      <td>2009</td>\n",
       "      <td>WD</td>\n",
       "      <td>0</td>\n",
       "      <td>0</td>\n",
       "    </tr>\n",
       "    <tr>\n",
       "      <th>1875</th>\n",
       "      <td>923202220</td>\n",
       "      <td>20</td>\n",
       "      <td>RL</td>\n",
       "      <td>200.0</td>\n",
       "      <td>43500</td>\n",
       "      <td>Pave</td>\n",
       "      <td>NaN</td>\n",
       "      <td>Lvl</td>\n",
       "      <td>AllPub</td>\n",
       "      <td>Inside</td>\n",
       "      <td>...</td>\n",
       "      <td>0</td>\n",
       "      <td>561</td>\n",
       "      <td>3</td>\n",
       "      <td>NaN</td>\n",
       "      <td>0</td>\n",
       "      <td>6</td>\n",
       "      <td>2007</td>\n",
       "      <td>WD</td>\n",
       "      <td>2</td>\n",
       "      <td>0</td>\n",
       "    </tr>\n",
       "    <tr>\n",
       "      <th>1885</th>\n",
       "      <td>908154195</td>\n",
       "      <td>20</td>\n",
       "      <td>RL</td>\n",
       "      <td>128.0</td>\n",
       "      <td>39290</td>\n",
       "      <td>Pave</td>\n",
       "      <td>NaN</td>\n",
       "      <td>Bnk</td>\n",
       "      <td>AllPub</td>\n",
       "      <td>Inside</td>\n",
       "      <td>...</td>\n",
       "      <td>0</td>\n",
       "      <td>0</td>\n",
       "      <td>0</td>\n",
       "      <td>Elev</td>\n",
       "      <td>17000</td>\n",
       "      <td>10</td>\n",
       "      <td>2007</td>\n",
       "      <td>New</td>\n",
       "      <td>0</td>\n",
       "      <td>0</td>\n",
       "    </tr>\n",
       "    <tr>\n",
       "      <th>1964</th>\n",
       "      <td>527216080</td>\n",
       "      <td>20</td>\n",
       "      <td>RL</td>\n",
       "      <td>52.0</td>\n",
       "      <td>51974</td>\n",
       "      <td>Pave</td>\n",
       "      <td>NaN</td>\n",
       "      <td>Lvl</td>\n",
       "      <td>AllPub</td>\n",
       "      <td>CulDSac</td>\n",
       "      <td>...</td>\n",
       "      <td>322</td>\n",
       "      <td>0</td>\n",
       "      <td>0</td>\n",
       "      <td>NaN</td>\n",
       "      <td>0</td>\n",
       "      <td>6</td>\n",
       "      <td>2007</td>\n",
       "      <td>New</td>\n",
       "      <td>0</td>\n",
       "      <td>0</td>\n",
       "    </tr>\n",
       "  </tbody>\n",
       "</table>\n",
       "<p>14 rows × 79 columns</p>\n",
       "</div>"
      ],
      "text/plain": [
       "            pid  ms_subclass ms_zoning  lot_frontage  lot_area street alley  \\\n",
       "81    527214050           20        RL          63.0     17423   Pave   NaN   \n",
       "199   528166060           20        RL         103.0     13472   Pave   NaN   \n",
       "526   528114010           20        RL         120.0     14780   Pave   NaN   \n",
       "623   528176030           20        RL         100.0     14836   Pave   NaN   \n",
       "682   528104050           20        RL         114.0     14803   Pave   NaN   \n",
       "800   528118050           20        RL          59.0     17169   Pave   NaN   \n",
       "1060  906340100           20        RL          84.0     10933   Pave   NaN   \n",
       "1158  906412010           20        RL          91.0     11778   Pave   NaN   \n",
       "1187  528435060           20        RL          83.0      9849   Pave   NaN   \n",
       "1227  528176010           20        RL         110.0     14300   Pave   NaN   \n",
       "1557  907250070           20        RL          90.0     11664   Pave   NaN   \n",
       "1875  923202220           20        RL         200.0     43500   Pave   NaN   \n",
       "1885  908154195           20        RL         128.0     39290   Pave   NaN   \n",
       "1964  527216080           20        RL          52.0     51974   Pave   NaN   \n",
       "\n",
       "     land_contour utilities lot_config  ... screen_porch pool_area pool_qc  \\\n",
       "81            Lvl    AllPub    CulDSac  ...            0         0       0   \n",
       "199           Lvl    AllPub     Inside  ...            0         0       0   \n",
       "526           HLS    AllPub     Corner  ...          156         0       0   \n",
       "623           HLS    AllPub     Inside  ...            0         0       0   \n",
       "682           Lvl    AllPub     Inside  ...            0         0       0   \n",
       "800           Lvl    AllPub    CulDSac  ...            0         0       0   \n",
       "1060          Lvl    AllPub     Inside  ...            0         0       0   \n",
       "1158          Lvl    AllPub     Inside  ...          255         0       0   \n",
       "1187          Lvl    AllPub     Inside  ...            0         0       0   \n",
       "1227          HLS    AllPub     Inside  ...            0         0       0   \n",
       "1557          Lvl    AllPub     Corner  ...            0         0       0   \n",
       "1875          Lvl    AllPub     Inside  ...            0       561       3   \n",
       "1885          Bnk    AllPub     Inside  ...            0         0       0   \n",
       "1964          Lvl    AllPub    CulDSac  ...          322         0       0   \n",
       "\n",
       "     misc_feature misc_val mo_sold  yr_sold  sale_type  fence_private  \\\n",
       "81            NaN        0       7     2009        New              0   \n",
       "199           NaN        0       6     2009        WD               0   \n",
       "526           NaN        0       6     2006        WD               0   \n",
       "623           NaN        0       2     2009        WD               0   \n",
       "682           NaN        0       6     2008        New              0   \n",
       "800           NaN        0       8     2007        New              0   \n",
       "1060          NaN        0       7     2009        New              0   \n",
       "1158          NaN        0       6     2008        WD               0   \n",
       "1187          NaN        0       6     2007        New              0   \n",
       "1227          NaN        0       6     2010        WD               0   \n",
       "1557          NaN        0       9     2009        WD               0   \n",
       "1875          NaN        0       6     2007        WD               2   \n",
       "1885         Elev    17000      10     2007        New              0   \n",
       "1964          NaN        0       6     2007        New              0   \n",
       "\n",
       "      fence_wood  \n",
       "81             0  \n",
       "199            0  \n",
       "526            0  \n",
       "623            0  \n",
       "682            0  \n",
       "800            0  \n",
       "1060           0  \n",
       "1158           0  \n",
       "1187           0  \n",
       "1227           0  \n",
       "1557           0  \n",
       "1875           0  \n",
       "1885           0  \n",
       "1964           0  \n",
       "\n",
       "[14 rows x 79 columns]"
      ]
     },
     "execution_count": 48,
     "metadata": {},
     "output_type": "execute_result"
    }
   ],
   "source": [
    "mask1 =hard_coded_bool_columns[0]\n",
    "mask2 =hard_coded_bool_columns[1]\n",
    "X0.loc[mask1].loc[mask2]"
   ]
  },
  {
   "cell_type": "code",
   "execution_count": 49,
   "id": "654b5359-26f2-4974-b6f0-338c82944256",
   "metadata": {
    "tags": []
   },
   "outputs": [],
   "source": [
    "def how_much_a_deal(X0,X_multiplied,X_multiplied_sc,y,hard_coded_bool_columns,ridgecv): # i'm tired, don't judge too harshly but this is all for the narrative in the presentation\n",
    "    y_preds = ridgecv.predict(X_multiplied_sc)\n",
    "    X0['payed_vs_calc'] = y_preds-y \n",
    "    # this takes imagining the given y values are historic sale prices. \n",
    "    mask1 =hard_coded_bool_columns[0]\n",
    "    mask2 =hard_coded_bool_columns[1]\n",
    "    return X0.loc[mask1].loc[mask2][['pid','payed_vs_calc']].sort_values('payed_vs_calc')\n"
   ]
  },
  {
   "cell_type": "code",
   "execution_count": 50,
   "id": "777004e9-92ad-4508-8ae5-f151901fadda",
   "metadata": {
    "tags": []
   },
   "outputs": [],
   "source": [
    "towards_buyer_df= how_much_a_deal(X0,X_multiplied,X_multiplied_sc,y,hard_coded_bool_columns,ridgecv)"
   ]
  },
  {
   "cell_type": "code",
   "execution_count": 51,
   "id": "664033fb-c60e-4c98-8b19-c33d4d6fba01",
   "metadata": {
    "tags": []
   },
   "outputs": [
    {
     "data": {
      "text/html": [
       "<div>\n",
       "<style scoped>\n",
       "    .dataframe tbody tr th:only-of-type {\n",
       "        vertical-align: middle;\n",
       "    }\n",
       "\n",
       "    .dataframe tbody tr th {\n",
       "        vertical-align: top;\n",
       "    }\n",
       "\n",
       "    .dataframe thead th {\n",
       "        text-align: right;\n",
       "    }\n",
       "</style>\n",
       "<table border=\"1\" class=\"dataframe\">\n",
       "  <thead>\n",
       "    <tr style=\"text-align: right;\">\n",
       "      <th></th>\n",
       "      <th>pid</th>\n",
       "      <th>payed_vs_calc</th>\n",
       "    </tr>\n",
       "  </thead>\n",
       "  <tbody>\n",
       "    <tr>\n",
       "      <th>1964</th>\n",
       "      <td>527216080</td>\n",
       "      <td>-137857.396215</td>\n",
       "    </tr>\n",
       "    <tr>\n",
       "      <th>623</th>\n",
       "      <td>528176030</td>\n",
       "      <td>-107997.395195</td>\n",
       "    </tr>\n",
       "    <tr>\n",
       "      <th>1158</th>\n",
       "      <td>906412010</td>\n",
       "      <td>-96597.588320</td>\n",
       "    </tr>\n",
       "    <tr>\n",
       "      <th>81</th>\n",
       "      <td>527214050</td>\n",
       "      <td>-83479.967690</td>\n",
       "    </tr>\n",
       "    <tr>\n",
       "      <th>800</th>\n",
       "      <td>528118050</td>\n",
       "      <td>-68221.748026</td>\n",
       "    </tr>\n",
       "    <tr>\n",
       "      <th>1227</th>\n",
       "      <td>528176010</td>\n",
       "      <td>-52521.803569</td>\n",
       "    </tr>\n",
       "    <tr>\n",
       "      <th>526</th>\n",
       "      <td>528114010</td>\n",
       "      <td>-18031.550894</td>\n",
       "    </tr>\n",
       "    <tr>\n",
       "      <th>1875</th>\n",
       "      <td>923202220</td>\n",
       "      <td>-6615.290329</td>\n",
       "    </tr>\n",
       "    <tr>\n",
       "      <th>199</th>\n",
       "      <td>528166060</td>\n",
       "      <td>2777.483803</td>\n",
       "    </tr>\n",
       "    <tr>\n",
       "      <th>1557</th>\n",
       "      <td>907250070</td>\n",
       "      <td>7694.132996</td>\n",
       "    </tr>\n",
       "    <tr>\n",
       "      <th>1187</th>\n",
       "      <td>528435060</td>\n",
       "      <td>9225.088083</td>\n",
       "    </tr>\n",
       "    <tr>\n",
       "      <th>1060</th>\n",
       "      <td>906340100</td>\n",
       "      <td>15294.898043</td>\n",
       "    </tr>\n",
       "    <tr>\n",
       "      <th>682</th>\n",
       "      <td>528104050</td>\n",
       "      <td>41127.819803</td>\n",
       "    </tr>\n",
       "    <tr>\n",
       "      <th>1885</th>\n",
       "      <td>908154195</td>\n",
       "      <td>219131.621199</td>\n",
       "    </tr>\n",
       "  </tbody>\n",
       "</table>\n",
       "</div>"
      ],
      "text/plain": [
       "            pid  payed_vs_calc\n",
       "1964  527216080 -137857.396215\n",
       "623   528176030 -107997.395195\n",
       "1158  906412010  -96597.588320\n",
       "81    527214050  -83479.967690\n",
       "800   528118050  -68221.748026\n",
       "1227  528176010  -52521.803569\n",
       "526   528114010  -18031.550894\n",
       "1875  923202220   -6615.290329\n",
       "199   528166060    2777.483803\n",
       "1557  907250070    7694.132996\n",
       "1187  528435060    9225.088083\n",
       "1060  906340100   15294.898043\n",
       "682   528104050   41127.819803\n",
       "1885  908154195  219131.621199"
      ]
     },
     "execution_count": 51,
     "metadata": {},
     "output_type": "execute_result"
    }
   ],
   "source": [
    "towards_buyer_df # here are parcels of land that fit your specifications ordered by the difference in municipal records and the calculated worth\n",
    "# 'payed_vs_calc' is how much over you are expecting the value of a house to be\n",
    "# my RMSE is around 30 k at the moment so my recomendation is PID:528104050 or PID:908154195"
   ]
  },
  {
   "cell_type": "code",
   "execution_count": 52,
   "id": "a4a57d61-ec21-4f26-954a-04cb03d14a41",
   "metadata": {
    "tags": []
   },
   "outputs": [],
   "source": [
    "towards_buyer_df.to_csv('../datasets/deliverable.csv')"
   ]
  },
  {
   "cell_type": "markdown",
   "id": "2324db09-3c63-44dc-bf62-909dddb0c9d6",
   "metadata": {},
   "source": [
    "### Takeaways from these notebooks. \n",
    "This was excelent work for me and I feel much more advanced for having complete it\n",
    "I need sleep\n",
    "the model mathematics portion of this project that was the most disaopainted in terms of the ratio effort given vs imporement in the model."
   ]
  },
  {
   "cell_type": "markdown",
   "id": "d4f80ce0-88fe-43a7-b924-3e26b5962283",
   "metadata": {
    "tags": []
   },
   "source": [
    "## Customer Deliveralbes:\n",
    "\n",
    "* Can search for houses with certain specs in existing dataframes\n",
    "* Can rate reach sorted house in terms of the difference between model predicted value and municipal records to capitalize on opportunity.\n",
    "* The ridge regression model created and cross validated results in a R2 score of 90%: 90% of the variation of * the sale price can be explained by our model. it also has a 24K RMSE (assuming there may be leakage I need to check) which will help the customer have more options for their constraints\n"
   ]
  },
  {
   "cell_type": "code",
   "execution_count": null,
   "id": "70ec8ebc-7350-4371-a3f2-3b70406c8337",
   "metadata": {},
   "outputs": [],
   "source": []
  }
 ],
 "metadata": {
  "kernelspec": {
   "display_name": "Python 3 (ipykernel)",
   "language": "python",
   "name": "python3"
  },
  "language_info": {
   "codemirror_mode": {
    "name": "ipython",
    "version": 3
   },
   "file_extension": ".py",
   "mimetype": "text/x-python",
   "name": "python",
   "nbconvert_exporter": "python",
   "pygments_lexer": "ipython3",
   "version": "3.11.4"
  }
 },
 "nbformat": 4,
 "nbformat_minor": 5
}
