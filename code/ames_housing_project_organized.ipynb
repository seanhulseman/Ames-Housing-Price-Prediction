{
 "cells": [
  {
   "cell_type": "code",
   "execution_count": 2,
   "metadata": {},
   "outputs": [],
   "source": [
    "import pandas as pd\n",
    "import numpy as np\n",
    "import matplotlib.pyplot as plt\n",
    "from sklearn.model_selection import train_test_split, GridSearchCV\n",
    "from sklearn.ensemble import RandomForestRegressor, ExtraTreesRegressor, AdaBoostRegressor, GradientBoostingRegressor, BaggingRegressor\n",
    "from sklearn.tree import DecisionTreeRegressor\n",
    "from sklearn import metrics\n",
    "from sklearn.metrics import mean_squared_log_error, mean_squared_error, mean_absolute_error\n",
    "import xgboost as xgb\n",
    "from my_functions import map_home, numeric_houses, dummy_houses, quality_multiplication, test_col_matcher\n",
    "# hide warnings\n",
    "import warnings\n",
    "warnings.filterwarnings('ignore')"
   ]
  },
  {
   "cell_type": "markdown",
   "metadata": {},
   "source": [
    "## Read in the labaled data"
   ]
  },
  {
   "cell_type": "code",
   "execution_count": 3,
   "metadata": {},
   "outputs": [],
   "source": [
    "df = pd.read_csv('../datasets/train.csv')\n",
    "df.columns =df.columns.str.lower().str.replace(' ','_')"
   ]
  },
  {
   "cell_type": "markdown",
   "metadata": {},
   "source": [
    "#### Taking a peek at the missing values in two ways"
   ]
  },
  {
   "cell_type": "markdown",
   "metadata": {},
   "source": [
    "80 Columns and the target (sale price). df['alley] is almost all missing and I sense there are different logical reasons for the rates of missing values. There may be no way to describe quality of an amenity that a house does not have! "
   ]
  },
  {
   "cell_type": "code",
   "execution_count": 4,
   "metadata": {},
   "outputs": [
    {
     "name": "stdout",
     "output_type": "stream",
     "text": [
      "<class 'pandas.core.frame.DataFrame'>\n",
      "RangeIndex: 2051 entries, 0 to 2050\n",
      "Data columns (total 81 columns):\n",
      " #   Column           Non-Null Count  Dtype  \n",
      "---  ------           --------------  -----  \n",
      " 0   id               2051 non-null   int64  \n",
      " 1   pid              2051 non-null   int64  \n",
      " 2   ms_subclass      2051 non-null   int64  \n",
      " 3   ms_zoning        2051 non-null   object \n",
      " 4   lot_frontage     1721 non-null   float64\n",
      " 5   lot_area         2051 non-null   int64  \n",
      " 6   street           2051 non-null   object \n",
      " 7   alley            140 non-null    object \n",
      " 8   lot_shape        2051 non-null   object \n",
      " 9   land_contour     2051 non-null   object \n",
      " 10  utilities        2051 non-null   object \n",
      " 11  lot_config       2051 non-null   object \n",
      " 12  land_slope       2051 non-null   object \n",
      " 13  neighborhood     2051 non-null   object \n",
      " 14  condition_1      2051 non-null   object \n",
      " 15  condition_2      2051 non-null   object \n",
      " 16  bldg_type        2051 non-null   object \n",
      " 17  house_style      2051 non-null   object \n",
      " 18  overall_qual     2051 non-null   int64  \n",
      " 19  overall_cond     2051 non-null   int64  \n",
      " 20  year_built       2051 non-null   int64  \n",
      " 21  year_remod/add   2051 non-null   int64  \n",
      " 22  roof_style       2051 non-null   object \n",
      " 23  roof_matl        2051 non-null   object \n",
      " 24  exterior_1st     2051 non-null   object \n",
      " 25  exterior_2nd     2051 non-null   object \n",
      " 26  mas_vnr_type     2029 non-null   object \n",
      " 27  mas_vnr_area     2029 non-null   float64\n",
      " 28  exter_qual       2051 non-null   object \n",
      " 29  exter_cond       2051 non-null   object \n",
      " 30  foundation       2051 non-null   object \n",
      " 31  bsmt_qual        1996 non-null   object \n",
      " 32  bsmt_cond        1996 non-null   object \n",
      " 33  bsmt_exposure    1993 non-null   object \n",
      " 34  bsmtfin_type_1   1996 non-null   object \n",
      " 35  bsmtfin_sf_1     2050 non-null   float64\n",
      " 36  bsmtfin_type_2   1995 non-null   object \n",
      " 37  bsmtfin_sf_2     2050 non-null   float64\n",
      " 38  bsmt_unf_sf      2050 non-null   float64\n",
      " 39  total_bsmt_sf    2050 non-null   float64\n",
      " 40  heating          2051 non-null   object \n",
      " 41  heating_qc       2051 non-null   object \n",
      " 42  central_air      2051 non-null   object \n",
      " 43  electrical       2051 non-null   object \n",
      " 44  1st_flr_sf       2051 non-null   int64  \n",
      " 45  2nd_flr_sf       2051 non-null   int64  \n",
      " 46  low_qual_fin_sf  2051 non-null   int64  \n",
      " 47  gr_liv_area      2051 non-null   int64  \n",
      " 48  bsmt_full_bath   2049 non-null   float64\n",
      " 49  bsmt_half_bath   2049 non-null   float64\n",
      " 50  full_bath        2051 non-null   int64  \n",
      " 51  half_bath        2051 non-null   int64  \n",
      " 52  bedroom_abvgr    2051 non-null   int64  \n",
      " 53  kitchen_abvgr    2051 non-null   int64  \n",
      " 54  kitchen_qual     2051 non-null   object \n",
      " 55  totrms_abvgrd    2051 non-null   int64  \n",
      " 56  functional       2051 non-null   object \n",
      " 57  fireplaces       2051 non-null   int64  \n",
      " 58  fireplace_qu     1051 non-null   object \n",
      " 59  garage_type      1938 non-null   object \n",
      " 60  garage_yr_blt    1937 non-null   float64\n",
      " 61  garage_finish    1937 non-null   object \n",
      " 62  garage_cars      2050 non-null   float64\n",
      " 63  garage_area      2050 non-null   float64\n",
      " 64  garage_qual      1937 non-null   object \n",
      " 65  garage_cond      1937 non-null   object \n",
      " 66  paved_drive      2051 non-null   object \n",
      " 67  wood_deck_sf     2051 non-null   int64  \n",
      " 68  open_porch_sf    2051 non-null   int64  \n",
      " 69  enclosed_porch   2051 non-null   int64  \n",
      " 70  3ssn_porch       2051 non-null   int64  \n",
      " 71  screen_porch     2051 non-null   int64  \n",
      " 72  pool_area        2051 non-null   int64  \n",
      " 73  pool_qc          9 non-null      object \n",
      " 74  fence            400 non-null    object \n",
      " 75  misc_feature     65 non-null     object \n",
      " 76  misc_val         2051 non-null   int64  \n",
      " 77  mo_sold          2051 non-null   int64  \n",
      " 78  yr_sold          2051 non-null   int64  \n",
      " 79  sale_type        2051 non-null   object \n",
      " 80  saleprice        2051 non-null   int64  \n",
      "dtypes: float64(11), int64(28), object(42)\n",
      "memory usage: 1.3+ MB\n"
     ]
    }
   ],
   "source": [
    "df.info()"
   ]
  },
  {
   "cell_type": "markdown",
   "metadata": {},
   "source": [
    "Divide and conquer! I found that most columns"
   ]
  },
  {
   "cell_type": "code",
   "execution_count": 24,
   "metadata": {},
   "outputs": [
    {
     "data": {
      "text/plain": [
       "[(0.9956118966357874, 'pool_qc'),\n",
       " (0.9683081423695759, 'misc_feature'),\n",
       " (0.931740614334471, 'alley'),\n",
       " (0.8049731838127743, 'fence'),\n",
       " (0.48756704046806437, 'fireplace_qu'),\n",
       " (0.16089712335446124, 'lot_frontage'),\n",
       " (0.05558264261335934, 'garage_yr_blt'),\n",
       " (0.05558264261335934, 'garage_finish'),\n",
       " (0.05558264261335934, 'garage_qual'),\n",
       " (0.05558264261335934, 'garage_cond')]"
      ]
     },
     "execution_count": 24,
     "metadata": {},
     "output_type": "execute_result"
    }
   ],
   "source": [
    "# Only the features missing data in order of most missing to least missing\n",
    "features = list(df.columns)\n",
    "missing_vals= [(df[features[i]].isna().mean(),features[i])for i in range(80) if df[features[i]].isna().mean() > 0]\n",
    "missing_vals.sort(key=lambda pair: pair[0], reverse= True)\n",
    "missing_vals[:10] "
   ]
  },
  {
   "cell_type": "code",
   "execution_count": 28,
   "metadata": {},
   "outputs": [],
   "source": [
    "missing_num = len(missing_vals)\n",
    "# round to 4 places\n",
    "missing_vals = [(round(missing_vals[i][0],4),missing_vals[i][1]) for i in range(missing_num)] \n",
    "# what are the data types of the missing features lets put that in the list\n",
    "missing_vals_types = [(missing_vals[i][0],missing_vals[i][1],df[missing_vals[i][1]].dtype) for i in range(missing_num)]\n",
    "# spliting this list in two for the two types of missing data\n",
    "missing_vals_numeric = [missing_vals_types[i] for i in range(missing_num) if missing_vals_types[i][2] != 'object']\n",
    "missing_vals_object = [missing_vals_types[i] for i in range(missing_num) if missing_vals_types[i][2] == 'object']\n"
   ]
  },
  {
   "cell_type": "code",
   "execution_count": 29,
   "metadata": {},
   "outputs": [
    {
     "data": {
      "text/plain": [
       "[(0.1609, 'lot_frontage', dtype('float64')),\n",
       " (0.0556, 'garage_yr_blt', dtype('float64')),\n",
       " (0.0107, 'mas_vnr_area', dtype('float64')),\n",
       " (0.001, 'bsmt_full_bath', dtype('float64')),\n",
       " (0.001, 'bsmt_half_bath', dtype('float64')),\n",
       " (0.0005, 'bsmtfin_sf_1', dtype('float64')),\n",
       " (0.0005, 'bsmtfin_sf_2', dtype('float64')),\n",
       " (0.0005, 'bsmt_unf_sf', dtype('float64')),\n",
       " (0.0005, 'total_bsmt_sf', dtype('float64')),\n",
       " (0.0005, 'garage_cars', dtype('float64')),\n",
       " (0.0005, 'garage_area', dtype('float64'))]"
      ]
     },
     "execution_count": 29,
     "metadata": {},
     "output_type": "execute_result"
    }
   ],
   "source": [
    "missing_vals_numeric"
   ]
  },
  {
   "cell_type": "code",
   "execution_count": 30,
   "metadata": {},
   "outputs": [
    {
     "data": {
      "text/plain": [
       "[(0.9956, 'pool_qc', dtype('O')),\n",
       " (0.9683, 'misc_feature', dtype('O')),\n",
       " (0.9317, 'alley', dtype('O')),\n",
       " (0.805, 'fence', dtype('O')),\n",
       " (0.4876, 'fireplace_qu', dtype('O')),\n",
       " (0.0556, 'garage_finish', dtype('O')),\n",
       " (0.0556, 'garage_qual', dtype('O')),\n",
       " (0.0556, 'garage_cond', dtype('O')),\n",
       " (0.0551, 'garage_type', dtype('O')),\n",
       " (0.0283, 'bsmt_exposure', dtype('O')),\n",
       " (0.0273, 'bsmtfin_type_2', dtype('O')),\n",
       " (0.0268, 'bsmt_qual', dtype('O')),\n",
       " (0.0268, 'bsmt_cond', dtype('O')),\n",
       " (0.0268, 'bsmtfin_type_1', dtype('O')),\n",
       " (0.0107, 'mas_vnr_type', dtype('O'))]"
      ]
     },
     "execution_count": 30,
     "metadata": {},
     "output_type": "execute_result"
    }
   ],
   "source": [
    "missing_vals_object"
   ]
  },
  {
   "cell_type": "markdown",
   "metadata": {},
   "source": [
    "# Project Challenges\n",
    "\n",
    "One major challenge in this project is that there are 26 columns that are missing data with a wide variety of causes. Data-coding issue? Amenity missing? Bad data entry? \n",
    "\n",
    "## Handling Missing Values\n",
    "\n",
    "If a house does not have a specific amenity, the other columns describing its quality and condition might be null or zero. Missing values in numeric columns will likely be imputed to zero. Categorical can be \n",
    "\n",
    "## Model Objective\n",
    "\n",
    "The goal is to build a model that will not lose any information about the amenities or their condition."
   ]
  },
  {
   "cell_type": "code",
   "execution_count": null,
   "metadata": {},
   "outputs": [],
   "source": []
  },
  {
   "cell_type": "markdown",
   "metadata": {},
   "source": []
  },
  {
   "cell_type": "markdown",
   "metadata": {},
   "source": [
    "Many variables seem to be on an ordinal scale like this"
   ]
  },
  {
   "cell_type": "code",
   "execution_count": 6,
   "metadata": {},
   "outputs": [
    {
     "data": {
      "text/plain": [
       "Gd    523\n",
       "TA    407\n",
       "Fa     59\n",
       "Po     31\n",
       "Ex     31\n",
       "Name: fireplace_qu, dtype: int64"
      ]
     },
     "execution_count": 6,
     "metadata": {},
     "output_type": "execute_result"
    }
   ],
   "source": [
    "df['fireplace_qu'].value_counts()"
   ]
  },
  {
   "cell_type": "markdown",
   "metadata": {},
   "source": [
    "80 columns and the target,saleprice, Lots of data missing and different types. Lots  of cleaning to do."
   ]
  },
  {
   "cell_type": "markdown",
   "metadata": {},
   "source": [
    "<p>One major challenge in this project is that there are many columns that are missing for a significant number of houses.</p> \n",
    "<p>If it does not have the specific amenity the other columns describing its quality and condition - will they be null? zero?. </p> <p> I want to build a model that will not lose any information about the amenities or their condition.</p>"
   ]
  },
  {
   "cell_type": "code",
   "execution_count": 7,
   "metadata": {},
   "outputs": [
    {
     "data": {
      "image/png": "[encoded data removed]",
      "text/plain": [
       "<Figure size 700x400 with 1 Axes>"
      ]
     },
     "metadata": {},
     "output_type": "display_data"
    }
   ],
   "source": [
    "plt.figure(figsize=(7,4))\n",
    "plt.hist(df['saleprice'], bins = 100)\n",
    "plt.xlabel('Sale Price')\n",
    "plt.ylabel('Count')\n",
    "plt.axvline(np.median(df['saleprice']), color='orange')\n",
    "plt.title('Registered Sale Prices of Homes in Ames \\n'+ \n",
    "          'Median Sale Price - $162500',loc= 'left')\n",
    "plt.savefig('../images/price_hist.png');"
   ]
  },
  {
   "cell_type": "code",
   "execution_count": 8,
   "metadata": {},
   "outputs": [
    {
     "data": {
      "text/plain": [
       "saleprice         1.000000\n",
       "overall_qual      0.800207\n",
       "gr_liv_area       0.697038\n",
       "garage_area       0.650270\n",
       "garage_cars       0.648220\n",
       "total_bsmt_sf     0.628925\n",
       "1st_flr_sf        0.618486\n",
       "year_built        0.571849\n",
       "year_remod/add    0.550370\n",
       "full_bath         0.537969\n",
       "garage_yr_blt     0.533922\n",
       "mas_vnr_area      0.512230\n",
       "totrms_abvgrd     0.504014\n",
       "fireplaces        0.471093\n",
       "bsmtfin_sf_1      0.423519\n",
       "lot_frontage      0.341842\n",
       "open_porch_sf     0.333476\n",
       "wood_deck_sf      0.326490\n",
       "lot_area          0.296566\n",
       "bsmt_full_bath    0.283662\n",
       "Name: saleprice, dtype: float64"
      ]
     },
     "execution_count": 8,
     "metadata": {},
     "output_type": "execute_result"
    }
   ],
   "source": [
    "df.corr()['saleprice'].sort_values(ascending=False).head(20)"
   ]
  },
  {
   "cell_type": "code",
   "execution_count": 9,
   "metadata": {},
   "outputs": [
    {
     "data": {
      "text/plain": [
       "Index(['gr_liv_area'], dtype='object')"
      ]
     },
     "execution_count": 9,
     "metadata": {},
     "output_type": "execute_result"
    }
   ],
   "source": [
    "# is there a column that has like grlivearea but is not grlivearea?\n",
    "# if so what is the name\n",
    "df.columns[df.columns.str.contains('gr_liv')]"
   ]
  },
  {
   "cell_type": "code",
   "execution_count": 10,
   "metadata": {},
   "outputs": [
    {
     "data": {
      "text/plain": [
       "overall_qual      1.000000\n",
       "saleprice         0.800207\n",
       "year_built        0.602964\n",
       "garage_cars       0.587423\n",
       "year_remod/add    0.584654\n",
       "garage_yr_blt     0.574553\n",
       "gr_liv_area       0.566701\n",
       "garage_area       0.563814\n",
       "total_bsmt_sf     0.548742\n",
       "full_bath         0.515080\n",
       "1st_flr_sf        0.477136\n",
       "mas_vnr_area      0.438685\n",
       "fireplaces        0.388920\n",
       "totrms_abvgrd     0.382025\n",
       "open_porch_sf     0.308855\n",
       "bsmtfin_sf_1      0.278742\n",
       "bsmt_unf_sf       0.275773\n",
       "half_bath         0.274859\n",
       "wood_deck_sf      0.257081\n",
       "2nd_flr_sf        0.228152\n",
       "Name: overall_qual, dtype: float64"
      ]
     },
     "execution_count": 10,
     "metadata": {},
     "output_type": "execute_result"
    }
   ],
   "source": [
    "df.corr()['overall_qual'].sort_values(ascending=False).head(20)"
   ]
  },
  {
   "cell_type": "code",
   "execution_count": 11,
   "metadata": {},
   "outputs": [
    {
     "data": {
      "image/png": "[encoded data removed]",
      "text/plain": [
       "<Figure size 700x400 with 1 Axes>"
      ]
     },
     "metadata": {},
     "output_type": "display_data"
    }
   ],
   "source": [
    "plt.figure(figsize=(7,4))\n",
    "plt.hist(df['year_built'], bins = 100)\n",
    "plt.xlabel('year built')\n",
    "plt.ylabel('Count')\n",
    "# plt.axvline(np.mean(df['year_built']), color='orange')\n",
    "plt.title('Registered Sales of Homes in Ames \\n'+ \n",
    "           'Year built',loc= 'left')\n",
    "plt.savefig('../images/year_built_hist.png');"
   ]
  },
  {
   "cell_type": "code",
   "execution_count": 12,
   "metadata": {},
   "outputs": [
    {
     "data": {
      "image/png": "[encoded data removed]",
      "text/plain": [
       "<Figure size 700x400 with 1 Axes>"
      ]
     },
     "metadata": {},
     "output_type": "display_data"
    }
   ],
   "source": [
    "plt.figure(figsize=(7,4))\n",
    "plt.hist(df['gr_liv_area'], bins = 100)\n",
    "plt.xlabel('gr_liv_area')\n",
    "plt.ylabel('Count')\n",
    "plt.axvline(np.mean(df['gr_liv_area']), color='orange')\n",
    "plt.title('Registered Sales of Homes in Ames \\n'+ \n",
    "           'Living Area',loc= 'left')\n",
    "plt.savefig('../images/gr_liv_area_hist.png');"
   ]
  },
  {
   "cell_type": "code",
   "execution_count": null,
   "metadata": {},
   "outputs": [],
   "source": []
  },
  {
   "cell_type": "markdown",
   "metadata": {},
   "source": [
    "Typical quality columns have values like the ones below and I build a function that applies a map to each similar column that has ordinal values."
   ]
  },
  {
   "cell_type": "code",
   "execution_count": 13,
   "metadata": {},
   "outputs": [
    {
     "data": {
      "text/plain": [
       "TA    1832\n",
       "Fa      82\n",
       "Gd      18\n",
       "Ex       3\n",
       "Po       2\n",
       "Name: garage_qual, dtype: int64"
      ]
     },
     "execution_count": 13,
     "metadata": {},
     "output_type": "execute_result"
    }
   ],
   "source": [
    "df['garage_qual'].value_counts()"
   ]
  },
  {
   "cell_type": "code",
   "execution_count": null,
   "metadata": {},
   "outputs": [],
   "source": []
  },
  {
   "cell_type": "markdown",
   "metadata": {},
   "source": [
    "#### Next, I will map, clean missing data, make dummy columns, and prepare for feature engineering \n",
    "In map_home()map the 'quality' columns to make them ordinal, which is then used to add a quality multiplier to the various types of amenities described in the data. A simple reason for why is this: A garage should increase your house's value if it is in good condition. If it is in disrepair it is a burden and its presence should decrease the sale price. This and other valuation of amenity problems are addressed in the functions I created for this\n",
    "\n",
    "\n",
    "In numeric_houses() I clean the missing values from numeric columns.\n",
    "\n",
    "\n",
    "In dummy_houses() I one-hot-encode the categorical variables to create columns that indicate the presence or absence of specific amenities of the property (misc_feature_Shed or misc_feature_TenC for example)\n"
   ]
  }
 ],
 "metadata": {
  "kernelspec": {
   "display_name": "base",
   "language": "python",
   "name": "python3"
  },
  "language_info": {
   "codemirror_mode": {
    "name": "ipython",
    "version": 3
   },
   "file_extension": ".py",
   "mimetype": "text/x-python",
   "name": "python",
   "nbconvert_exporter": "python",
   "pygments_lexer": "ipython3",
   "version": "3.11.5"
  }
 },
 "nbformat": 4,
 "nbformat_minor": 2
}
