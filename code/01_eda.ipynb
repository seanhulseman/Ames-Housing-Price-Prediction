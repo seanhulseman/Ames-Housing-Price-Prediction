{
 "cells": [
  {
   "cell_type": "code",
   "execution_count": 25,
   "id": "bd11ce8a-ceef-463b-8538-54be6edc0d1d",
   "metadata": {
    "tags": []
   },
   "outputs": [],
   "source": [
    "import pandas as pd\n",
    "import numpy as np\n",
    "from scipy import stats\n",
    "import matplotlib.pyplot as plt\n",
    "import seaborn as sns\n",
    "from sklearn.linear_model import LinearRegression"
   ]
  },
  {
   "cell_type": "code",
   "execution_count": 26,
   "id": "1ec7e83c-0607-414a-aae8-8202ac6cb5f4",
   "metadata": {
    "tags": []
   },
   "outputs": [],
   "source": [
    "houses = pd.read_csv('../datasets/train.csv')\n",
    "#test = pd.read_csv('datasets/test.csv')\n",
    "#sample_sub_reg = pd.read_csv('datasets/sample_sub_reg.csv')"
   ]
  },
  {
   "cell_type": "code",
   "execution_count": 27,
   "id": "7f0582c0-f862-4ded-9c14-d3d44bf44c18",
   "metadata": {
    "tags": []
   },
   "outputs": [
    {
     "data": {
      "text/html": [
       "<div>\n",
       "<style scoped>\n",
       "    .dataframe tbody tr th:only-of-type {\n",
       "        vertical-align: middle;\n",
       "    }\n",
       "\n",
       "    .dataframe tbody tr th {\n",
       "        vertical-align: top;\n",
       "    }\n",
       "\n",
       "    .dataframe thead th {\n",
       "        text-align: right;\n",
       "    }\n",
       "</style>\n",
       "<table border=\"1\" class=\"dataframe\">\n",
       "  <thead>\n",
       "    <tr style=\"text-align: right;\">\n",
       "      <th></th>\n",
       "      <th>Id</th>\n",
       "      <th>PID</th>\n",
       "      <th>MS SubClass</th>\n",
       "      <th>MS Zoning</th>\n",
       "      <th>Lot Frontage</th>\n",
       "      <th>Lot Area</th>\n",
       "      <th>Street</th>\n",
       "      <th>Alley</th>\n",
       "      <th>Lot Shape</th>\n",
       "      <th>Land Contour</th>\n",
       "      <th>...</th>\n",
       "      <th>Screen Porch</th>\n",
       "      <th>Pool Area</th>\n",
       "      <th>Pool QC</th>\n",
       "      <th>Fence</th>\n",
       "      <th>Misc Feature</th>\n",
       "      <th>Misc Val</th>\n",
       "      <th>Mo Sold</th>\n",
       "      <th>Yr Sold</th>\n",
       "      <th>Sale Type</th>\n",
       "      <th>SalePrice</th>\n",
       "    </tr>\n",
       "  </thead>\n",
       "  <tbody>\n",
       "    <tr>\n",
       "      <th>0</th>\n",
       "      <td>109</td>\n",
       "      <td>533352170</td>\n",
       "      <td>60</td>\n",
       "      <td>RL</td>\n",
       "      <td>NaN</td>\n",
       "      <td>13517</td>\n",
       "      <td>Pave</td>\n",
       "      <td>NaN</td>\n",
       "      <td>IR1</td>\n",
       "      <td>Lvl</td>\n",
       "      <td>...</td>\n",
       "      <td>0</td>\n",
       "      <td>0</td>\n",
       "      <td>NaN</td>\n",
       "      <td>NaN</td>\n",
       "      <td>NaN</td>\n",
       "      <td>0</td>\n",
       "      <td>3</td>\n",
       "      <td>2010</td>\n",
       "      <td>WD</td>\n",
       "      <td>130500</td>\n",
       "    </tr>\n",
       "    <tr>\n",
       "      <th>1</th>\n",
       "      <td>544</td>\n",
       "      <td>531379050</td>\n",
       "      <td>60</td>\n",
       "      <td>RL</td>\n",
       "      <td>43.0</td>\n",
       "      <td>11492</td>\n",
       "      <td>Pave</td>\n",
       "      <td>NaN</td>\n",
       "      <td>IR1</td>\n",
       "      <td>Lvl</td>\n",
       "      <td>...</td>\n",
       "      <td>0</td>\n",
       "      <td>0</td>\n",
       "      <td>NaN</td>\n",
       "      <td>NaN</td>\n",
       "      <td>NaN</td>\n",
       "      <td>0</td>\n",
       "      <td>4</td>\n",
       "      <td>2009</td>\n",
       "      <td>WD</td>\n",
       "      <td>220000</td>\n",
       "    </tr>\n",
       "    <tr>\n",
       "      <th>2</th>\n",
       "      <td>153</td>\n",
       "      <td>535304180</td>\n",
       "      <td>20</td>\n",
       "      <td>RL</td>\n",
       "      <td>68.0</td>\n",
       "      <td>7922</td>\n",
       "      <td>Pave</td>\n",
       "      <td>NaN</td>\n",
       "      <td>Reg</td>\n",
       "      <td>Lvl</td>\n",
       "      <td>...</td>\n",
       "      <td>0</td>\n",
       "      <td>0</td>\n",
       "      <td>NaN</td>\n",
       "      <td>NaN</td>\n",
       "      <td>NaN</td>\n",
       "      <td>0</td>\n",
       "      <td>1</td>\n",
       "      <td>2010</td>\n",
       "      <td>WD</td>\n",
       "      <td>109000</td>\n",
       "    </tr>\n",
       "    <tr>\n",
       "      <th>3</th>\n",
       "      <td>318</td>\n",
       "      <td>916386060</td>\n",
       "      <td>60</td>\n",
       "      <td>RL</td>\n",
       "      <td>73.0</td>\n",
       "      <td>9802</td>\n",
       "      <td>Pave</td>\n",
       "      <td>NaN</td>\n",
       "      <td>Reg</td>\n",
       "      <td>Lvl</td>\n",
       "      <td>...</td>\n",
       "      <td>0</td>\n",
       "      <td>0</td>\n",
       "      <td>NaN</td>\n",
       "      <td>NaN</td>\n",
       "      <td>NaN</td>\n",
       "      <td>0</td>\n",
       "      <td>4</td>\n",
       "      <td>2010</td>\n",
       "      <td>WD</td>\n",
       "      <td>174000</td>\n",
       "    </tr>\n",
       "    <tr>\n",
       "      <th>4</th>\n",
       "      <td>255</td>\n",
       "      <td>906425045</td>\n",
       "      <td>50</td>\n",
       "      <td>RL</td>\n",
       "      <td>82.0</td>\n",
       "      <td>14235</td>\n",
       "      <td>Pave</td>\n",
       "      <td>NaN</td>\n",
       "      <td>IR1</td>\n",
       "      <td>Lvl</td>\n",
       "      <td>...</td>\n",
       "      <td>0</td>\n",
       "      <td>0</td>\n",
       "      <td>NaN</td>\n",
       "      <td>NaN</td>\n",
       "      <td>NaN</td>\n",
       "      <td>0</td>\n",
       "      <td>3</td>\n",
       "      <td>2010</td>\n",
       "      <td>WD</td>\n",
       "      <td>138500</td>\n",
       "    </tr>\n",
       "  </tbody>\n",
       "</table>\n",
       "<p>5 rows × 81 columns</p>\n",
       "</div>"
      ],
      "text/plain": [
       "    Id        PID  MS SubClass MS Zoning  Lot Frontage  Lot Area Street Alley  \\\n",
       "0  109  533352170           60        RL           NaN     13517   Pave   NaN   \n",
       "1  544  531379050           60        RL          43.0     11492   Pave   NaN   \n",
       "2  153  535304180           20        RL          68.0      7922   Pave   NaN   \n",
       "3  318  916386060           60        RL          73.0      9802   Pave   NaN   \n",
       "4  255  906425045           50        RL          82.0     14235   Pave   NaN   \n",
       "\n",
       "  Lot Shape Land Contour  ... Screen Porch Pool Area Pool QC Fence  \\\n",
       "0       IR1          Lvl  ...            0         0     NaN   NaN   \n",
       "1       IR1          Lvl  ...            0         0     NaN   NaN   \n",
       "2       Reg          Lvl  ...            0         0     NaN   NaN   \n",
       "3       Reg          Lvl  ...            0         0     NaN   NaN   \n",
       "4       IR1          Lvl  ...            0         0     NaN   NaN   \n",
       "\n",
       "  Misc Feature Misc Val Mo Sold Yr Sold  Sale Type  SalePrice  \n",
       "0          NaN        0       3    2010        WD      130500  \n",
       "1          NaN        0       4    2009        WD      220000  \n",
       "2          NaN        0       1    2010        WD      109000  \n",
       "3          NaN        0       4    2010        WD      174000  \n",
       "4          NaN        0       3    2010        WD      138500  \n",
       "\n",
       "[5 rows x 81 columns]"
      ]
     },
     "execution_count": 27,
     "metadata": {},
     "output_type": "execute_result"
    }
   ],
   "source": [
    "houses.head()"
   ]
  },
  {
   "cell_type": "code",
   "execution_count": 29,
   "id": "1477223c-36d0-4076-b4c9-084ea5f63115",
   "metadata": {
    "tags": []
   },
   "outputs": [
    {
     "data": {
      "text/plain": [
       "count    2050.000000\n",
       "mean      473.671707\n",
       "std       215.934561\n",
       "min         0.000000\n",
       "25%       319.000000\n",
       "50%       480.000000\n",
       "75%       576.000000\n",
       "max      1418.000000\n",
       "Name: Garage Area, dtype: float64"
      ]
     },
     "execution_count": 29,
     "metadata": {},
     "output_type": "execute_result"
    }
   ],
   "source": [
    "houses['Garage Area'].describe()"
   ]
  },
  {
   "cell_type": "markdown",
   "id": "be6cb2d5-cd90-4c64-97aa-40ebee684505",
   "metadata": {},
   "source": [
    "## a simple strategy may be to see the non-missing, and non catagorical, columns and build a model without the suplementary information\n",
    "### lets try linear regression with numeric columns"
   ]
  },
  {
   "cell_type": "code",
   "execution_count": 4,
   "id": "99473d04-f36c-445f-8796-a5ef4e18455e",
   "metadata": {
    "tags": []
   },
   "outputs": [],
   "source": [
    "houses.columns =houses.columns.str.lower().str.replace(' ','_')\n",
    "X= houses[['overall_qual','overall_cond']]\n",
    "y= houses.saleprice"
   ]
  },
  {
   "cell_type": "code",
   "execution_count": 5,
   "id": "94949574-a2e3-4823-864d-4ffe0076aa54",
   "metadata": {
    "tags": []
   },
   "outputs": [],
   "source": [
    "lr = LinearRegression()"
   ]
  },
  {
   "cell_type": "code",
   "execution_count": 6,
   "id": "a37466cc-e07e-4eae-b6c3-0282a6d14105",
   "metadata": {
    "tags": []
   },
   "outputs": [
    {
     "data": {
      "text/html": [
       "<style>#sk-container-id-1 {color: black;}#sk-container-id-1 pre{padding: 0;}#sk-container-id-1 div.sk-toggleable {background-color: white;}#sk-container-id-1 label.sk-toggleable__label {cursor: pointer;display: block;width: 100%;margin-bottom: 0;padding: 0.3em;box-sizing: border-box;text-align: center;}#sk-container-id-1 label.sk-toggleable__label-arrow:before {content: \"▸\";float: left;margin-right: 0.25em;color: #696969;}#sk-container-id-1 label.sk-toggleable__label-arrow:hover:before {color: black;}#sk-container-id-1 div.sk-estimator:hover label.sk-toggleable__label-arrow:before {color: black;}#sk-container-id-1 div.sk-toggleable__content {max-height: 0;max-width: 0;overflow: hidden;text-align: left;background-color: #f0f8ff;}#sk-container-id-1 div.sk-toggleable__content pre {margin: 0.2em;color: black;border-radius: 0.25em;background-color: #f0f8ff;}#sk-container-id-1 input.sk-toggleable__control:checked~div.sk-toggleable__content {max-height: 200px;max-width: 100%;overflow: auto;}#sk-container-id-1 input.sk-toggleable__control:checked~label.sk-toggleable__label-arrow:before {content: \"▾\";}#sk-container-id-1 div.sk-estimator input.sk-toggleable__control:checked~label.sk-toggleable__label {background-color: #d4ebff;}#sk-container-id-1 div.sk-label input.sk-toggleable__control:checked~label.sk-toggleable__label {background-color: #d4ebff;}#sk-container-id-1 input.sk-hidden--visually {border: 0;clip: rect(1px 1px 1px 1px);clip: rect(1px, 1px, 1px, 1px);height: 1px;margin: -1px;overflow: hidden;padding: 0;position: absolute;width: 1px;}#sk-container-id-1 div.sk-estimator {font-family: monospace;background-color: #f0f8ff;border: 1px dotted black;border-radius: 0.25em;box-sizing: border-box;margin-bottom: 0.5em;}#sk-container-id-1 div.sk-estimator:hover {background-color: #d4ebff;}#sk-container-id-1 div.sk-parallel-item::after {content: \"\";width: 100%;border-bottom: 1px solid gray;flex-grow: 1;}#sk-container-id-1 div.sk-label:hover label.sk-toggleable__label {background-color: #d4ebff;}#sk-container-id-1 div.sk-serial::before {content: \"\";position: absolute;border-left: 1px solid gray;box-sizing: border-box;top: 0;bottom: 0;left: 50%;z-index: 0;}#sk-container-id-1 div.sk-serial {display: flex;flex-direction: column;align-items: center;background-color: white;padding-right: 0.2em;padding-left: 0.2em;position: relative;}#sk-container-id-1 div.sk-item {position: relative;z-index: 1;}#sk-container-id-1 div.sk-parallel {display: flex;align-items: stretch;justify-content: center;background-color: white;position: relative;}#sk-container-id-1 div.sk-item::before, #sk-container-id-1 div.sk-parallel-item::before {content: \"\";position: absolute;border-left: 1px solid gray;box-sizing: border-box;top: 0;bottom: 0;left: 50%;z-index: -1;}#sk-container-id-1 div.sk-parallel-item {display: flex;flex-direction: column;z-index: 1;position: relative;background-color: white;}#sk-container-id-1 div.sk-parallel-item:first-child::after {align-self: flex-end;width: 50%;}#sk-container-id-1 div.sk-parallel-item:last-child::after {align-self: flex-start;width: 50%;}#sk-container-id-1 div.sk-parallel-item:only-child::after {width: 0;}#sk-container-id-1 div.sk-dashed-wrapped {border: 1px dashed gray;margin: 0 0.4em 0.5em 0.4em;box-sizing: border-box;padding-bottom: 0.4em;background-color: white;}#sk-container-id-1 div.sk-label label {font-family: monospace;font-weight: bold;display: inline-block;line-height: 1.2em;}#sk-container-id-1 div.sk-label-container {text-align: center;}#sk-container-id-1 div.sk-container {/* jupyter's `normalize.less` sets `[hidden] { display: none; }` but bootstrap.min.css set `[hidden] { display: none !important; }` so we also need the `!important` here to be able to override the default hidden behavior on the sphinx rendered scikit-learn.org. See: https://github.com/scikit-learn/scikit-learn/issues/21755 */display: inline-block !important;position: relative;}#sk-container-id-1 div.sk-text-repr-fallback {display: none;}</style><div id=\"sk-container-id-1\" class=\"sk-top-container\"><div class=\"sk-text-repr-fallback\"><pre>LinearRegression()</pre><b>In a Jupyter environment, please rerun this cell to show the HTML representation or trust the notebook. <br />On GitHub, the HTML representation is unable to render, please try loading this page with nbviewer.org.</b></div><div class=\"sk-container\" hidden><div class=\"sk-item\"><div class=\"sk-estimator sk-toggleable\"><input class=\"sk-toggleable__control sk-hidden--visually\" id=\"sk-estimator-id-1\" type=\"checkbox\" checked><label for=\"sk-estimator-id-1\" class=\"sk-toggleable__label sk-toggleable__label-arrow\">LinearRegression</label><div class=\"sk-toggleable__content\"><pre>LinearRegression()</pre></div></div></div></div></div>"
      ],
      "text/plain": [
       "LinearRegression()"
      ]
     },
     "execution_count": 6,
     "metadata": {},
     "output_type": "execute_result"
    }
   ],
   "source": [
    "lr.fit(X,y)"
   ]
  },
  {
   "cell_type": "code",
   "execution_count": 47,
   "id": "0e7b6944-4797-4bdb-954a-62050d001999",
   "metadata": {},
   "outputs": [
    {
     "data": {
      "text/plain": [
       "0.6412853172301676"
      ]
     },
     "execution_count": 47,
     "metadata": {},
     "output_type": "execute_result"
    }
   ],
   "source": [
    "lr.score(X,y)"
   ]
  },
  {
   "cell_type": "code",
   "execution_count": 7,
   "id": "878f635e-4661-4195-8ab9-2ffce686809d",
   "metadata": {
    "tags": []
   },
   "outputs": [],
   "source": [
    "test = pd.read_csv('../datasets/test.csv')"
   ]
  },
  {
   "cell_type": "code",
   "execution_count": 8,
   "id": "ac5c34af-d6a3-41c6-8219-9da6bf9f900c",
   "metadata": {
    "tags": []
   },
   "outputs": [],
   "source": [
    "test.columns =test.columns.str.lower().str.replace(' ','_')"
   ]
  },
  {
   "cell_type": "code",
   "execution_count": 9,
   "id": "d45487ca-5bb6-40fb-b84f-4081b1507d22",
   "metadata": {
    "tags": []
   },
   "outputs": [],
   "source": [
    "y_pred = lr.predict(test[['overall_qual','overall_cond']])"
   ]
  },
  {
   "cell_type": "code",
   "execution_count": 10,
   "id": "bab57aac-1148-4ebd-94c9-a44e21a64fb5",
   "metadata": {
    "tags": []
   },
   "outputs": [],
   "source": [
    "data={'Id': test.id , 'SalePrice': y_pred}"
   ]
  },
  {
   "cell_type": "code",
   "execution_count": 11,
   "id": "dd158e80-eb5f-4f17-b80c-09b0c5f58f76",
   "metadata": {
    "tags": []
   },
   "outputs": [],
   "source": [
    "df = pd.DataFrame(data)"
   ]
  },
  {
   "cell_type": "code",
   "execution_count": 12,
   "id": "20a16def-9aba-47bf-85be-0327d066c338",
   "metadata": {
    "tags": []
   },
   "outputs": [
    {
     "data": {
      "text/plain": [
       "Id             int64\n",
       "SalePrice    float64\n",
       "dtype: object"
      ]
     },
     "execution_count": 12,
     "metadata": {},
     "output_type": "execute_result"
    }
   ],
   "source": [
    "df.dtypes"
   ]
  },
  {
   "cell_type": "code",
   "execution_count": 13,
   "id": "74aec980-6184-4a13-8b85-f2fcb9cde145",
   "metadata": {
    "tags": []
   },
   "outputs": [],
   "source": [
    "df.to_csv('../datasets/kaggle_sub_1.csv', index=False)"
   ]
  },
  {
   "cell_type": "code",
   "execution_count": null,
   "id": "3dd1591b-711f-41e6-a164-c816d5dbd4f4",
   "metadata": {
    "tags": []
   },
   "outputs": [],
   "source": []
  },
  {
   "cell_type": "code",
   "execution_count": null,
   "id": "a71acd64-c3c2-4166-a0de-30178fe3f343",
   "metadata": {},
   "outputs": [],
   "source": []
  },
  {
   "cell_type": "markdown",
   "id": "b99112b6-395f-4aee-9224-bd9be0fabed2",
   "metadata": {
    "jupyter": {
     "outputs_hidden": true
    },
    "tags": []
   },
   "source": [
    "### That is how the value is distributed in the training dataset.\n",
    "## Next I should analyze the features.\n",
    "#### Catagorical \n",
    "#### Ordinal\n",
    "#### Rational values (not just int)\n",
    "#### int columns\n",
    "#### some will need decoding\n",
    "#### Some will have massive spreads and some may be between 0 and 1\n",
    "#### negative values?\n",
    "#### missing values, nan\n",
    "## 80 columns will need to be treated with a top down approach. group the types of columns, process the data as needed based on if the set of possible input values is numeric (float, int) catagorical, ordinal, datetime, or something else "
   ]
  },
  {
   "cell_type": "code",
   "execution_count": 14,
   "id": "8e8b6624-0675-4fd5-9e65-fa5edd10afdd",
   "metadata": {
    "tags": []
   },
   "outputs": [],
   "source": [
    "X_numeric_features_list=list(X.describe().columns)"
   ]
  },
  {
   "cell_type": "code",
   "execution_count": 15,
   "id": "c7a44258-f6de-40ea-8f32-cc5b84afc6a1",
   "metadata": {
    "tags": []
   },
   "outputs": [],
   "source": [
    "X_numeric= X[X_numeric_features_list]"
   ]
  },
  {
   "cell_type": "code",
   "execution_count": 16,
   "id": "c8464c80-463b-4d55-b434-bc4b4d7e00bc",
   "metadata": {
    "tags": []
   },
   "outputs": [
    {
     "data": {
      "text/plain": [
       "(2051, 2)"
      ]
     },
     "execution_count": 16,
     "metadata": {},
     "output_type": "execute_result"
    }
   ],
   "source": [
    "X_numeric.shape"
   ]
  },
  {
   "cell_type": "markdown",
   "id": "79f1c5d7-4bcd-49c4-bf5e-dcf5245cdeea",
   "metadata": {},
   "source": [
    "## Before looking at the others, there are currently 38 columns with numeric which may provide quick insights into this daunting challenge"
   ]
  },
  {
   "cell_type": "code",
   "execution_count": 17,
   "id": "ee79890b-98da-478c-a00c-6724901e4bcd",
   "metadata": {
    "tags": []
   },
   "outputs": [
    {
     "data": {
      "text/html": [
       "<div>\n",
       "<style scoped>\n",
       "    .dataframe tbody tr th:only-of-type {\n",
       "        vertical-align: middle;\n",
       "    }\n",
       "\n",
       "    .dataframe tbody tr th {\n",
       "        vertical-align: top;\n",
       "    }\n",
       "\n",
       "    .dataframe thead th {\n",
       "        text-align: right;\n",
       "    }\n",
       "</style>\n",
       "<table border=\"1\" class=\"dataframe\">\n",
       "  <thead>\n",
       "    <tr style=\"text-align: right;\">\n",
       "      <th></th>\n",
       "      <th>overall_qual</th>\n",
       "      <th>overall_cond</th>\n",
       "    </tr>\n",
       "  </thead>\n",
       "  <tbody>\n",
       "    <tr>\n",
       "      <th>count</th>\n",
       "      <td>2051.000000</td>\n",
       "      <td>2051.000000</td>\n",
       "    </tr>\n",
       "    <tr>\n",
       "      <th>mean</th>\n",
       "      <td>6.112140</td>\n",
       "      <td>5.562165</td>\n",
       "    </tr>\n",
       "    <tr>\n",
       "      <th>std</th>\n",
       "      <td>1.426271</td>\n",
       "      <td>1.104497</td>\n",
       "    </tr>\n",
       "    <tr>\n",
       "      <th>min</th>\n",
       "      <td>1.000000</td>\n",
       "      <td>1.000000</td>\n",
       "    </tr>\n",
       "    <tr>\n",
       "      <th>25%</th>\n",
       "      <td>5.000000</td>\n",
       "      <td>5.000000</td>\n",
       "    </tr>\n",
       "    <tr>\n",
       "      <th>50%</th>\n",
       "      <td>6.000000</td>\n",
       "      <td>5.000000</td>\n",
       "    </tr>\n",
       "    <tr>\n",
       "      <th>75%</th>\n",
       "      <td>7.000000</td>\n",
       "      <td>6.000000</td>\n",
       "    </tr>\n",
       "    <tr>\n",
       "      <th>max</th>\n",
       "      <td>10.000000</td>\n",
       "      <td>9.000000</td>\n",
       "    </tr>\n",
       "  </tbody>\n",
       "</table>\n",
       "</div>"
      ],
      "text/plain": [
       "       overall_qual  overall_cond\n",
       "count   2051.000000   2051.000000\n",
       "mean       6.112140      5.562165\n",
       "std        1.426271      1.104497\n",
       "min        1.000000      1.000000\n",
       "25%        5.000000      5.000000\n",
       "50%        6.000000      5.000000\n",
       "75%        7.000000      6.000000\n",
       "max       10.000000      9.000000"
      ]
     },
     "execution_count": 17,
     "metadata": {},
     "output_type": "execute_result"
    }
   ],
   "source": [
    "X_numeric.describe()"
   ]
  },
  {
   "cell_type": "code",
   "execution_count": 18,
   "id": "3b608f52-0987-47b9-8a5e-02fed6d63538",
   "metadata": {
    "tags": []
   },
   "outputs": [],
   "source": [
    "features = list(houses.columns)"
   ]
  },
  {
   "cell_type": "code",
   "execution_count": 19,
   "id": "13fba0a3-82bf-45a7-b056-fdeb0bda3823",
   "metadata": {
    "tags": []
   },
   "outputs": [],
   "source": [
    "missing_vals= [(houses[features[i]].isna().mean(),features[i])for i in range(80)]"
   ]
  },
  {
   "cell_type": "code",
   "execution_count": 20,
   "id": "35eb017b-8834-48a9-93ec-49425b17bfbd",
   "metadata": {
    "tags": []
   },
   "outputs": [],
   "source": [
    "#X.describe().columns # hopefully this is the numeric columns (others probably are too but need decoding or sometihng)"
   ]
  },
  {
   "cell_type": "code",
   "execution_count": 21,
   "id": "dc9a5fbf-dc50-46e1-85f3-9cc70ba52921",
   "metadata": {
    "tags": []
   },
   "outputs": [],
   "source": [
    "missing_vals= [(houses[features[i]].isna().mean(),features[i])for i in range(80)]"
   ]
  },
  {
   "cell_type": "code",
   "execution_count": 22,
   "id": "fff42326-162a-498e-99cc-87d2b0d70930",
   "metadata": {
    "tags": []
   },
   "outputs": [
    {
     "data": {
      "text/plain": [
       "[(0.9956118966357874, 'pool_qc'),\n",
       " (0.9683081423695759, 'misc_feature'),\n",
       " (0.931740614334471, 'alley'),\n",
       " (0.8049731838127743, 'fence'),\n",
       " (0.48756704046806437, 'fireplace_qu'),\n",
       " (0.16089712335446124, 'lot_frontage'),\n",
       " (0.05558264261335934, 'garage_yr_blt'),\n",
       " (0.05558264261335934, 'garage_finish'),\n",
       " (0.05558264261335934, 'garage_qual'),\n",
       " (0.05558264261335934, 'garage_cond'),\n",
       " (0.05509507557289127, 'garage_type'),\n",
       " (0.028278888347147733, 'bsmt_exposure'),\n",
       " (0.027303754266211604, 'bsmtfin_type_2'),\n",
       " (0.02681618722574354, 'bsmt_qual'),\n",
       " (0.02681618722574354, 'bsmt_cond'),\n",
       " (0.02681618722574354, 'bsmtfin_type_1'),\n",
       " (0.010726474890297415, 'mas_vnr_type'),\n",
       " (0.010726474890297415, 'mas_vnr_area'),\n",
       " (0.0009751340809361287, 'bsmt_full_bath'),\n",
       " (0.0009751340809361287, 'bsmt_half_bath'),\n",
       " (0.00048756704046806434, 'bsmtfin_sf_1'),\n",
       " (0.00048756704046806434, 'bsmtfin_sf_2'),\n",
       " (0.00048756704046806434, 'bsmt_unf_sf'),\n",
       " (0.00048756704046806434, 'total_bsmt_sf'),\n",
       " (0.00048756704046806434, 'garage_cars'),\n",
       " (0.00048756704046806434, 'garage_area'),\n",
       " (0.0, 'id'),\n",
       " (0.0, 'pid'),\n",
       " (0.0, 'ms_subclass'),\n",
       " (0.0, 'ms_zoning'),\n",
       " (0.0, 'lot_area'),\n",
       " (0.0, 'street'),\n",
       " (0.0, 'lot_shape'),\n",
       " (0.0, 'land_contour'),\n",
       " (0.0, 'utilities'),\n",
       " (0.0, 'lot_config'),\n",
       " (0.0, 'land_slope'),\n",
       " (0.0, 'neighborhood'),\n",
       " (0.0, 'condition_1'),\n",
       " (0.0, 'condition_2'),\n",
       " (0.0, 'bldg_type'),\n",
       " (0.0, 'house_style'),\n",
       " (0.0, 'overall_qual'),\n",
       " (0.0, 'overall_cond'),\n",
       " (0.0, 'year_built'),\n",
       " (0.0, 'year_remod/add'),\n",
       " (0.0, 'roof_style'),\n",
       " (0.0, 'roof_matl'),\n",
       " (0.0, 'exterior_1st'),\n",
       " (0.0, 'exterior_2nd'),\n",
       " (0.0, 'exter_qual'),\n",
       " (0.0, 'exter_cond'),\n",
       " (0.0, 'foundation'),\n",
       " (0.0, 'heating'),\n",
       " (0.0, 'heating_qc'),\n",
       " (0.0, 'central_air'),\n",
       " (0.0, 'electrical'),\n",
       " (0.0, '1st_flr_sf'),\n",
       " (0.0, '2nd_flr_sf'),\n",
       " (0.0, 'low_qual_fin_sf'),\n",
       " (0.0, 'gr_liv_area'),\n",
       " (0.0, 'full_bath'),\n",
       " (0.0, 'half_bath'),\n",
       " (0.0, 'bedroom_abvgr'),\n",
       " (0.0, 'kitchen_abvgr'),\n",
       " (0.0, 'kitchen_qual'),\n",
       " (0.0, 'totrms_abvgrd'),\n",
       " (0.0, 'functional'),\n",
       " (0.0, 'fireplaces'),\n",
       " (0.0, 'paved_drive'),\n",
       " (0.0, 'wood_deck_sf'),\n",
       " (0.0, 'open_porch_sf'),\n",
       " (0.0, 'enclosed_porch'),\n",
       " (0.0, '3ssn_porch'),\n",
       " (0.0, 'screen_porch'),\n",
       " (0.0, 'pool_area'),\n",
       " (0.0, 'misc_val'),\n",
       " (0.0, 'mo_sold'),\n",
       " (0.0, 'yr_sold'),\n",
       " (0.0, 'sale_type')]"
      ]
     },
     "execution_count": 22,
     "metadata": {},
     "output_type": "execute_result"
    }
   ],
   "source": [
    "missing_vals.sort(key=lambda pair: pair[0], reverse= True)\n",
    "missing_vals"
   ]
  },
  {
   "cell_type": "markdown",
   "id": "d5cc4d0b-0b8c-432b-84ee-d988c0366e05",
   "metadata": {
    "tags": []
   },
   "source": [
    "#### We have found the percent of missing values by column and stored that as a list of tuples and sorted the list by percent missing values"
   ]
  },
  {
   "cell_type": "code",
   "execution_count": 30,
   "id": "f20fa674-1522-4d69-aa7b-2ca153ffea2c",
   "metadata": {
    "tags": []
   },
   "outputs": [
    {
     "data": {
      "text/plain": [
       "162500.0"
      ]
     },
     "execution_count": 30,
     "metadata": {},
     "output_type": "execute_result"
    }
   ],
   "source": [
    "np.median(y)"
   ]
  },
  {
   "cell_type": "code",
   "execution_count": 38,
   "id": "f010e886-06d5-4261-92c2-a1c37fd9575d",
   "metadata": {
    "tags": []
   },
   "outputs": [
    {
     "data": {
      "text/plain": [
       "count    2050.000000\n",
       "mean      473.671707\n",
       "std       215.934561\n",
       "min         0.000000\n",
       "25%       319.000000\n",
       "50%       480.000000\n",
       "75%       576.000000\n",
       "max      1418.000000\n",
       "Name: Garage Area, dtype: float64"
      ]
     },
     "execution_count": 38,
     "metadata": {},
     "output_type": "execute_result"
    }
   ],
   "source": [
    "houses['Garage Area'].describe()"
   ]
  },
  {
   "cell_type": "code",
   "execution_count": 41,
   "id": "c03f065a-f088-402a-9344-89b52ebbe4be",
   "metadata": {
    "tags": []
   },
   "outputs": [
    {
     "data": {
      "text/plain": [
       "Attchd     0.63\n",
       "Detchd     0.28\n",
       "BuiltIn    0.07\n",
       "Basment    0.01\n",
       "2Types     0.01\n",
       "CarPort    0.01\n",
       "Name: Garage Type, dtype: float64"
      ]
     },
     "execution_count": 41,
     "metadata": {},
     "output_type": "execute_result"
    }
   ],
   "source": [
    "np.round(houses['Garage Type'].value_counts(normalize=True),2)"
   ]
  },
  {
   "cell_type": "code",
   "execution_count": 45,
   "id": "94f1ca12-ea56-40f2-8da8-275e84375c90",
   "metadata": {
    "tags": []
   },
   "outputs": [
    {
     "data": {
      "text/plain": [
       "RL         0.78\n",
       "RM         0.15\n",
       "FV         0.05\n",
       "C (all)    0.01\n",
       "RH         0.01\n",
       "A (agr)    0.00\n",
       "I (all)    0.00\n",
       "Name: MS Zoning, dtype: float64"
      ]
     },
     "execution_count": 45,
     "metadata": {},
     "output_type": "execute_result"
    }
   ],
   "source": [
    "np.round(houses['MS Zoning'].value_counts(normalize=True),2)"
   ]
  },
  {
   "cell_type": "code",
   "execution_count": null,
   "id": "76cdf778-da8b-48b3-acba-381703bb8b7a",
   "metadata": {},
   "outputs": [],
   "source": []
  },
  {
   "cell_type": "code",
   "execution_count": null,
   "id": "3a935acb-d7e0-4229-9f49-0ae5de226626",
   "metadata": {},
   "outputs": [],
   "source": []
  },
  {
   "cell_type": "code",
   "execution_count": 36,
   "id": "0aa3457e-2e4b-4f82-8a99-e117a1a89890",
   "metadata": {},
   "outputs": [
    {
     "data": {
      "image/png": "[encoded data removed]",
      "text/plain": [
       "<Figure size 700x400 with 1 Axes>"
      ]
     },
     "metadata": {},
     "output_type": "display_data"
    }
   ],
   "source": [
    "plt.figure(figsize=(7,4))\n",
    "plt.hist(y, bins = 100)\n",
    "plt.xlabel('Sale Price')\n",
    "plt.ylabel('Count')\n",
    "plt.axvline(np.median(y), color='orange')\n",
    "plt.title('Registered Sale Prices of Homes in Ames \\n'+ \n",
    "          'Median Sale Price - $162500',loc= 'left')\n",
    "plt.savefig('../images/price_hist.png');"
   ]
  },
  {
   "cell_type": "code",
   "execution_count": null,
   "id": "795087f2-ebaf-4e6b-b2e5-6a71bc56663a",
   "metadata": {
    "tags": []
   },
   "outputs": [],
   "source": []
  },
  {
   "cell_type": "code",
   "execution_count": null,
   "id": "f4746cf9-97d1-42f0-90c1-accc07e7f655",
   "metadata": {},
   "outputs": [],
   "source": []
  },
  {
   "cell_type": "markdown",
   "id": "9158fbe3-602f-4262-9b6d-3148b6b42588",
   "metadata": {
    "tags": []
   },
   "source": [
    "# Below are the missing columns"
   ]
  },
  {
   "cell_type": "markdown",
   "id": "2481fbd5-43b3-4724-ba9c-6927f06f0260",
   "metadata": {},
   "source": [
    "## many missing values should be changed to a zero. The quality of a pool/fireplace, is meaningless if not present. I need to be careful with how I replace the missings case by case"
   ]
  },
  {
   "cell_type": "code",
   "execution_count": 24,
   "id": "152cd8d4-4c57-4ee1-a8f8-f905e176656e",
   "metadata": {
    "tags": []
   },
   "outputs": [
    {
     "data": {
      "text/plain": [
       "[(0.9956118966357874, 'pool_qc'),\n",
       " (0.9683081423695759, 'misc_feature'),\n",
       " (0.931740614334471, 'alley'),\n",
       " (0.8049731838127743, 'fence'),\n",
       " (0.48756704046806437, 'fireplace_qu'),\n",
       " (0.16089712335446124, 'lot_frontage'),\n",
       " (0.05558264261335934, 'garage_yr_blt'),\n",
       " (0.05558264261335934, 'garage_finish'),\n",
       " (0.05558264261335934, 'garage_qual'),\n",
       " (0.05558264261335934, 'garage_cond'),\n",
       " (0.05509507557289127, 'garage_type'),\n",
       " (0.028278888347147733, 'bsmt_exposure'),\n",
       " (0.027303754266211604, 'bsmtfin_type_2'),\n",
       " (0.02681618722574354, 'bsmt_qual'),\n",
       " (0.02681618722574354, 'bsmt_cond'),\n",
       " (0.02681618722574354, 'bsmtfin_type_1'),\n",
       " (0.010726474890297415, 'mas_vnr_type'),\n",
       " (0.010726474890297415, 'mas_vnr_area'),\n",
       " (0.0009751340809361287, 'bsmt_full_bath'),\n",
       " (0.0009751340809361287, 'bsmt_half_bath'),\n",
       " (0.00048756704046806434, 'bsmtfin_sf_1'),\n",
       " (0.00048756704046806434, 'bsmtfin_sf_2'),\n",
       " (0.00048756704046806434, 'bsmt_unf_sf'),\n",
       " (0.00048756704046806434, 'total_bsmt_sf'),\n",
       " (0.00048756704046806434, 'garage_cars'),\n",
       " (0.00048756704046806434, 'garage_area'),\n",
       " (0.0, 'id'),\n",
       " (0.0, 'pid'),\n",
       " (0.0, 'ms_subclass'),\n",
       " (0.0, 'ms_zoning'),\n",
       " (0.0, 'lot_area'),\n",
       " (0.0, 'street'),\n",
       " (0.0, 'lot_shape'),\n",
       " (0.0, 'land_contour'),\n",
       " (0.0, 'utilities'),\n",
       " (0.0, 'lot_config'),\n",
       " (0.0, 'land_slope'),\n",
       " (0.0, 'neighborhood'),\n",
       " (0.0, 'condition_1'),\n",
       " (0.0, 'condition_2'),\n",
       " (0.0, 'bldg_type'),\n",
       " (0.0, 'house_style'),\n",
       " (0.0, 'overall_qual'),\n",
       " (0.0, 'overall_cond'),\n",
       " (0.0, 'year_built'),\n",
       " (0.0, 'year_remod/add'),\n",
       " (0.0, 'roof_style'),\n",
       " (0.0, 'roof_matl'),\n",
       " (0.0, 'exterior_1st'),\n",
       " (0.0, 'exterior_2nd'),\n",
       " (0.0, 'exter_qual'),\n",
       " (0.0, 'exter_cond'),\n",
       " (0.0, 'foundation'),\n",
       " (0.0, 'heating'),\n",
       " (0.0, 'heating_qc'),\n",
       " (0.0, 'central_air'),\n",
       " (0.0, 'electrical'),\n",
       " (0.0, '1st_flr_sf'),\n",
       " (0.0, '2nd_flr_sf'),\n",
       " (0.0, 'low_qual_fin_sf'),\n",
       " (0.0, 'gr_liv_area'),\n",
       " (0.0, 'full_bath'),\n",
       " (0.0, 'half_bath'),\n",
       " (0.0, 'bedroom_abvgr'),\n",
       " (0.0, 'kitchen_abvgr'),\n",
       " (0.0, 'kitchen_qual'),\n",
       " (0.0, 'totrms_abvgrd'),\n",
       " (0.0, 'functional'),\n",
       " (0.0, 'fireplaces'),\n",
       " (0.0, 'paved_drive'),\n",
       " (0.0, 'wood_deck_sf'),\n",
       " (0.0, 'open_porch_sf'),\n",
       " (0.0, 'enclosed_porch'),\n",
       " (0.0, '3ssn_porch'),\n",
       " (0.0, 'screen_porch'),\n",
       " (0.0, 'pool_area'),\n",
       " (0.0, 'misc_val'),\n",
       " (0.0, 'mo_sold'),\n",
       " (0.0, 'yr_sold'),\n",
       " (0.0, 'sale_type')]"
      ]
     },
     "execution_count": 24,
     "metadata": {},
     "output_type": "execute_result"
    }
   ],
   "source": [
    "missing_vals.sort(key=lambda pair: pair[0], reverse= True)\n",
    "missing_vals"
   ]
  },
  {
   "cell_type": "code",
   "execution_count": null,
   "id": "610fa549-9549-44bd-b924-550ab12805c4",
   "metadata": {},
   "outputs": [],
   "source": []
  },
  {
   "cell_type": "raw",
   "id": "3fa4ea21-567f-469d-816d-49cdec9d830d",
   "metadata": {
    "tags": []
   },
   "source": [
    "houses['fence_private']= houses['fence'].map({'GdPrv':2,'MnPrv':1,'GdWo':0,'MnWw':0,np.nan:0})\n",
    "houses['fence_wood'] = houses['fence'].map({'GdPrv':0,'MnPrv':0,'GdWo':2,'MnWw':1,np.nan:0})\n",
    "houses.drop(columns=['fence'], inplace=True)"
   ]
  },
  {
   "cell_type": "raw",
   "id": "fefc43a1-480d-47b7-b691-776d3d2c67d5",
   "metadata": {
    "tags": []
   },
   "source": [
    "## the numeric garage attributes\n",
    "\n",
    "\"\"\"houses['garage_finish'] = np.where(houses['garage_finish'].isna(),0,houses['garage_finish'].astype(float))\n",
    "houses[''] = np.where(houses['garage_yr_blt'].isna(),0,houses['garage_yr_blt'].astype(float))\"\"\""
   ]
  },
  {
   "cell_type": "code",
   "execution_count": null,
   "id": "6cf0fe42-f3b5-4145-8eb8-aeb75aad6df5",
   "metadata": {
    "tags": []
   },
   "outputs": [],
   "source": []
  }
 ],
 "metadata": {
  "kernelspec": {
   "display_name": "Python 3 (ipykernel)",
   "language": "python",
   "name": "python3"
  },
  "language_info": {
   "codemirror_mode": {
    "name": "ipython",
    "version": 3
   },
   "file_extension": ".py",
   "mimetype": "text/x-python",
   "name": "python",
   "nbconvert_exporter": "python",
   "pygments_lexer": "ipython3",
   "version": "3.11.4"
  }
 },
 "nbformat": 4,
 "nbformat_minor": 5
}
