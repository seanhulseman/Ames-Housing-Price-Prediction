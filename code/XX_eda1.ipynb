{
 "cells": [
  {
   "cell_type": "code",
   "execution_count": 1,
   "id": "bd11ce8a-ceef-463b-8538-54be6edc0d1d",
   "metadata": {
    "tags": []
   },
   "outputs": [],
   "source": [
    "import pandas as pd\n",
    "import numpy as np\n",
    "from scipy import stats\n",
    "import matplotlib.pyplot as plt\n",
    "from sklearn.model_selection import train_test_split\n",
    "from sklearn.linear_model import LinearRegression"
   ]
  },
  {
   "cell_type": "code",
   "execution_count": 2,
   "id": "1ec7e83c-0607-414a-aae8-8202ac6cb5f4",
   "metadata": {
    "tags": []
   },
   "outputs": [],
   "source": [
    "houses = pd.read_csv('../datasets/train.csv')\n",
    "#test = pd.read_csv('../datasets/test.csv')\n",
    "#sample_sub_reg = pd.read_csv('../datasets/sample_sub_reg.csv')"
   ]
  },
  {
   "cell_type": "code",
   "execution_count": 3,
   "id": "388c57c9-3c91-4469-829f-4e8aa1f1d87c",
   "metadata": {
    "tags": []
   },
   "outputs": [
    {
     "data": {
      "text/html": [
       "<div>\n",
       "<style scoped>\n",
       "    .dataframe tbody tr th:only-of-type {\n",
       "        vertical-align: middle;\n",
       "    }\n",
       "\n",
       "    .dataframe tbody tr th {\n",
       "        vertical-align: top;\n",
       "    }\n",
       "\n",
       "    .dataframe thead th {\n",
       "        text-align: right;\n",
       "    }\n",
       "</style>\n",
       "<table border=\"1\" class=\"dataframe\">\n",
       "  <thead>\n",
       "    <tr style=\"text-align: right;\">\n",
       "      <th></th>\n",
       "      <th>Id</th>\n",
       "      <th>PID</th>\n",
       "      <th>MS SubClass</th>\n",
       "      <th>MS Zoning</th>\n",
       "      <th>Lot Frontage</th>\n",
       "      <th>Lot Area</th>\n",
       "      <th>Street</th>\n",
       "      <th>Alley</th>\n",
       "      <th>Lot Shape</th>\n",
       "      <th>Land Contour</th>\n",
       "      <th>...</th>\n",
       "      <th>Screen Porch</th>\n",
       "      <th>Pool Area</th>\n",
       "      <th>Pool QC</th>\n",
       "      <th>Fence</th>\n",
       "      <th>Misc Feature</th>\n",
       "      <th>Misc Val</th>\n",
       "      <th>Mo Sold</th>\n",
       "      <th>Yr Sold</th>\n",
       "      <th>Sale Type</th>\n",
       "      <th>SalePrice</th>\n",
       "    </tr>\n",
       "  </thead>\n",
       "  <tbody>\n",
       "    <tr>\n",
       "      <th>0</th>\n",
       "      <td>109</td>\n",
       "      <td>533352170</td>\n",
       "      <td>60</td>\n",
       "      <td>RL</td>\n",
       "      <td>NaN</td>\n",
       "      <td>13517</td>\n",
       "      <td>Pave</td>\n",
       "      <td>NaN</td>\n",
       "      <td>IR1</td>\n",
       "      <td>Lvl</td>\n",
       "      <td>...</td>\n",
       "      <td>0</td>\n",
       "      <td>0</td>\n",
       "      <td>NaN</td>\n",
       "      <td>NaN</td>\n",
       "      <td>NaN</td>\n",
       "      <td>0</td>\n",
       "      <td>3</td>\n",
       "      <td>2010</td>\n",
       "      <td>WD</td>\n",
       "      <td>130500</td>\n",
       "    </tr>\n",
       "    <tr>\n",
       "      <th>1</th>\n",
       "      <td>544</td>\n",
       "      <td>531379050</td>\n",
       "      <td>60</td>\n",
       "      <td>RL</td>\n",
       "      <td>43.0</td>\n",
       "      <td>11492</td>\n",
       "      <td>Pave</td>\n",
       "      <td>NaN</td>\n",
       "      <td>IR1</td>\n",
       "      <td>Lvl</td>\n",
       "      <td>...</td>\n",
       "      <td>0</td>\n",
       "      <td>0</td>\n",
       "      <td>NaN</td>\n",
       "      <td>NaN</td>\n",
       "      <td>NaN</td>\n",
       "      <td>0</td>\n",
       "      <td>4</td>\n",
       "      <td>2009</td>\n",
       "      <td>WD</td>\n",
       "      <td>220000</td>\n",
       "    </tr>\n",
       "    <tr>\n",
       "      <th>2</th>\n",
       "      <td>153</td>\n",
       "      <td>535304180</td>\n",
       "      <td>20</td>\n",
       "      <td>RL</td>\n",
       "      <td>68.0</td>\n",
       "      <td>7922</td>\n",
       "      <td>Pave</td>\n",
       "      <td>NaN</td>\n",
       "      <td>Reg</td>\n",
       "      <td>Lvl</td>\n",
       "      <td>...</td>\n",
       "      <td>0</td>\n",
       "      <td>0</td>\n",
       "      <td>NaN</td>\n",
       "      <td>NaN</td>\n",
       "      <td>NaN</td>\n",
       "      <td>0</td>\n",
       "      <td>1</td>\n",
       "      <td>2010</td>\n",
       "      <td>WD</td>\n",
       "      <td>109000</td>\n",
       "    </tr>\n",
       "    <tr>\n",
       "      <th>3</th>\n",
       "      <td>318</td>\n",
       "      <td>916386060</td>\n",
       "      <td>60</td>\n",
       "      <td>RL</td>\n",
       "      <td>73.0</td>\n",
       "      <td>9802</td>\n",
       "      <td>Pave</td>\n",
       "      <td>NaN</td>\n",
       "      <td>Reg</td>\n",
       "      <td>Lvl</td>\n",
       "      <td>...</td>\n",
       "      <td>0</td>\n",
       "      <td>0</td>\n",
       "      <td>NaN</td>\n",
       "      <td>NaN</td>\n",
       "      <td>NaN</td>\n",
       "      <td>0</td>\n",
       "      <td>4</td>\n",
       "      <td>2010</td>\n",
       "      <td>WD</td>\n",
       "      <td>174000</td>\n",
       "    </tr>\n",
       "    <tr>\n",
       "      <th>4</th>\n",
       "      <td>255</td>\n",
       "      <td>906425045</td>\n",
       "      <td>50</td>\n",
       "      <td>RL</td>\n",
       "      <td>82.0</td>\n",
       "      <td>14235</td>\n",
       "      <td>Pave</td>\n",
       "      <td>NaN</td>\n",
       "      <td>IR1</td>\n",
       "      <td>Lvl</td>\n",
       "      <td>...</td>\n",
       "      <td>0</td>\n",
       "      <td>0</td>\n",
       "      <td>NaN</td>\n",
       "      <td>NaN</td>\n",
       "      <td>NaN</td>\n",
       "      <td>0</td>\n",
       "      <td>3</td>\n",
       "      <td>2010</td>\n",
       "      <td>WD</td>\n",
       "      <td>138500</td>\n",
       "    </tr>\n",
       "  </tbody>\n",
       "</table>\n",
       "<p>5 rows × 81 columns</p>\n",
       "</div>"
      ],
      "text/plain": [
       "    Id        PID  MS SubClass MS Zoning  Lot Frontage  Lot Area Street Alley  \\\n",
       "0  109  533352170           60        RL           NaN     13517   Pave   NaN   \n",
       "1  544  531379050           60        RL          43.0     11492   Pave   NaN   \n",
       "2  153  535304180           20        RL          68.0      7922   Pave   NaN   \n",
       "3  318  916386060           60        RL          73.0      9802   Pave   NaN   \n",
       "4  255  906425045           50        RL          82.0     14235   Pave   NaN   \n",
       "\n",
       "  Lot Shape Land Contour  ... Screen Porch Pool Area Pool QC Fence  \\\n",
       "0       IR1          Lvl  ...            0         0     NaN   NaN   \n",
       "1       IR1          Lvl  ...            0         0     NaN   NaN   \n",
       "2       Reg          Lvl  ...            0         0     NaN   NaN   \n",
       "3       Reg          Lvl  ...            0         0     NaN   NaN   \n",
       "4       IR1          Lvl  ...            0         0     NaN   NaN   \n",
       "\n",
       "  Misc Feature Misc Val Mo Sold Yr Sold  Sale Type  SalePrice  \n",
       "0          NaN        0       3    2010        WD      130500  \n",
       "1          NaN        0       4    2009        WD      220000  \n",
       "2          NaN        0       1    2010        WD      109000  \n",
       "3          NaN        0       4    2010        WD      174000  \n",
       "4          NaN        0       3    2010        WD      138500  \n",
       "\n",
       "[5 rows x 81 columns]"
      ]
     },
     "execution_count": 3,
     "metadata": {},
     "output_type": "execute_result"
    }
   ],
   "source": [
    "houses.head()"
   ]
  },
  {
   "cell_type": "markdown",
   "id": "46ae0378-aab9-40da-8f6a-8603b32a4e94",
   "metadata": {
    "tags": []
   },
   "source": [
    "## 80 columns y=houses['SalePrice']"
   ]
  },
  {
   "cell_type": "code",
   "execution_count": null,
   "id": "b5fc9aec-ce6f-4cd3-ac63-21918082e3a3",
   "metadata": {
    "tags": []
   },
   "outputs": [],
   "source": []
  },
  {
   "cell_type": "markdown",
   "id": "aef1c7a8-21ea-4d49-8a51-b55d0f96e0ff",
   "metadata": {
    "tags": []
   },
   "source": [
    "## Datatypes "
   ]
  },
  {
   "cell_type": "code",
   "execution_count": 4,
   "id": "3aa36297-9824-46b9-8e1b-32b00291cd80",
   "metadata": {
    "tags": []
   },
   "outputs": [],
   "source": [
    "houses.columns =houses.columns.str.lower().str.replace(' ','_')"
   ]
  },
  {
   "cell_type": "code",
   "execution_count": 5,
   "id": "a0c90b6f-9b36-41cd-9af1-29b6a85abde8",
   "metadata": {
    "tags": []
   },
   "outputs": [],
   "source": [
    "features = list(houses.columns)[:-1]"
   ]
  },
  {
   "cell_type": "markdown",
   "id": "572e5ccd-c18f-4c9f-95da-36f29a8b4abd",
   "metadata": {
    "tags": []
   },
   "source": [
    "## Part 1: Missing values: What is missing? should I drop it, keep it as nan, set it to zero? "
   ]
  },
  {
   "cell_type": "markdown",
   "id": "a293f55f-05c4-4f8d-9c19-a69620178bad",
   "metadata": {
    "tags": []
   },
   "source": [
    "Variable Name | Description | Units\n",
    "--- | --- | ---\n",
    "saleprice | --- | ---\n",
    "id | --- | ---\n",
    "pid | --- | ---\n",
    "ms_subclass | --- | ---\n",
    "ms_zoning | --- | ---\n",
    "lot_frontage | --- | ---\n",
    "lot_area | --- | ---\n",
    "street | --- | ---\n",
    "alley | --- | ---\n",
    "lot_shape | --- | ---\n",
    "land_contour | --- | ---\n",
    "utilities | --- | ---\n",
    "lot_config | --- | ---\n",
    "neighborhood | --- | ---\n",
    "condition_1 | --- | ---\n",
    "condition_2 | --- | ---\n",
    "bldg_type | --- | ---\n",
    "house_style | --- | ---\n",
    "overall_qual | --- | ---\n",
    "overall_cond | --- | ---\n",
    "year_built | --- | ---\n",
    "year_remod/add | --- | ---\n",
    "roof_style | --- | ---\n",
    "roof_matl | --- | ---\n",
    "exterior_1st | --- | ---\n",
    "exterior_2nd | --- | ---\n",
    "mas_vnr_type | --- | ---\n",
    "mas_vnr_area | --- | ---\n",
    "exter_qual | --- | ---\n",
    "exter_cond | --- | ---\n",
    "foundation | --- | ---\n",
    "bsmt_qual | --- | ---\n",
    "bsmt_cond | --- | ---\n",
    "bsmt_exposure | --- | ---\n",
    "bsmtfin_type_1 | --- | ---\n",
    "bsmtfin_sf_1 | --- | ---\n",
    "bsmtfin_type_2 | --- | ---\n",
    "bsmtfin_sf_2 | --- | ---\n",
    "bsmt_unf_sf | --- | ---\n",
    "total_bsmt_sf | --- | ---\n",
    "heating | --- | ---\n",
    "heating_qc | --- | ---\n",
    "central_air | --- | ---\n",
    "electrical | --- | ---\n",
    "1st_flr_sf | --- | ---\n",
    "2nd_flr_sf | --- | ---\n",
    "low_qual_fin_sf | --- | ---\n",
    "gr_liv_area | --- | ---\n",
    "bsmt_full_bath | --- | ---\n",
    "bsmt_half_bath | --- | ---\n",
    "full_bath | --- | ---\n",
    "half_bath | --- | ---\n",
    "bedroom_abvgr | --- | ---\n",
    "kitchen_abvgr | --- | ---\n",
    "kitchen_qual | --- | ---\n",
    "totrms_abvgrd | --- | ---\n",
    "functional | --- | ---\n",
    "fireplaces | --- | ---\n",
    "fireplace_qu | --- | ---\n",
    "garage_type | --- | ---\n",
    "garage_yr_blt | --- | ---\n",
    "garage_finish | --- | ---\n",
    "garage_cars | --- | ---\n",
    "garage_area | --- | ---\n",
    "garage_qual | --- | ---\n",
    "garage_cond | --- | ---\n",
    "paved_drive | --- | ---\n",
    "wood_deck_sf | --- | ---\n",
    "open_porch_sf | --- | ---\n",
    "enclosed_porch | --- | ---\n",
    "3ssn_porch | --- | ---\n",
    "screen_porch | --- | ---\n",
    "pool_area | --- | ---\n",
    "pool_qc | --- | ---\n",
    "fence | --- | ---\n",
    "misc_feature | --- | ---\n",
    "misc_val | --- | ---\n",
    "mo_sold | --- | ---\n",
    "yr_sold | --- | ---\n",
    "sale_type | --- | ---\n",
    "\n"
   ]
  },
  {
   "cell_type": "code",
   "execution_count": null,
   "id": "c38c4e70-f095-4bfb-afac-83f92f323702",
   "metadata": {
    "tags": []
   },
   "outputs": [],
   "source": []
  },
  {
   "cell_type": "code",
   "execution_count": null,
   "id": "6d25931b-25ad-48fa-8a7f-cd6b49f927da",
   "metadata": {},
   "outputs": [],
   "source": []
  },
  {
   "cell_type": "code",
   "execution_count": null,
   "id": "95377390-d02b-4f11-96ef-7935afdd8185",
   "metadata": {},
   "outputs": [],
   "source": []
  },
  {
   "cell_type": "markdown",
   "id": "de192bfb-6733-428a-9abc-572700d692a1",
   "metadata": {},
   "source": [
    "## Time to get serious. before starting this at 48k MSE for just using ['overall_qual','overall_cond']\n",
    "# Below are the notes I took as I went through the process of filling nans (if needed), mapping dictionaries to create ordinal variables based on the few repeated scales found in the data for things like quality/condition\n",
    "# I am condensing the below steps into functions, minimizing but retaining my commetary, and begining the process of feature engineering after this"
   ]
  },
  {
   "cell_type": "code",
   "execution_count": null,
   "id": "c2615049-e017-4b86-9553-c2c5edf5ac8f",
   "metadata": {},
   "outputs": [],
   "source": []
  },
  {
   "cell_type": "markdown",
   "id": "4782fd39-3f44-47fe-a9f4-e01cabed6e80",
   "metadata": {
    "tags": []
   },
   "source": [
    "#### pool area is fine. 0 means no pool. this will produce a meaningful quality multiplier which is a strategy I plan to implement throughout this project"
   ]
  },
  {
   "cell_type": "markdown",
   "id": "87acf2cc-147f-4377-89d2-f7ab86e3e953",
   "metadata": {},
   "source": [
    "### garages are tricky\n",
    "#### if I don't know the year, how can the data be of any value?\n",
    "##### There is a lot more on garages so maybe I can make sense of it\n",
    "### logic : all garage attributes depend on this. if 0, no garage. the others are like multipliers"
   ]
  },
  {
   "cell_type": "markdown",
   "id": "56373eeb-2a27-4244-a878-69d58178807f",
   "metadata": {},
   "source": [
    "## 0 is wrong for the year. They had stables 2000 years ago\n",
    "### I am making it equal zero because it and all other **modifier columns** all depend on the presence of the thing they modify or describe. Also,'nan' were only present in this column when garage area = 0\n",
    "###### I am sure there is a better way to phrase that..."
   ]
  },
  {
   "cell_type": "code",
   "execution_count": 6,
   "id": "7c570537-f3ce-4f84-9258-c07feb4b713a",
   "metadata": {
    "tags": []
   },
   "outputs": [],
   "source": [
    "\n",
    "# fence column was split into two ad the original was dropped \n",
    "houses = houses.drop(columns=['id','pid'])\n",
    "houses['fence_private']= houses['fence'].map({'GdPrv':2,'MnPrv':1,'GdWo':0,'MnWw':0,np.nan:0})\n",
    "houses['fence_wood'] = houses['fence'].map({'GdPrv':0,'MnPrv':0,'GdWo':2,'MnWw':1,np.nan:0})\n",
    "houses.drop(columns=['fence'], inplace=True)\n",
    "\n",
    "\n",
    "\n",
    "houses['garage_finish']= houses['garage_finish'].map({'Unf':.5,'RFn':1,'Fin':2,np.nan:0})\n",
    "\n",
    "houses['garage_qual']= houses['garage_qual'].map({'Po':0,'Fa':.5,'TA':1,'Ex':2,'Gd':1.5,np.nan:0})\n",
    "houses['garage_cond']= houses['garage_cond'].map({'Po':-.5,'Fa':.5,'TA':1,'Ex':2,'Gd':1.5,np.nan:0})\n",
    "\n",
    "houses['bsmtfin_type_2']= houses['bsmtfin_type_2'].map({'Unf':.5,'Rec':1.5,'LwQ':1,'BLQ':2,'ALQ':2.5,'GLQ':3,np.nan:0}) # i have decided to make these ordinal!\n",
    "houses['bsmtfin_type_1']= houses['bsmtfin_type_1'].map({'Unf':.5,'Rec':1.5,'LwQ':1,'BLQ':2,'ALQ':2.5,'GLQ':3,np.nan:0}) # i have decided to make these ordinal!\n",
    "\n",
    "houses['fireplace_qu']=houses['fireplace_qu'].map({'Ex':2,'Gd':1.5,'TA':1,'Fa':.5,'Po':.25,np.nan:0})\n",
    "houses['bsmt_qual']=houses['bsmt_qual'].map({'Ex':2,'Gd':1.5,'TA':1,'Fa':.5,'Po':.25,np.nan:0})\n",
    "houses['bsmt_cond']=houses['bsmt_cond'].map({'Ex':2,'Gd':1.5,'TA':1,'Fa':.5,'Po':.25,np.nan:0})\n",
    "houses['pool_qc']=houses['pool_qc'].map({'Gd':1.5,'Fa':.5,'TA':1,'Ex':2,np.nan:0}) \n",
    "\n",
    "houses['lot_shape']=houses['lot_shape'].map({'Reg':2,'IR1':1,'IR2':1,'IR3':.5,np.nan:0})\n",
    "houses['land_contour']=houses['land_contour'].map({'lvl':2,'HLS':1,'Bnk':1,'Low':.5,np.nan:0})\n",
    "houses['exter_qual']= houses['exter_qual'].map({'Po':0,'Fa':.5,'TA':1,'Ex':2,'Gd':1.5,np.nan:0})\n",
    "houses['exter_cond']= houses['exter_cond'].map({'Po':0,'Fa':.5,'TA':1,'Ex':2,'Gd':1.5,np.nan:0})\n",
    "houses['heating_qc']= houses['heating_qc'].map({'Po':0,'Fa':.5,'TA':1,'Ex':2,'Gd':1.5,np.nan:0})\n",
    "houses['kitchen_qual']= houses['kitchen_qual'].map({'Po':0,'Fa':.5,'TA':1,'Ex':2,'Gd':1.5,np.nan:0})\n",
    "houses['functional']=houses['functional'].map({'Typ':8,'Min1':7,'Min2':6,'Mod':5,'Maj1':4,'Maj2':3,'Sev':2,'Sal':1}) # this could be catagorical but i will try to ordinalize it here\n",
    "\n",
    "houses['mas_vnr_area'] = np.where(houses['mas_vnr_area'].isna(),0,houses['mas_vnr_area'].astype(float)) \n",
    "houses['bsmt_full_bath']=np.where(houses['bsmt_full_bath'].isna(),0,houses['bsmt_full_bath'].astype(float)) \n",
    "houses['bsmt_half_bath']=np.where(houses['bsmt_half_bath'].isna(),0,houses['bsmt_half_bath'].astype(float)) \n",
    "houses['bsmtfin_sf_1']=np.where(houses['bsmtfin_sf_1'].isna(),0,houses['bsmtfin_sf_1'].astype(float)) \n",
    "houses['bsmtfin_sf_2']=np.where(houses['bsmtfin_sf_2'].isna(),0,houses['bsmtfin_sf_2'].astype(float)) \n",
    "houses['bsmt_unf_sf']=np.where(houses['bsmt_unf_sf'].isna(),0,houses['bsmt_unf_sf'].astype(float)) \n",
    "houses['total_bsmt_sf']=np.where(houses['total_bsmt_sf'].isna(),0,houses['total_bsmt_sf'].astype(float)) \n",
    "houses['lot_frontage'] = np.where(houses['lot_frontage'].isna(),0,houses['lot_frontage'].astype(float)) \n",
    "houses['garage_area'] = np.where(houses['garage_area'].isna(),0,houses['garage_area'].astype(float)) \n",
    "houses['garage_yr_blt'] = np.where(houses['garage_yr_blt'].isna(),0,houses['garage_yr_blt'].astype(float))  \n",
    "houses['garage_cars']=np.where(houses['garage_cars'].isna(),0,houses['garage_cars'].astype(float)) \n",
    "\n"
   ]
  },
  {
   "cell_type": "markdown",
   "id": "e0674dfb-ab2e-45a2-9e83-6200c65cd664",
   "metadata": {},
   "source": [
    "## all nan in the above are taken care of. Now time for the non missing values columns"
   ]
  },
  {
   "cell_type": "markdown",
   "id": "0f7e0059-1877-4a70-a3fb-03ece510a3c8",
   "metadata": {
    "tags": []
   },
   "source": [
    "## numeric and ordinal columns are all set. The catagorical columns are to be one-hot-encoded below"
   ]
  },
  {
   "cell_type": "code",
   "execution_count": 7,
   "id": "523cd77d-d57e-4f6f-9a97-b64611cb3b7d",
   "metadata": {
    "tags": []
   },
   "outputs": [],
   "source": [
    "#missing_vals # defined before I started hunting nans. Here for visual aid for me"
   ]
  },
  {
   "cell_type": "code",
   "execution_count": null,
   "id": "718a80b5-17d0-4b1c-bfb7-5ee9fa9553f3",
   "metadata": {},
   "outputs": [],
   "source": []
  },
  {
   "cell_type": "markdown",
   "id": "0d77ca26-5847-4e73-9218-e9b238ff1108",
   "metadata": {},
   "source": [
    "### dummy column party \n",
    "#### it makes sense for me to group these"
   ]
  },
  {
   "cell_type": "code",
   "execution_count": 9,
   "id": "e83bad15-5b23-4ecc-a5e0-a4abd7047fb1",
   "metadata": {
    "tags": []
   },
   "outputs": [],
   "source": [
    "houses_dummy_1= pd.get_dummies(data=houses,columns=['mas_vnr_type','bsmt_exposure','garage_type','alley','misc_feature','land_contour'], drop_first=True,dummy_na=True)# this group of \n",
    "\n",
    "houses_dummy_2= pd.get_dummies(data=houses_dummy_1,columns=['ms_subclass','ms_zoning','street','neighborhood','condition_2','bldg_type',\n",
    "                                                            'house_style','roof_style','roof_matl','exterior_1st','exterior_2nd','foundation',\n",
    "                                                           'central_air','electrical','sale_type','condition_1','utilities','lot_config','land_slope',\n",
    "                                                           'heating','paved_drive'], drop_first=True)# this group of "
   ]
  },
  {
   "cell_type": "code",
   "execution_count": 10,
   "id": "ae79e7f0-ad80-4016-89fc-dd0383ec1af6",
   "metadata": {
    "tags": []
   },
   "outputs": [],
   "source": [
    "houses_dummy_2.to_csv('../datasets/cleaned_and_ready1.csv')"
   ]
  },
  {
   "cell_type": "code",
   "execution_count": null,
   "id": "969b6f82-ff4e-4174-b4e3-a22141b99c16",
   "metadata": {},
   "outputs": [],
   "source": []
  },
  {
   "cell_type": "code",
   "execution_count": 12,
   "id": "b4f6670e-0ff2-4f26-923b-8a9a3a3af94c",
   "metadata": {
    "tags": []
   },
   "outputs": [],
   "source": [
    "df = pd.read_csv('../datasets/cleaned_and_ready1.csv',index_col=['Unnamed: 0'])"
   ]
  },
  {
   "cell_type": "code",
   "execution_count": 13,
   "id": "3be3ebfd-5dd4-4626-bfff-cd1509c5392c",
   "metadata": {
    "tags": []
   },
   "outputs": [
    {
     "data": {
      "text/html": [
       "<div>\n",
       "<style scoped>\n",
       "    .dataframe tbody tr th:only-of-type {\n",
       "        vertical-align: middle;\n",
       "    }\n",
       "\n",
       "    .dataframe tbody tr th {\n",
       "        vertical-align: top;\n",
       "    }\n",
       "\n",
       "    .dataframe thead th {\n",
       "        text-align: right;\n",
       "    }\n",
       "</style>\n",
       "<table border=\"1\" class=\"dataframe\">\n",
       "  <thead>\n",
       "    <tr style=\"text-align: right;\">\n",
       "      <th></th>\n",
       "      <th>lot_frontage</th>\n",
       "      <th>lot_area</th>\n",
       "      <th>lot_shape</th>\n",
       "      <th>overall_qual</th>\n",
       "      <th>overall_cond</th>\n",
       "      <th>year_built</th>\n",
       "      <th>year_remod/add</th>\n",
       "      <th>mas_vnr_area</th>\n",
       "      <th>exter_qual</th>\n",
       "      <th>exter_cond</th>\n",
       "      <th>...</th>\n",
       "      <th>lot_config_FR3</th>\n",
       "      <th>lot_config_Inside</th>\n",
       "      <th>land_slope_Mod</th>\n",
       "      <th>land_slope_Sev</th>\n",
       "      <th>heating_GasW</th>\n",
       "      <th>heating_Grav</th>\n",
       "      <th>heating_OthW</th>\n",
       "      <th>heating_Wall</th>\n",
       "      <th>paved_drive_P</th>\n",
       "      <th>paved_drive_Y</th>\n",
       "    </tr>\n",
       "  </thead>\n",
       "  <tbody>\n",
       "    <tr>\n",
       "      <th>0</th>\n",
       "      <td>0.0</td>\n",
       "      <td>13517</td>\n",
       "      <td>1.0</td>\n",
       "      <td>6</td>\n",
       "      <td>8</td>\n",
       "      <td>1976</td>\n",
       "      <td>2005</td>\n",
       "      <td>289.0</td>\n",
       "      <td>1.5</td>\n",
       "      <td>1.0</td>\n",
       "      <td>...</td>\n",
       "      <td>0</td>\n",
       "      <td>0</td>\n",
       "      <td>0</td>\n",
       "      <td>0</td>\n",
       "      <td>0</td>\n",
       "      <td>0</td>\n",
       "      <td>0</td>\n",
       "      <td>0</td>\n",
       "      <td>0</td>\n",
       "      <td>1</td>\n",
       "    </tr>\n",
       "    <tr>\n",
       "      <th>1</th>\n",
       "      <td>43.0</td>\n",
       "      <td>11492</td>\n",
       "      <td>1.0</td>\n",
       "      <td>7</td>\n",
       "      <td>5</td>\n",
       "      <td>1996</td>\n",
       "      <td>1997</td>\n",
       "      <td>132.0</td>\n",
       "      <td>1.5</td>\n",
       "      <td>1.0</td>\n",
       "      <td>...</td>\n",
       "      <td>0</td>\n",
       "      <td>0</td>\n",
       "      <td>0</td>\n",
       "      <td>0</td>\n",
       "      <td>0</td>\n",
       "      <td>0</td>\n",
       "      <td>0</td>\n",
       "      <td>0</td>\n",
       "      <td>0</td>\n",
       "      <td>1</td>\n",
       "    </tr>\n",
       "    <tr>\n",
       "      <th>2</th>\n",
       "      <td>68.0</td>\n",
       "      <td>7922</td>\n",
       "      <td>2.0</td>\n",
       "      <td>5</td>\n",
       "      <td>7</td>\n",
       "      <td>1953</td>\n",
       "      <td>2007</td>\n",
       "      <td>0.0</td>\n",
       "      <td>1.0</td>\n",
       "      <td>1.5</td>\n",
       "      <td>...</td>\n",
       "      <td>0</td>\n",
       "      <td>1</td>\n",
       "      <td>0</td>\n",
       "      <td>0</td>\n",
       "      <td>0</td>\n",
       "      <td>0</td>\n",
       "      <td>0</td>\n",
       "      <td>0</td>\n",
       "      <td>0</td>\n",
       "      <td>1</td>\n",
       "    </tr>\n",
       "    <tr>\n",
       "      <th>3</th>\n",
       "      <td>73.0</td>\n",
       "      <td>9802</td>\n",
       "      <td>2.0</td>\n",
       "      <td>5</td>\n",
       "      <td>5</td>\n",
       "      <td>2006</td>\n",
       "      <td>2007</td>\n",
       "      <td>0.0</td>\n",
       "      <td>1.0</td>\n",
       "      <td>1.0</td>\n",
       "      <td>...</td>\n",
       "      <td>0</td>\n",
       "      <td>1</td>\n",
       "      <td>0</td>\n",
       "      <td>0</td>\n",
       "      <td>0</td>\n",
       "      <td>0</td>\n",
       "      <td>0</td>\n",
       "      <td>0</td>\n",
       "      <td>0</td>\n",
       "      <td>1</td>\n",
       "    </tr>\n",
       "    <tr>\n",
       "      <th>4</th>\n",
       "      <td>82.0</td>\n",
       "      <td>14235</td>\n",
       "      <td>1.0</td>\n",
       "      <td>6</td>\n",
       "      <td>8</td>\n",
       "      <td>1900</td>\n",
       "      <td>1993</td>\n",
       "      <td>0.0</td>\n",
       "      <td>1.0</td>\n",
       "      <td>1.0</td>\n",
       "      <td>...</td>\n",
       "      <td>0</td>\n",
       "      <td>1</td>\n",
       "      <td>0</td>\n",
       "      <td>0</td>\n",
       "      <td>0</td>\n",
       "      <td>0</td>\n",
       "      <td>0</td>\n",
       "      <td>0</td>\n",
       "      <td>0</td>\n",
       "      <td>0</td>\n",
       "    </tr>\n",
       "  </tbody>\n",
       "</table>\n",
       "<p>5 rows × 221 columns</p>\n",
       "</div>"
      ],
      "text/plain": [
       "   lot_frontage  lot_area  lot_shape  overall_qual  overall_cond  year_built  \\\n",
       "0           0.0     13517        1.0             6             8        1976   \n",
       "1          43.0     11492        1.0             7             5        1996   \n",
       "2          68.0      7922        2.0             5             7        1953   \n",
       "3          73.0      9802        2.0             5             5        2006   \n",
       "4          82.0     14235        1.0             6             8        1900   \n",
       "\n",
       "   year_remod/add  mas_vnr_area  exter_qual  exter_cond  ...  lot_config_FR3  \\\n",
       "0            2005         289.0         1.5         1.0  ...               0   \n",
       "1            1997         132.0         1.5         1.0  ...               0   \n",
       "2            2007           0.0         1.0         1.5  ...               0   \n",
       "3            2007           0.0         1.0         1.0  ...               0   \n",
       "4            1993           0.0         1.0         1.0  ...               0   \n",
       "\n",
       "   lot_config_Inside  land_slope_Mod  land_slope_Sev  heating_GasW  \\\n",
       "0                  0               0               0             0   \n",
       "1                  0               0               0             0   \n",
       "2                  1               0               0             0   \n",
       "3                  1               0               0             0   \n",
       "4                  1               0               0             0   \n",
       "\n",
       "   heating_Grav  heating_OthW  heating_Wall  paved_drive_P  paved_drive_Y  \n",
       "0             0             0             0              0              1  \n",
       "1             0             0             0              0              1  \n",
       "2             0             0             0              0              1  \n",
       "3             0             0             0              0              1  \n",
       "4             0             0             0              0              0  \n",
       "\n",
       "[5 rows x 221 columns]"
      ]
     },
     "execution_count": 13,
     "metadata": {},
     "output_type": "execute_result"
    }
   ],
   "source": [
    "df.head()"
   ]
  },
  {
   "cell_type": "code",
   "execution_count": 14,
   "id": "51d9c987-a0fa-4de7-ba88-72688a579ef0",
   "metadata": {
    "tags": []
   },
   "outputs": [],
   "source": [
    "X= df.drop(columns=['saleprice'])\n",
    "y=df['saleprice']"
   ]
  },
  {
   "cell_type": "code",
   "execution_count": 15,
   "id": "72a1888e-00ca-4a41-a7de-94a63d7bf08c",
   "metadata": {
    "tags": []
   },
   "outputs": [
    {
     "data": {
      "text/plain": [
       "(2051, 220)"
      ]
     },
     "execution_count": 15,
     "metadata": {},
     "output_type": "execute_result"
    }
   ],
   "source": [
    "X.shape"
   ]
  },
  {
   "cell_type": "code",
   "execution_count": 16,
   "id": "83707636-30b2-4a9e-9b43-950e3039c785",
   "metadata": {
    "tags": []
   },
   "outputs": [
    {
     "data": {
      "text/plain": [
       "lot_frontage          0.0\n",
       "roof_matl_WdShngl     0.0\n",
       "house_style_SFoyer    0.0\n",
       "house_style_SLvl      0.0\n",
       "roof_style_Gable      0.0\n",
       "                     ... \n",
       "ms_subclass_40        0.0\n",
       "ms_subclass_45        0.0\n",
       "ms_subclass_50        0.0\n",
       "ms_subclass_60        0.0\n",
       "paved_drive_Y         0.0\n",
       "Length: 221, dtype: float64"
      ]
     },
     "execution_count": 16,
     "metadata": {},
     "output_type": "execute_result"
    }
   ],
   "source": [
    "df[df.isna()].sum().sort_values(ascending=False)"
   ]
  },
  {
   "cell_type": "code",
   "execution_count": 17,
   "id": "876d45f7-c124-4a1f-b957-91d0307368f6",
   "metadata": {
    "tags": []
   },
   "outputs": [],
   "source": [
    "missing_vals= [(X[list(X.columns)[i]].isna().mean(),list(X.columns)[i])for i in range(len(list(X.columns)))]"
   ]
  },
  {
   "cell_type": "code",
   "execution_count": 18,
   "id": "5cfe4fcd-5096-4531-a6fd-1699354c59e2",
   "metadata": {
    "collapsed": true,
    "jupyter": {
     "outputs_hidden": true
    },
    "tags": []
   },
   "outputs": [
    {
     "data": {
      "text/plain": [
       "[(0.0, 'lot_frontage'),\n",
       " (0.0, 'lot_area'),\n",
       " (0.0, 'lot_shape'),\n",
       " (0.0, 'overall_qual'),\n",
       " (0.0, 'overall_cond'),\n",
       " (0.0, 'year_built'),\n",
       " (0.0, 'year_remod/add'),\n",
       " (0.0, 'mas_vnr_area'),\n",
       " (0.0, 'exter_qual'),\n",
       " (0.0, 'exter_cond'),\n",
       " (0.0, 'bsmt_qual'),\n",
       " (0.0, 'bsmt_cond'),\n",
       " (0.0, 'bsmtfin_type_1'),\n",
       " (0.0, 'bsmtfin_sf_1'),\n",
       " (0.0, 'bsmtfin_type_2'),\n",
       " (0.0, 'bsmtfin_sf_2'),\n",
       " (0.0, 'bsmt_unf_sf'),\n",
       " (0.0, 'total_bsmt_sf'),\n",
       " (0.0, 'heating_qc'),\n",
       " (0.0, '1st_flr_sf'),\n",
       " (0.0, '2nd_flr_sf'),\n",
       " (0.0, 'low_qual_fin_sf'),\n",
       " (0.0, 'gr_liv_area'),\n",
       " (0.0, 'bsmt_full_bath'),\n",
       " (0.0, 'bsmt_half_bath'),\n",
       " (0.0, 'full_bath'),\n",
       " (0.0, 'half_bath'),\n",
       " (0.0, 'bedroom_abvgr'),\n",
       " (0.0, 'kitchen_abvgr'),\n",
       " (0.0, 'kitchen_qual'),\n",
       " (0.0, 'totrms_abvgrd'),\n",
       " (0.0, 'functional'),\n",
       " (0.0, 'fireplaces'),\n",
       " (0.0, 'fireplace_qu'),\n",
       " (0.0, 'garage_yr_blt'),\n",
       " (0.0, 'garage_finish'),\n",
       " (0.0, 'garage_cars'),\n",
       " (0.0, 'garage_area'),\n",
       " (0.0, 'garage_qual'),\n",
       " (0.0, 'garage_cond'),\n",
       " (0.0, 'wood_deck_sf'),\n",
       " (0.0, 'open_porch_sf'),\n",
       " (0.0, 'enclosed_porch'),\n",
       " (0.0, '3ssn_porch'),\n",
       " (0.0, 'screen_porch'),\n",
       " (0.0, 'pool_area'),\n",
       " (0.0, 'pool_qc'),\n",
       " (0.0, 'misc_val'),\n",
       " (0.0, 'mo_sold'),\n",
       " (0.0, 'yr_sold'),\n",
       " (0.0, 'fence_private'),\n",
       " (0.0, 'fence_wood'),\n",
       " (0.0, 'mas_vnr_type_BrkFace'),\n",
       " (0.0, 'mas_vnr_type_None'),\n",
       " (0.0, 'mas_vnr_type_Stone'),\n",
       " (0.0, 'mas_vnr_type_nan'),\n",
       " (0.0, 'bsmt_exposure_Gd'),\n",
       " (0.0, 'bsmt_exposure_Mn'),\n",
       " (0.0, 'bsmt_exposure_No'),\n",
       " (0.0, 'bsmt_exposure_nan'),\n",
       " (0.0, 'garage_type_Attchd'),\n",
       " (0.0, 'garage_type_Basment'),\n",
       " (0.0, 'garage_type_BuiltIn'),\n",
       " (0.0, 'garage_type_CarPort'),\n",
       " (0.0, 'garage_type_Detchd'),\n",
       " (0.0, 'garage_type_nan'),\n",
       " (0.0, 'alley_Pave'),\n",
       " (0.0, 'alley_nan'),\n",
       " (0.0, 'misc_feature_Gar2'),\n",
       " (0.0, 'misc_feature_Othr'),\n",
       " (0.0, 'misc_feature_Shed'),\n",
       " (0.0, 'misc_feature_TenC'),\n",
       " (0.0, 'misc_feature_nan'),\n",
       " (0.0, 'land_contour_1.0'),\n",
       " (0.0, 'land_contour_nan'),\n",
       " (0.0, 'ms_subclass_30'),\n",
       " (0.0, 'ms_subclass_40'),\n",
       " (0.0, 'ms_subclass_45'),\n",
       " (0.0, 'ms_subclass_50'),\n",
       " (0.0, 'ms_subclass_60'),\n",
       " (0.0, 'ms_subclass_70'),\n",
       " (0.0, 'ms_subclass_75'),\n",
       " (0.0, 'ms_subclass_80'),\n",
       " (0.0, 'ms_subclass_85'),\n",
       " (0.0, 'ms_subclass_90'),\n",
       " (0.0, 'ms_subclass_120'),\n",
       " (0.0, 'ms_subclass_150'),\n",
       " (0.0, 'ms_subclass_160'),\n",
       " (0.0, 'ms_subclass_180'),\n",
       " (0.0, 'ms_subclass_190'),\n",
       " (0.0, 'ms_zoning_C (all)'),\n",
       " (0.0, 'ms_zoning_FV'),\n",
       " (0.0, 'ms_zoning_I (all)'),\n",
       " (0.0, 'ms_zoning_RH'),\n",
       " (0.0, 'ms_zoning_RL'),\n",
       " (0.0, 'ms_zoning_RM'),\n",
       " (0.0, 'street_Pave'),\n",
       " (0.0, 'neighborhood_Blueste'),\n",
       " (0.0, 'neighborhood_BrDale'),\n",
       " (0.0, 'neighborhood_BrkSide'),\n",
       " (0.0, 'neighborhood_ClearCr'),\n",
       " (0.0, 'neighborhood_CollgCr'),\n",
       " (0.0, 'neighborhood_Crawfor'),\n",
       " (0.0, 'neighborhood_Edwards'),\n",
       " (0.0, 'neighborhood_Gilbert'),\n",
       " (0.0, 'neighborhood_Greens'),\n",
       " (0.0, 'neighborhood_GrnHill'),\n",
       " (0.0, 'neighborhood_IDOTRR'),\n",
       " (0.0, 'neighborhood_Landmrk'),\n",
       " (0.0, 'neighborhood_MeadowV'),\n",
       " (0.0, 'neighborhood_Mitchel'),\n",
       " (0.0, 'neighborhood_NAmes'),\n",
       " (0.0, 'neighborhood_NPkVill'),\n",
       " (0.0, 'neighborhood_NWAmes'),\n",
       " (0.0, 'neighborhood_NoRidge'),\n",
       " (0.0, 'neighborhood_NridgHt'),\n",
       " (0.0, 'neighborhood_OldTown'),\n",
       " (0.0, 'neighborhood_SWISU'),\n",
       " (0.0, 'neighborhood_Sawyer'),\n",
       " (0.0, 'neighborhood_SawyerW'),\n",
       " (0.0, 'neighborhood_Somerst'),\n",
       " (0.0, 'neighborhood_StoneBr'),\n",
       " (0.0, 'neighborhood_Timber'),\n",
       " (0.0, 'neighborhood_Veenker'),\n",
       " (0.0, 'condition_2_Feedr'),\n",
       " (0.0, 'condition_2_Norm'),\n",
       " (0.0, 'condition_2_PosA'),\n",
       " (0.0, 'condition_2_PosN'),\n",
       " (0.0, 'condition_2_RRAe'),\n",
       " (0.0, 'condition_2_RRAn'),\n",
       " (0.0, 'condition_2_RRNn'),\n",
       " (0.0, 'bldg_type_2fmCon'),\n",
       " (0.0, 'bldg_type_Duplex'),\n",
       " (0.0, 'bldg_type_Twnhs'),\n",
       " (0.0, 'bldg_type_TwnhsE'),\n",
       " (0.0, 'house_style_1.5Unf'),\n",
       " (0.0, 'house_style_1Story'),\n",
       " (0.0, 'house_style_2.5Fin'),\n",
       " (0.0, 'house_style_2.5Unf'),\n",
       " (0.0, 'house_style_2Story'),\n",
       " (0.0, 'house_style_SFoyer'),\n",
       " (0.0, 'house_style_SLvl'),\n",
       " (0.0, 'roof_style_Gable'),\n",
       " (0.0, 'roof_style_Gambrel'),\n",
       " (0.0, 'roof_style_Hip'),\n",
       " (0.0, 'roof_style_Mansard'),\n",
       " (0.0, 'roof_style_Shed'),\n",
       " (0.0, 'roof_matl_CompShg'),\n",
       " (0.0, 'roof_matl_Membran'),\n",
       " (0.0, 'roof_matl_Tar&Grv'),\n",
       " (0.0, 'roof_matl_WdShake'),\n",
       " (0.0, 'roof_matl_WdShngl'),\n",
       " (0.0, 'exterior_1st_AsphShn'),\n",
       " (0.0, 'exterior_1st_BrkComm'),\n",
       " (0.0, 'exterior_1st_BrkFace'),\n",
       " (0.0, 'exterior_1st_CBlock'),\n",
       " (0.0, 'exterior_1st_CemntBd'),\n",
       " (0.0, 'exterior_1st_HdBoard'),\n",
       " (0.0, 'exterior_1st_ImStucc'),\n",
       " (0.0, 'exterior_1st_MetalSd'),\n",
       " (0.0, 'exterior_1st_Plywood'),\n",
       " (0.0, 'exterior_1st_Stone'),\n",
       " (0.0, 'exterior_1st_Stucco'),\n",
       " (0.0, 'exterior_1st_VinylSd'),\n",
       " (0.0, 'exterior_1st_Wd Sdng'),\n",
       " (0.0, 'exterior_1st_WdShing'),\n",
       " (0.0, 'exterior_2nd_AsphShn'),\n",
       " (0.0, 'exterior_2nd_Brk Cmn'),\n",
       " (0.0, 'exterior_2nd_BrkFace'),\n",
       " (0.0, 'exterior_2nd_CBlock'),\n",
       " (0.0, 'exterior_2nd_CmentBd'),\n",
       " (0.0, 'exterior_2nd_HdBoard'),\n",
       " (0.0, 'exterior_2nd_ImStucc'),\n",
       " (0.0, 'exterior_2nd_MetalSd'),\n",
       " (0.0, 'exterior_2nd_Plywood'),\n",
       " (0.0, 'exterior_2nd_Stone'),\n",
       " (0.0, 'exterior_2nd_Stucco'),\n",
       " (0.0, 'exterior_2nd_VinylSd'),\n",
       " (0.0, 'exterior_2nd_Wd Sdng'),\n",
       " (0.0, 'exterior_2nd_Wd Shng'),\n",
       " (0.0, 'foundation_CBlock'),\n",
       " (0.0, 'foundation_PConc'),\n",
       " (0.0, 'foundation_Slab'),\n",
       " (0.0, 'foundation_Stone'),\n",
       " (0.0, 'foundation_Wood'),\n",
       " (0.0, 'central_air_Y'),\n",
       " (0.0, 'electrical_FuseF'),\n",
       " (0.0, 'electrical_FuseP'),\n",
       " (0.0, 'electrical_Mix'),\n",
       " (0.0, 'electrical_SBrkr'),\n",
       " (0.0, 'sale_type_CWD'),\n",
       " (0.0, 'sale_type_Con'),\n",
       " (0.0, 'sale_type_ConLD'),\n",
       " (0.0, 'sale_type_ConLI'),\n",
       " (0.0, 'sale_type_ConLw'),\n",
       " (0.0, 'sale_type_New'),\n",
       " (0.0, 'sale_type_Oth'),\n",
       " (0.0, 'sale_type_WD '),\n",
       " (0.0, 'condition_1_Feedr'),\n",
       " (0.0, 'condition_1_Norm'),\n",
       " (0.0, 'condition_1_PosA'),\n",
       " (0.0, 'condition_1_PosN'),\n",
       " (0.0, 'condition_1_RRAe'),\n",
       " (0.0, 'condition_1_RRAn'),\n",
       " (0.0, 'condition_1_RRNe'),\n",
       " (0.0, 'condition_1_RRNn'),\n",
       " (0.0, 'utilities_NoSeWa'),\n",
       " (0.0, 'utilities_NoSewr'),\n",
       " (0.0, 'lot_config_CulDSac'),\n",
       " (0.0, 'lot_config_FR2'),\n",
       " (0.0, 'lot_config_FR3'),\n",
       " (0.0, 'lot_config_Inside'),\n",
       " (0.0, 'land_slope_Mod'),\n",
       " (0.0, 'land_slope_Sev'),\n",
       " (0.0, 'heating_GasW'),\n",
       " (0.0, 'heating_Grav'),\n",
       " (0.0, 'heating_OthW'),\n",
       " (0.0, 'heating_Wall'),\n",
       " (0.0, 'paved_drive_P'),\n",
       " (0.0, 'paved_drive_Y')]"
      ]
     },
     "execution_count": 18,
     "metadata": {},
     "output_type": "execute_result"
    }
   ],
   "source": [
    "missing_vals"
   ]
  },
  {
   "cell_type": "code",
   "execution_count": 19,
   "id": "b25c3532-2f16-443c-b987-4d270d2780af",
   "metadata": {
    "tags": []
   },
   "outputs": [],
   "source": [
    "X_train, X_test, y_train, y_test = train_test_split(X,y, random_state=512)"
   ]
  },
  {
   "cell_type": "code",
   "execution_count": 20,
   "id": "3559689c-7448-4302-9c98-9a8c644a8db7",
   "metadata": {
    "tags": []
   },
   "outputs": [
    {
     "data": {
      "text/plain": [
       "0.6860470171749506"
      ]
     },
     "execution_count": 20,
     "metadata": {},
     "output_type": "execute_result"
    }
   ],
   "source": [
    "lr = LinearRegression()\n",
    "lr.fit(X_train,y_train)\n",
    "lr.score(X_test,y_test)"
   ]
  },
  {
   "cell_type": "code",
   "execution_count": 21,
   "id": "7bc165e4-3ba6-4e06-8f1e-5af6b7ef1097",
   "metadata": {
    "tags": []
   },
   "outputs": [
    {
     "data": {
      "text/plain": [
       "0.9355788248537884"
      ]
     },
     "execution_count": 21,
     "metadata": {},
     "output_type": "execute_result"
    }
   ],
   "source": [
    "lr.score(X_train,y_train)"
   ]
  },
  {
   "cell_type": "code",
   "execution_count": null,
   "id": "d5ca1fa8-d1c3-43fd-8983-158e72c29e3f",
   "metadata": {},
   "outputs": [],
   "source": []
  },
  {
   "cell_type": "code",
   "execution_count": null,
   "id": "8efcf8bf-b44b-4c9c-922c-1eef5db72b50",
   "metadata": {},
   "outputs": [],
   "source": []
  },
  {
   "cell_type": "code",
   "execution_count": null,
   "id": "9335cf37-7a11-4ee2-b194-8141d909f741",
   "metadata": {},
   "outputs": [],
   "source": []
  },
  {
   "cell_type": "code",
   "execution_count": null,
   "id": "faecf5f6-ed3d-4077-b0cd-d58178ad7e19",
   "metadata": {},
   "outputs": [],
   "source": []
  },
  {
   "cell_type": "code",
   "execution_count": null,
   "id": "5a3fd81e-2abe-478d-baf4-c5c047fc1b64",
   "metadata": {
    "tags": []
   },
   "outputs": [],
   "source": []
  },
  {
   "cell_type": "code",
   "execution_count": null,
   "id": "9f8cf81f-72b5-4fa0-9637-ce5739079230",
   "metadata": {},
   "outputs": [],
   "source": []
  },
  {
   "cell_type": "markdown",
   "id": "a3d9bac6-a0f4-4ea3-8f00-32f60a19c2b9",
   "metadata": {},
   "source": [
    "## these are the columns with missing values - some columns have values of 'none' that may need to be treated similarly to many of these variables"
   ]
  },
  {
   "cell_type": "markdown",
   "id": "5c199fee-cbe1-42b7-bf92-275dacc40fee",
   "metadata": {},
   "source": [
    "## I want to break this down by grouped features - If you dont have a basement all the features about basement are zero or nan"
   ]
  },
  {
   "cell_type": "code",
   "execution_count": null,
   "id": "a67ced94-b0c3-4733-a981-c3367815205f",
   "metadata": {},
   "outputs": [],
   "source": []
  },
  {
   "cell_type": "code",
   "execution_count": null,
   "id": "ec84cfd6-e593-4ed4-9072-5232fda34ca5",
   "metadata": {},
   "outputs": [],
   "source": []
  },
  {
   "cell_type": "code",
   "execution_count": null,
   "id": "86aadb82-1f20-42b8-89f9-5f8819246a74",
   "metadata": {},
   "outputs": [],
   "source": []
  },
  {
   "cell_type": "code",
   "execution_count": null,
   "id": "0b0931eb-e51a-49e1-9fe6-7a65c358b7e8",
   "metadata": {},
   "outputs": [],
   "source": []
  },
  {
   "cell_type": "code",
   "execution_count": null,
   "id": "ffc0cfeb-1604-4567-81e5-bc14ff08bd13",
   "metadata": {},
   "outputs": [],
   "source": []
  },
  {
   "cell_type": "code",
   "execution_count": null,
   "id": "cfc4eada-0b31-4be1-93aa-a1f52dd2170b",
   "metadata": {},
   "outputs": [],
   "source": []
  },
  {
   "cell_type": "code",
   "execution_count": null,
   "id": "301333c3-5493-4eda-af64-f3cd2d4e5a07",
   "metadata": {},
   "outputs": [],
   "source": []
  },
  {
   "cell_type": "code",
   "execution_count": null,
   "id": "5609a01e-9292-49f2-8b15-5cc3ddbef153",
   "metadata": {},
   "outputs": [],
   "source": []
  },
  {
   "cell_type": "code",
   "execution_count": null,
   "id": "0e546dec-441e-49a1-9963-8caa8ddba42a",
   "metadata": {},
   "outputs": [],
   "source": []
  },
  {
   "cell_type": "code",
   "execution_count": null,
   "id": "f593daf8-a2b2-4259-83ac-f250437f4b57",
   "metadata": {},
   "outputs": [],
   "source": []
  },
  {
   "cell_type": "code",
   "execution_count": null,
   "id": "2b208716-0e6a-4e58-ab40-6ded1bd16589",
   "metadata": {},
   "outputs": [],
   "source": []
  }
 ],
 "metadata": {
  "kernelspec": {
   "display_name": "Python 3 (ipykernel)",
   "language": "python",
   "name": "python3"
  },
  "language_info": {
   "codemirror_mode": {
    "name": "ipython",
    "version": 3
   },
   "file_extension": ".py",
   "mimetype": "text/x-python",
   "name": "python",
   "nbconvert_exporter": "python",
   "pygments_lexer": "ipython3",
   "version": "3.11.4"
  }
 },
 "nbformat": 4,
 "nbformat_minor": 5
}
