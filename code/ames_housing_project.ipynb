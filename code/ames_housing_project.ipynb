{
 "cells": [
  {
   "cell_type": "code",
   "execution_count": 25,
   "metadata": {},
   "outputs": [],
   "source": [
    "import pandas as pd\n",
    "import numpy as np\n",
    "from scipy import stats\n",
    "import matplotlib.pyplot as plt\n",
    "from sklearn.model_selection import train_test_split, GridSearchCV\n",
    "from sklearn.linear_model import LinearRegression, LogisticRegression, RidgeCV\n",
    "from sklearn.preprocessing import StandardScaler, OneHotEncoder\n",
    "from sklearn.neighbors import KNeighborsRegressor\n",
    "from sklearn.pipeline import Pipeline\n",
    "from sklearn.ensemble import RandomForestRegressor\n",
    "from sklearn.compose import ColumnTransformer,make_column_transformer\n",
    "from sklearn import metrics\n",
    "\n",
    "from my_functions import map_home, numeric_houses, dummy_houses, multiplier_attempt3"
   ]
  },
  {
   "cell_type": "code",
   "execution_count": null,
   "metadata": {},
   "outputs": [],
   "source": []
  },
  {
   "cell_type": "markdown",
   "metadata": {},
   "source": [
    "### Test and training csvs were provided for this project. "
   ]
  },
  {
   "cell_type": "code",
   "execution_count": 26,
   "metadata": {},
   "outputs": [],
   "source": [
    "df = pd.read_csv('../datasets/train.csv')\n",
    "df.columns =df.columns.str.lower().str.replace(' ','_')\n"
   ]
  },
  {
   "cell_type": "markdown",
   "metadata": {},
   "source": [
    "#### Taking a peek at the missing values in two ways"
   ]
  },
  {
   "cell_type": "code",
   "execution_count": 27,
   "metadata": {},
   "outputs": [
    {
     "name": "stdout",
     "output_type": "stream",
     "text": [
      "<class 'pandas.core.frame.DataFrame'>\n",
      "RangeIndex: 2051 entries, 0 to 2050\n",
      "Data columns (total 81 columns):\n",
      " #   Column           Non-Null Count  Dtype  \n",
      "---  ------           --------------  -----  \n",
      " 0   id               2051 non-null   int64  \n",
      " 1   pid              2051 non-null   int64  \n",
      " 2   ms_subclass      2051 non-null   int64  \n",
      " 3   ms_zoning        2051 non-null   object \n",
      " 4   lot_frontage     1721 non-null   float64\n",
      " 5   lot_area         2051 non-null   int64  \n",
      " 6   street           2051 non-null   object \n",
      " 7   alley            140 non-null    object \n",
      " 8   lot_shape        2051 non-null   object \n",
      " 9   land_contour     2051 non-null   object \n",
      " 10  utilities        2051 non-null   object \n",
      " 11  lot_config       2051 non-null   object \n",
      " 12  land_slope       2051 non-null   object \n",
      " 13  neighborhood     2051 non-null   object \n",
      " 14  condition_1      2051 non-null   object \n",
      " 15  condition_2      2051 non-null   object \n",
      " 16  bldg_type        2051 non-null   object \n",
      " 17  house_style      2051 non-null   object \n",
      " 18  overall_qual     2051 non-null   int64  \n",
      " 19  overall_cond     2051 non-null   int64  \n",
      " 20  year_built       2051 non-null   int64  \n",
      " 21  year_remod/add   2051 non-null   int64  \n",
      " 22  roof_style       2051 non-null   object \n",
      " 23  roof_matl        2051 non-null   object \n",
      " 24  exterior_1st     2051 non-null   object \n",
      " 25  exterior_2nd     2051 non-null   object \n",
      " 26  mas_vnr_type     2029 non-null   object \n",
      " 27  mas_vnr_area     2029 non-null   float64\n",
      " 28  exter_qual       2051 non-null   object \n",
      " 29  exter_cond       2051 non-null   object \n",
      " 30  foundation       2051 non-null   object \n",
      " 31  bsmt_qual        1996 non-null   object \n",
      " 32  bsmt_cond        1996 non-null   object \n",
      " 33  bsmt_exposure    1993 non-null   object \n",
      " 34  bsmtfin_type_1   1996 non-null   object \n",
      " 35  bsmtfin_sf_1     2050 non-null   float64\n",
      " 36  bsmtfin_type_2   1995 non-null   object \n",
      " 37  bsmtfin_sf_2     2050 non-null   float64\n",
      " 38  bsmt_unf_sf      2050 non-null   float64\n",
      " 39  total_bsmt_sf    2050 non-null   float64\n",
      " 40  heating          2051 non-null   object \n",
      " 41  heating_qc       2051 non-null   object \n",
      " 42  central_air      2051 non-null   object \n",
      " 43  electrical       2051 non-null   object \n",
      " 44  1st_flr_sf       2051 non-null   int64  \n",
      " 45  2nd_flr_sf       2051 non-null   int64  \n",
      " 46  low_qual_fin_sf  2051 non-null   int64  \n",
      " 47  gr_liv_area      2051 non-null   int64  \n",
      " 48  bsmt_full_bath   2049 non-null   float64\n",
      " 49  bsmt_half_bath   2049 non-null   float64\n",
      " 50  full_bath        2051 non-null   int64  \n",
      " 51  half_bath        2051 non-null   int64  \n",
      " 52  bedroom_abvgr    2051 non-null   int64  \n",
      " 53  kitchen_abvgr    2051 non-null   int64  \n",
      " 54  kitchen_qual     2051 non-null   object \n",
      " 55  totrms_abvgrd    2051 non-null   int64  \n",
      " 56  functional       2051 non-null   object \n",
      " 57  fireplaces       2051 non-null   int64  \n",
      " 58  fireplace_qu     1051 non-null   object \n",
      " 59  garage_type      1938 non-null   object \n",
      " 60  garage_yr_blt    1937 non-null   float64\n",
      " 61  garage_finish    1937 non-null   object \n",
      " 62  garage_cars      2050 non-null   float64\n",
      " 63  garage_area      2050 non-null   float64\n",
      " 64  garage_qual      1937 non-null   object \n",
      " 65  garage_cond      1937 non-null   object \n",
      " 66  paved_drive      2051 non-null   object \n",
      " 67  wood_deck_sf     2051 non-null   int64  \n",
      " 68  open_porch_sf    2051 non-null   int64  \n",
      " 69  enclosed_porch   2051 non-null   int64  \n",
      " 70  3ssn_porch       2051 non-null   int64  \n",
      " 71  screen_porch     2051 non-null   int64  \n",
      " 72  pool_area        2051 non-null   int64  \n",
      " 73  pool_qc          9 non-null      object \n",
      " 74  fence            400 non-null    object \n",
      " 75  misc_feature     65 non-null     object \n",
      " 76  misc_val         2051 non-null   int64  \n",
      " 77  mo_sold          2051 non-null   int64  \n",
      " 78  yr_sold          2051 non-null   int64  \n",
      " 79  sale_type        2051 non-null   object \n",
      " 80  saleprice        2051 non-null   int64  \n",
      "dtypes: float64(11), int64(28), object(42)\n",
      "memory usage: 1.3+ MB\n"
     ]
    }
   ],
   "source": [
    "df.info()"
   ]
  },
  {
   "cell_type": "markdown",
   "metadata": {},
   "source": [
    "80 columns and the target,saleprice, Lots of data missing and different types. Lots  of cleaning to do."
   ]
  },
  {
   "cell_type": "code",
   "execution_count": null,
   "metadata": {},
   "outputs": [],
   "source": []
  },
  {
   "cell_type": "code",
   "execution_count": 28,
   "metadata": {},
   "outputs": [],
   "source": [
    "features = list(df.columns)"
   ]
  },
  {
   "cell_type": "code",
   "execution_count": 29,
   "metadata": {},
   "outputs": [],
   "source": [
    "missing_vals= [(df[features[i]].isna().mean(),features[i])for i in range(80)]"
   ]
  },
  {
   "cell_type": "code",
   "execution_count": 30,
   "metadata": {},
   "outputs": [
    {
     "data": {
      "text/plain": [
       "[(0.9956118966357874, 'pool_qc'),\n",
       " (0.9683081423695759, 'misc_feature'),\n",
       " (0.931740614334471, 'alley'),\n",
       " (0.8049731838127743, 'fence'),\n",
       " (0.48756704046806437, 'fireplace_qu'),\n",
       " (0.16089712335446124, 'lot_frontage'),\n",
       " (0.05558264261335934, 'garage_yr_blt'),\n",
       " (0.05558264261335934, 'garage_finish'),\n",
       " (0.05558264261335934, 'garage_qual'),\n",
       " (0.05558264261335934, 'garage_cond'),\n",
       " (0.05509507557289127, 'garage_type'),\n",
       " (0.028278888347147733, 'bsmt_exposure'),\n",
       " (0.027303754266211604, 'bsmtfin_type_2'),\n",
       " (0.02681618722574354, 'bsmt_qual'),\n",
       " (0.02681618722574354, 'bsmt_cond'),\n",
       " (0.02681618722574354, 'bsmtfin_type_1'),\n",
       " (0.010726474890297415, 'mas_vnr_type'),\n",
       " (0.010726474890297415, 'mas_vnr_area'),\n",
       " (0.0009751340809361287, 'bsmt_full_bath'),\n",
       " (0.0009751340809361287, 'bsmt_half_bath'),\n",
       " (0.00048756704046806434, 'bsmtfin_sf_1'),\n",
       " (0.00048756704046806434, 'bsmtfin_sf_2'),\n",
       " (0.00048756704046806434, 'bsmt_unf_sf'),\n",
       " (0.00048756704046806434, 'total_bsmt_sf'),\n",
       " (0.00048756704046806434, 'garage_cars'),\n",
       " (0.00048756704046806434, 'garage_area'),\n",
       " (0.0, 'id'),\n",
       " (0.0, 'pid'),\n",
       " (0.0, 'ms_subclass'),\n",
       " (0.0, 'ms_zoning'),\n",
       " (0.0, 'lot_area'),\n",
       " (0.0, 'street'),\n",
       " (0.0, 'lot_shape'),\n",
       " (0.0, 'land_contour'),\n",
       " (0.0, 'utilities'),\n",
       " (0.0, 'lot_config'),\n",
       " (0.0, 'land_slope'),\n",
       " (0.0, 'neighborhood'),\n",
       " (0.0, 'condition_1'),\n",
       " (0.0, 'condition_2'),\n",
       " (0.0, 'bldg_type'),\n",
       " (0.0, 'house_style'),\n",
       " (0.0, 'overall_qual'),\n",
       " (0.0, 'overall_cond'),\n",
       " (0.0, 'year_built'),\n",
       " (0.0, 'year_remod/add'),\n",
       " (0.0, 'roof_style'),\n",
       " (0.0, 'roof_matl'),\n",
       " (0.0, 'exterior_1st'),\n",
       " (0.0, 'exterior_2nd'),\n",
       " (0.0, 'exter_qual'),\n",
       " (0.0, 'exter_cond'),\n",
       " (0.0, 'foundation'),\n",
       " (0.0, 'heating'),\n",
       " (0.0, 'heating_qc'),\n",
       " (0.0, 'central_air'),\n",
       " (0.0, 'electrical'),\n",
       " (0.0, '1st_flr_sf'),\n",
       " (0.0, '2nd_flr_sf'),\n",
       " (0.0, 'low_qual_fin_sf'),\n",
       " (0.0, 'gr_liv_area'),\n",
       " (0.0, 'full_bath'),\n",
       " (0.0, 'half_bath'),\n",
       " (0.0, 'bedroom_abvgr'),\n",
       " (0.0, 'kitchen_abvgr'),\n",
       " (0.0, 'kitchen_qual'),\n",
       " (0.0, 'totrms_abvgrd'),\n",
       " (0.0, 'functional'),\n",
       " (0.0, 'fireplaces'),\n",
       " (0.0, 'paved_drive'),\n",
       " (0.0, 'wood_deck_sf'),\n",
       " (0.0, 'open_porch_sf'),\n",
       " (0.0, 'enclosed_porch'),\n",
       " (0.0, '3ssn_porch'),\n",
       " (0.0, 'screen_porch'),\n",
       " (0.0, 'pool_area'),\n",
       " (0.0, 'misc_val'),\n",
       " (0.0, 'mo_sold'),\n",
       " (0.0, 'yr_sold'),\n",
       " (0.0, 'sale_type')]"
      ]
     },
     "execution_count": 30,
     "metadata": {},
     "output_type": "execute_result"
    }
   ],
   "source": [
    "missing_vals.sort(key=lambda pair: pair[0], reverse= True)\n",
    "missing_vals"
   ]
  },
  {
   "cell_type": "markdown",
   "metadata": {},
   "source": [
    "<p>One major challenge in this project is that there are many columns that are missing for a significant number of houses.</p> \n",
    "<p>If it does not have the specific amenity the other columns describing its quality and condition - will they be null? zero?. </p> <p> I want to build a model that will not lose any information about the amenities or their condition.</p>"
   ]
  },
  {
   "cell_type": "code",
   "execution_count": 31,
   "metadata": {},
   "outputs": [
    {
     "data": {
      "image/png": "[encoded data removed]",
      "text/plain": [
       "<Figure size 700x400 with 1 Axes>"
      ]
     },
     "metadata": {},
     "output_type": "display_data"
    }
   ],
   "source": [
    "plt.figure(figsize=(7,4))\n",
    "plt.hist(df['saleprice'], bins = 100)\n",
    "plt.xlabel('Sale Price')\n",
    "plt.ylabel('Count')\n",
    "plt.axvline(np.median(df['saleprice']), color='orange')\n",
    "plt.title('Registered Sale Prices of Homes in Ames \\n'+ \n",
    "          'Median Sale Price - $162500',loc= 'left')\n",
    "plt.savefig('../images/price_hist.png');"
   ]
  },
  {
   "cell_type": "markdown",
   "metadata": {},
   "source": [
    "Typical quality columns have values like the ones below and I build a function that applies a map to each similar column that has ordinal values."
   ]
  },
  {
   "cell_type": "code",
   "execution_count": 32,
   "metadata": {},
   "outputs": [
    {
     "data": {
      "text/plain": [
       "TA    1832\n",
       "Fa      82\n",
       "Gd      18\n",
       "Ex       3\n",
       "Po       2\n",
       "Name: garage_qual, dtype: int64"
      ]
     },
     "execution_count": 32,
     "metadata": {},
     "output_type": "execute_result"
    }
   ],
   "source": [
    "df['garage_qual'].value_counts()"
   ]
  },
  {
   "cell_type": "code",
   "execution_count": 33,
   "metadata": {},
   "outputs": [],
   "source": [
    "df1 = map_home(df.drop(columns=['saleprice']))\n",
    "df2 = numeric_houses(df1)"
   ]
  },
  {
   "cell_type": "code",
   "execution_count": 34,
   "metadata": {},
   "outputs": [
    {
     "data": {
      "text/plain": [
       "Index(['pid', 'ms_subclass', 'ms_zoning', 'lot_frontage', 'lot_area', 'street',\n",
       "       'alley', 'land_contour', 'utilities', 'lot_config', 'land_slope',\n",
       "       'neighborhood', 'condition_1', 'condition_2', 'bldg_type',\n",
       "       'house_style', 'overall_qual', 'overall_cond', 'year_built',\n",
       "       'year_remod/add', 'roof_style', 'roof_matl', 'exterior_1st',\n",
       "       'exterior_2nd', 'mas_vnr_type', 'mas_vnr_area', 'exter_qual',\n",
       "       'exter_cond', 'foundation', 'bsmt_qual', 'bsmt_cond', 'bsmt_exposure',\n",
       "       'bsmtfin_type_1', 'bsmtfin_sf_1', 'bsmtfin_type_2', 'bsmtfin_sf_2',\n",
       "       'bsmt_unf_sf', 'total_bsmt_sf', 'heating', 'heating_qc', 'central_air',\n",
       "       'electrical', '1st_flr_sf', '2nd_flr_sf', 'low_qual_fin_sf',\n",
       "       'gr_liv_area', 'bsmt_full_bath', 'bsmt_half_bath', 'full_bath',\n",
       "       'half_bath', 'bedroom_abvgr', 'kitchen_abvgr', 'kitchen_qual',\n",
       "       'totrms_abvgrd', 'functional', 'fireplaces', 'fireplace_qu',\n",
       "       'garage_type', 'garage_yr_blt', 'garage_finish', 'garage_cars',\n",
       "       'garage_area', 'garage_qual', 'garage_cond', 'paved_drive',\n",
       "       'wood_deck_sf', 'open_porch_sf', 'enclosed_porch', '3ssn_porch',\n",
       "       'screen_porch', 'pool_area', 'pool_qc', 'misc_feature', 'misc_val',\n",
       "       'mo_sold', 'yr_sold', 'sale_type', 'fence_private', 'fence_wood'],\n",
       "      dtype='object')"
      ]
     },
     "execution_count": 34,
     "metadata": {},
     "output_type": "execute_result"
    }
   ],
   "source": [
    "df2.columns"
   ]
  },
  {
   "cell_type": "code",
   "execution_count": 35,
   "metadata": {},
   "outputs": [
    {
     "data": {
      "text/html": [
       "<div>\n",
       "<style scoped>\n",
       "    .dataframe tbody tr th:only-of-type {\n",
       "        vertical-align: middle;\n",
       "    }\n",
       "\n",
       "    .dataframe tbody tr th {\n",
       "        vertical-align: top;\n",
       "    }\n",
       "\n",
       "    .dataframe thead th {\n",
       "        text-align: right;\n",
       "    }\n",
       "</style>\n",
       "<table border=\"1\" class=\"dataframe\">\n",
       "  <thead>\n",
       "    <tr style=\"text-align: right;\">\n",
       "      <th></th>\n",
       "      <th>pid</th>\n",
       "      <th>ms_subclass</th>\n",
       "      <th>ms_zoning</th>\n",
       "      <th>lot_frontage</th>\n",
       "      <th>lot_area</th>\n",
       "      <th>street</th>\n",
       "      <th>alley</th>\n",
       "      <th>land_contour</th>\n",
       "      <th>utilities</th>\n",
       "      <th>lot_config</th>\n",
       "      <th>...</th>\n",
       "      <th>screen_porch</th>\n",
       "      <th>pool_area</th>\n",
       "      <th>pool_qc</th>\n",
       "      <th>misc_feature</th>\n",
       "      <th>misc_val</th>\n",
       "      <th>mo_sold</th>\n",
       "      <th>yr_sold</th>\n",
       "      <th>sale_type</th>\n",
       "      <th>fence_private</th>\n",
       "      <th>fence_wood</th>\n",
       "    </tr>\n",
       "  </thead>\n",
       "  <tbody>\n",
       "    <tr>\n",
       "      <th>559</th>\n",
       "      <td>907290230</td>\n",
       "      <td>120</td>\n",
       "      <td>RM</td>\n",
       "      <td>37.0</td>\n",
       "      <td>4435</td>\n",
       "      <td>Pave</td>\n",
       "      <td>NaN</td>\n",
       "      <td>Lvl</td>\n",
       "      <td>AllPub</td>\n",
       "      <td>Inside</td>\n",
       "      <td>...</td>\n",
       "      <td>0</td>\n",
       "      <td>0</td>\n",
       "      <td>0</td>\n",
       "      <td>NaN</td>\n",
       "      <td>0</td>\n",
       "      <td>5</td>\n",
       "      <td>2006</td>\n",
       "      <td>WD</td>\n",
       "      <td>0</td>\n",
       "      <td>0</td>\n",
       "    </tr>\n",
       "    <tr>\n",
       "      <th>495</th>\n",
       "      <td>903430050</td>\n",
       "      <td>50</td>\n",
       "      <td>RM</td>\n",
       "      <td>40.0</td>\n",
       "      <td>5680</td>\n",
       "      <td>Pave</td>\n",
       "      <td>Grvl</td>\n",
       "      <td>Lvl</td>\n",
       "      <td>AllPub</td>\n",
       "      <td>Inside</td>\n",
       "      <td>...</td>\n",
       "      <td>0</td>\n",
       "      <td>0</td>\n",
       "      <td>0</td>\n",
       "      <td>NaN</td>\n",
       "      <td>0</td>\n",
       "      <td>9</td>\n",
       "      <td>2007</td>\n",
       "      <td>WD</td>\n",
       "      <td>1</td>\n",
       "      <td>0</td>\n",
       "    </tr>\n",
       "    <tr>\n",
       "      <th>1136</th>\n",
       "      <td>527252070</td>\n",
       "      <td>20</td>\n",
       "      <td>RL</td>\n",
       "      <td>60.0</td>\n",
       "      <td>8089</td>\n",
       "      <td>Pave</td>\n",
       "      <td>NaN</td>\n",
       "      <td>HLS</td>\n",
       "      <td>AllPub</td>\n",
       "      <td>Inside</td>\n",
       "      <td>...</td>\n",
       "      <td>0</td>\n",
       "      <td>0</td>\n",
       "      <td>0</td>\n",
       "      <td>NaN</td>\n",
       "      <td>0</td>\n",
       "      <td>10</td>\n",
       "      <td>2007</td>\n",
       "      <td>New</td>\n",
       "      <td>0</td>\n",
       "      <td>0</td>\n",
       "    </tr>\n",
       "    <tr>\n",
       "      <th>1230</th>\n",
       "      <td>527359070</td>\n",
       "      <td>60</td>\n",
       "      <td>RL</td>\n",
       "      <td>80.0</td>\n",
       "      <td>10480</td>\n",
       "      <td>Pave</td>\n",
       "      <td>NaN</td>\n",
       "      <td>Lvl</td>\n",
       "      <td>AllPub</td>\n",
       "      <td>Inside</td>\n",
       "      <td>...</td>\n",
       "      <td>0</td>\n",
       "      <td>0</td>\n",
       "      <td>0</td>\n",
       "      <td>NaN</td>\n",
       "      <td>0</td>\n",
       "      <td>9</td>\n",
       "      <td>2008</td>\n",
       "      <td>WD</td>\n",
       "      <td>0</td>\n",
       "      <td>0</td>\n",
       "    </tr>\n",
       "    <tr>\n",
       "      <th>744</th>\n",
       "      <td>905200090</td>\n",
       "      <td>90</td>\n",
       "      <td>RL</td>\n",
       "      <td>60.0</td>\n",
       "      <td>12900</td>\n",
       "      <td>Pave</td>\n",
       "      <td>NaN</td>\n",
       "      <td>Lvl</td>\n",
       "      <td>AllPub</td>\n",
       "      <td>Inside</td>\n",
       "      <td>...</td>\n",
       "      <td>0</td>\n",
       "      <td>0</td>\n",
       "      <td>0</td>\n",
       "      <td>NaN</td>\n",
       "      <td>0</td>\n",
       "      <td>1</td>\n",
       "      <td>2008</td>\n",
       "      <td>WD</td>\n",
       "      <td>0</td>\n",
       "      <td>0</td>\n",
       "    </tr>\n",
       "    <tr>\n",
       "      <th>566</th>\n",
       "      <td>905103140</td>\n",
       "      <td>80</td>\n",
       "      <td>RL</td>\n",
       "      <td>96.0</td>\n",
       "      <td>11777</td>\n",
       "      <td>Pave</td>\n",
       "      <td>NaN</td>\n",
       "      <td>Lvl</td>\n",
       "      <td>AllPub</td>\n",
       "      <td>Inside</td>\n",
       "      <td>...</td>\n",
       "      <td>0</td>\n",
       "      <td>0</td>\n",
       "      <td>0</td>\n",
       "      <td>NaN</td>\n",
       "      <td>0</td>\n",
       "      <td>5</td>\n",
       "      <td>2006</td>\n",
       "      <td>WD</td>\n",
       "      <td>0</td>\n",
       "      <td>0</td>\n",
       "    </tr>\n",
       "    <tr>\n",
       "      <th>1707</th>\n",
       "      <td>902108060</td>\n",
       "      <td>70</td>\n",
       "      <td>RM</td>\n",
       "      <td>66.0</td>\n",
       "      <td>3960</td>\n",
       "      <td>Pave</td>\n",
       "      <td>Grvl</td>\n",
       "      <td>Lvl</td>\n",
       "      <td>AllPub</td>\n",
       "      <td>Inside</td>\n",
       "      <td>...</td>\n",
       "      <td>0</td>\n",
       "      <td>0</td>\n",
       "      <td>0</td>\n",
       "      <td>NaN</td>\n",
       "      <td>0</td>\n",
       "      <td>7</td>\n",
       "      <td>2006</td>\n",
       "      <td>WD</td>\n",
       "      <td>1</td>\n",
       "      <td>0</td>\n",
       "    </tr>\n",
       "    <tr>\n",
       "      <th>1858</th>\n",
       "      <td>907255050</td>\n",
       "      <td>20</td>\n",
       "      <td>RL</td>\n",
       "      <td>0.0</td>\n",
       "      <td>14781</td>\n",
       "      <td>Pave</td>\n",
       "      <td>NaN</td>\n",
       "      <td>Lvl</td>\n",
       "      <td>AllPub</td>\n",
       "      <td>CulDSac</td>\n",
       "      <td>...</td>\n",
       "      <td>0</td>\n",
       "      <td>0</td>\n",
       "      <td>0</td>\n",
       "      <td>NaN</td>\n",
       "      <td>0</td>\n",
       "      <td>8</td>\n",
       "      <td>2006</td>\n",
       "      <td>WD</td>\n",
       "      <td>0</td>\n",
       "      <td>0</td>\n",
       "    </tr>\n",
       "    <tr>\n",
       "      <th>1983</th>\n",
       "      <td>526351030</td>\n",
       "      <td>20</td>\n",
       "      <td>RL</td>\n",
       "      <td>87.0</td>\n",
       "      <td>11029</td>\n",
       "      <td>Pave</td>\n",
       "      <td>NaN</td>\n",
       "      <td>Lvl</td>\n",
       "      <td>AllPub</td>\n",
       "      <td>Corner</td>\n",
       "      <td>...</td>\n",
       "      <td>190</td>\n",
       "      <td>0</td>\n",
       "      <td>0</td>\n",
       "      <td>NaN</td>\n",
       "      <td>0</td>\n",
       "      <td>5</td>\n",
       "      <td>2008</td>\n",
       "      <td>WD</td>\n",
       "      <td>0</td>\n",
       "      <td>0</td>\n",
       "    </tr>\n",
       "    <tr>\n",
       "      <th>1432</th>\n",
       "      <td>923204140</td>\n",
       "      <td>90</td>\n",
       "      <td>RL</td>\n",
       "      <td>100.0</td>\n",
       "      <td>25000</td>\n",
       "      <td>Pave</td>\n",
       "      <td>NaN</td>\n",
       "      <td>Low</td>\n",
       "      <td>AllPub</td>\n",
       "      <td>Inside</td>\n",
       "      <td>...</td>\n",
       "      <td>0</td>\n",
       "      <td>0</td>\n",
       "      <td>0</td>\n",
       "      <td>NaN</td>\n",
       "      <td>0</td>\n",
       "      <td>6</td>\n",
       "      <td>2007</td>\n",
       "      <td>WD</td>\n",
       "      <td>0</td>\n",
       "      <td>0</td>\n",
       "    </tr>\n",
       "    <tr>\n",
       "      <th>19</th>\n",
       "      <td>528458070</td>\n",
       "      <td>60</td>\n",
       "      <td>FV</td>\n",
       "      <td>72.0</td>\n",
       "      <td>8640</td>\n",
       "      <td>Pave</td>\n",
       "      <td>NaN</td>\n",
       "      <td>Lvl</td>\n",
       "      <td>AllPub</td>\n",
       "      <td>Inside</td>\n",
       "      <td>...</td>\n",
       "      <td>0</td>\n",
       "      <td>0</td>\n",
       "      <td>0</td>\n",
       "      <td>NaN</td>\n",
       "      <td>0</td>\n",
       "      <td>6</td>\n",
       "      <td>2010</td>\n",
       "      <td>Con</td>\n",
       "      <td>0</td>\n",
       "      <td>0</td>\n",
       "    </tr>\n",
       "    <tr>\n",
       "      <th>1770</th>\n",
       "      <td>905475510</td>\n",
       "      <td>20</td>\n",
       "      <td>RL</td>\n",
       "      <td>0.0</td>\n",
       "      <td>11200</td>\n",
       "      <td>Pave</td>\n",
       "      <td>NaN</td>\n",
       "      <td>Lvl</td>\n",
       "      <td>AllPub</td>\n",
       "      <td>CulDSac</td>\n",
       "      <td>...</td>\n",
       "      <td>0</td>\n",
       "      <td>0</td>\n",
       "      <td>0</td>\n",
       "      <td>NaN</td>\n",
       "      <td>0</td>\n",
       "      <td>6</td>\n",
       "      <td>2010</td>\n",
       "      <td>COD</td>\n",
       "      <td>0</td>\n",
       "      <td>0</td>\n",
       "    </tr>\n",
       "  </tbody>\n",
       "</table>\n",
       "<p>12 rows × 79 columns</p>\n",
       "</div>"
      ],
      "text/plain": [
       "            pid  ms_subclass ms_zoning  lot_frontage  lot_area street alley  \\\n",
       "559   907290230          120        RM          37.0      4435   Pave   NaN   \n",
       "495   903430050           50        RM          40.0      5680   Pave  Grvl   \n",
       "1136  527252070           20        RL          60.0      8089   Pave   NaN   \n",
       "1230  527359070           60        RL          80.0     10480   Pave   NaN   \n",
       "744   905200090           90        RL          60.0     12900   Pave   NaN   \n",
       "566   905103140           80        RL          96.0     11777   Pave   NaN   \n",
       "1707  902108060           70        RM          66.0      3960   Pave  Grvl   \n",
       "1858  907255050           20        RL           0.0     14781   Pave   NaN   \n",
       "1983  526351030           20        RL          87.0     11029   Pave   NaN   \n",
       "1432  923204140           90        RL         100.0     25000   Pave   NaN   \n",
       "19    528458070           60        FV          72.0      8640   Pave   NaN   \n",
       "1770  905475510           20        RL           0.0     11200   Pave   NaN   \n",
       "\n",
       "     land_contour utilities lot_config  ... screen_porch pool_area pool_qc  \\\n",
       "559           Lvl    AllPub     Inside  ...            0         0       0   \n",
       "495           Lvl    AllPub     Inside  ...            0         0       0   \n",
       "1136          HLS    AllPub     Inside  ...            0         0       0   \n",
       "1230          Lvl    AllPub     Inside  ...            0         0       0   \n",
       "744           Lvl    AllPub     Inside  ...            0         0       0   \n",
       "566           Lvl    AllPub     Inside  ...            0         0       0   \n",
       "1707          Lvl    AllPub     Inside  ...            0         0       0   \n",
       "1858          Lvl    AllPub    CulDSac  ...            0         0       0   \n",
       "1983          Lvl    AllPub     Corner  ...          190         0       0   \n",
       "1432          Low    AllPub     Inside  ...            0         0       0   \n",
       "19            Lvl    AllPub     Inside  ...            0         0       0   \n",
       "1770          Lvl    AllPub    CulDSac  ...            0         0       0   \n",
       "\n",
       "     misc_feature misc_val mo_sold  yr_sold  sale_type  fence_private  \\\n",
       "559           NaN        0       5     2006        WD               0   \n",
       "495           NaN        0       9     2007        WD               1   \n",
       "1136          NaN        0      10     2007        New              0   \n",
       "1230          NaN        0       9     2008        WD               0   \n",
       "744           NaN        0       1     2008        WD               0   \n",
       "566           NaN        0       5     2006        WD               0   \n",
       "1707          NaN        0       7     2006        WD               1   \n",
       "1858          NaN        0       8     2006        WD               0   \n",
       "1983          NaN        0       5     2008        WD               0   \n",
       "1432          NaN        0       6     2007        WD               0   \n",
       "19            NaN        0       6     2010        Con              0   \n",
       "1770          NaN        0       6     2010        COD              0   \n",
       "\n",
       "      fence_wood  \n",
       "559            0  \n",
       "495            0  \n",
       "1136           0  \n",
       "1230           0  \n",
       "744            0  \n",
       "566            0  \n",
       "1707           0  \n",
       "1858           0  \n",
       "1983           0  \n",
       "1432           0  \n",
       "19             0  \n",
       "1770           0  \n",
       "\n",
       "[12 rows x 79 columns]"
      ]
     },
     "execution_count": 35,
     "metadata": {},
     "output_type": "execute_result"
    }
   ],
   "source": [
    "df2.sample(12)"
   ]
  },
  {
   "cell_type": "code",
   "execution_count": 36,
   "metadata": {},
   "outputs": [],
   "source": [
    "X = df2.copy()"
   ]
  },
  {
   "cell_type": "code",
   "execution_count": 37,
   "metadata": {},
   "outputs": [],
   "source": [
    "X_train,X_test,y_train,y_test = train_test_split(X,df['saleprice'],random_state=512)"
   ]
  },
  {
   "cell_type": "code",
   "execution_count": null,
   "metadata": {},
   "outputs": [],
   "source": []
  },
  {
   "cell_type": "markdown",
   "metadata": {},
   "source": [
    "## One hot Encoding categorical features"
   ]
  },
  {
   "cell_type": "code",
   "execution_count": 44,
   "metadata": {},
   "outputs": [],
   "source": [
    "cat_features = ['mas_vnr_type','bsmt_exposure','garage_type','alley','misc_feature',\n",
    "                'land_contour','ms_subclass','ms_zoning','street','neighborhood',\n",
    "                'condition_2','bldg_type', 'house_style','roof_style','roof_matl',\n",
    "                'exterior_1st','exterior_2nd','foundation',\n",
    "               'central_air','electrical','sale_type','condition_1','utilities','lot_config','land_slope',\n",
    "               'heating','paved_drive','mo_sold']\n",
    "ct = ColumnTransformer([('oh', OneHotEncoder(sparse_output=False, handle_unknown='ignore', drop='first'), cat_features)\n",
    "], remainder='passthrough')"
   ]
  },
  {
   "cell_type": "code",
   "execution_count": 45,
   "metadata": {},
   "outputs": [
    {
     "name": "stderr",
     "output_type": "stream",
     "text": [
      "c:\\Users\\seanh\\anaconda3\\Lib\\site-packages\\sklearn\\preprocessing\\_encoders.py:202: UserWarning: Found unknown categories in columns [4, 7, 14, 15, 19, 22] during transform. These unknown categories will be encoded as all zeros\n",
      "  warnings.warn(\n"
     ]
    }
   ],
   "source": [
    "X_train_dummy = pd.DataFrame(ct.fit_transform(X_train),columns=ct.get_feature_names_out())\n",
    "X_test_dummy = pd.DataFrame(ct.transform(X_test),columns=ct.get_feature_names_out())"
   ]
  },
  {
   "cell_type": "code",
   "execution_count": 46,
   "metadata": {},
   "outputs": [
    {
     "data": {
      "text/plain": [
       "(1538, 224)"
      ]
     },
     "execution_count": 46,
     "metadata": {},
     "output_type": "execute_result"
    }
   ],
   "source": [
    "X_train_dummy.shape"
   ]
  },
  {
   "cell_type": "code",
   "execution_count": 47,
   "metadata": {},
   "outputs": [
    {
     "data": {
      "text/plain": [
       "(513, 224)"
      ]
     },
     "execution_count": 47,
     "metadata": {},
     "output_type": "execute_result"
    }
   ],
   "source": [
    "X_test_dummy.shape"
   ]
  },
  {
   "cell_type": "markdown",
   "metadata": {},
   "source": [
    "For feature engineering I decided to make new columns that represent the presence of the specific amenity multiplied by a factor representing the effect of quality on value. I attempted that and made it standard in my .py file so it can be easily modified!"
   ]
  },
  {
   "cell_type": "code",
   "execution_count": 48,
   "metadata": {},
   "outputs": [],
   "source": [
    "X_train_multiplied = multiplier_attempt3(X_train_dummy)\n",
    "X_test_multiplied = multiplier_attempt3(X_test_dummy)"
   ]
  },
  {
   "cell_type": "code",
   "execution_count": 55,
   "metadata": {},
   "outputs": [
    {
     "data": {
      "text/plain": [
       "234"
      ]
     },
     "execution_count": 55,
     "metadata": {},
     "output_type": "execute_result"
    }
   ],
   "source": [
    "len(X_test_multiplied.columns)"
   ]
  },
  {
   "cell_type": "code",
   "execution_count": null,
   "metadata": {},
   "outputs": [],
   "source": []
  },
  {
   "cell_type": "code",
   "execution_count": null,
   "metadata": {},
   "outputs": [],
   "source": []
  },
  {
   "cell_type": "code",
   "execution_count": null,
   "metadata": {},
   "outputs": [],
   "source": []
  }
 ],
 "metadata": {
  "kernelspec": {
   "display_name": "base",
   "language": "python",
   "name": "python3"
  },
  "language_info": {
   "codemirror_mode": {
    "name": "ipython",
    "version": 3
   },
   "file_extension": ".py",
   "mimetype": "text/x-python",
   "name": "python",
   "nbconvert_exporter": "python",
   "pygments_lexer": "ipython3",
   "version": "3.11.5"
  }
 },
 "nbformat": 4,
 "nbformat_minor": 2
}
